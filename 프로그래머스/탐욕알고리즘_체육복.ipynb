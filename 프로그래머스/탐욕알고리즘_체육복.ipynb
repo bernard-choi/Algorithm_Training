{
 "cells": [
  {
   "cell_type": "markdown",
   "metadata": {},
   "source": [
    "## 탐욕법\n",
    "- 알고리즘의 각 단계에서 그 순간에 최적이라고 생각되는 것을 선택\n",
    "- (탐욕법으로 최적해를 찾을 수 있는 문제)\n",
    "- 현재의 선택이 마지막 해답의 최적성을 해치지 않을때\n",
    "\n",
    "\n",
    "## 해결방법 (1)\n",
    "- 학생 수만큼 배열을 확보하고, 여기에 각자가 가지고 있는 체육복의 수를 기록한다.\n",
    "- 번호 순서대로 '스캔'하면서 빌려줄 관계를 정한다. \n",
    "\n",
    "\n",
    "## 알고리즘의 복잡도\n",
    "- 여벌을 가져온 학생 처리: reserve의 길이에 비례\n",
    "- 체육복을 잃어버린 학생 처리: lost의 길이에 비례\n",
    "\n",
    "## 해결방법(2)\n",
    "- 만약 학생 수가 매우 크다면?\n",
    "- 여벌의 체육복을 가져온 학생이 매우 적다면?\n",
    "- 여벌의 체육복을 정렬. 이것을 하나하나 순서데로 살펴보며 빌려줄 수 있는 학생을 처리.\n",
    "\n",
    "## 알고리즘의 복잡도\n",
    "- 여벌의 체육복을 가져온 학생들의 번호(reserve)를 정렬-> klogk\n",
    "- 체육복을 빌려줄 수 있는 학생을 찾아 처리 -> K x 1\n",
    "- 전체 klogk"
   ]
  },
  {
   "cell_type": "code",
   "execution_count": null,
   "metadata": {},
   "outputs": [],
   "source": []
  }
 ],
 "metadata": {
  "kernelspec": {
   "display_name": "Python 3",
   "language": "python",
   "name": "python3"
  },
  "language_info": {
   "codemirror_mode": {
    "name": "ipython",
    "version": 3
   },
   "file_extension": ".py",
   "mimetype": "text/x-python",
   "name": "python",
   "nbconvert_exporter": "python",
   "pygments_lexer": "ipython3",
   "version": "3.7.4"
  }
 },
 "nbformat": 4,
 "nbformat_minor": 2
}
