{
 "cells": [
  {
   "cell_type": "code",
   "execution_count": null,
   "metadata": {},
   "outputs": [],
   "source": [
    "def solution(participant,completion): \n",
    "    d = {}\n",
    "    for x in participant:\n",
    "        d[x] = d.get(x,0) + 1\n",
    "        \n",
    "    for x in completion:\n",
    "        d[x] -= 1\n",
    "        \n",
    "    dnf = [k for k, v in d.items() if v > 0] ## key를 담는다. \n",
    "    answer = dnf[0]\n",
    "   \n",
    "    return answer"
   ]
  }
 ],
 "metadata": {
  "kernelspec": {
   "display_name": "Python 3",
   "language": "python",
   "name": "python3"
  },
  "language_info": {
   "codemirror_mode": {
    "name": "ipython",
    "version": 3
   },
   "file_extension": ".py",
   "mimetype": "text/x-python",
   "name": "python",
   "nbconvert_exporter": "python",
   "pygments_lexer": "ipython3",
   "version": "3.7.4"
  }
 },
 "nbformat": 4,
 "nbformat_minor": 2
}
