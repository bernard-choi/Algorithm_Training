{
 "cells": [
  {
   "cell_type": "code",
   "execution_count": 1,
   "metadata": {},
   "outputs": [],
   "source": [
    "def balance(s):\n",
    "    count = 0\n",
    "    for i in range(len(s)):\n",
    "        if s[i]== \"(\":\n",
    "            count += 1\n",
    "        else:\n",
    "            count -= 1\n",
    "            \n",
    "        if count == 0:\n",
    "            break\n",
    "    \n",
    "    return i\n",
    "    \n",
    "    "
   ]
  },
  {
   "cell_type": "code",
   "execution_count": 5,
   "metadata": {},
   "outputs": [],
   "source": [
    "def right(s):\n",
    "    count1 = 0\n",
    "    count2 = 0\n",
    "    \n",
    "    for i in range(len(s)):\n",
    "        if s[i] == \"(\":\n",
    "            count1 += 1\n",
    "        else:\n",
    "            count2 += 1\n",
    "\n",
    "        if count1 - count2 <0:\n",
    "            return False\n",
    "        \n",
    "    if count1 - count2 != 0:\n",
    "        return False\n",
    "\n",
    "    return True"
   ]
  },
  {
   "cell_type": "code",
   "execution_count": 44,
   "metadata": {},
   "outputs": [],
   "source": [
    "def do(s):\n",
    "    answer = ''\n",
    "    if s == '':\n",
    "        return answer\n",
    "    \n",
    "    index = balance(s)\n",
    "    \n",
    "    u = s[:index+1]\n",
    "    v = s[index+1:]\n",
    "    \n",
    "    if right(u):\n",
    "        answer = u + do(v)\n",
    "    \n",
    "    else:\n",
    "        answer = ''\n",
    "        answer += '('\n",
    "        answer += do(v)\n",
    "        answer += ')'\n",
    "        temp = list(u[1:-1])\n",
    "        for i in range(len(temp)):\n",
    "            if temp[i] == '(':\n",
    "                temp[i] = ')'\n",
    "            else:\n",
    "                temp[i] = '('\n",
    "        temp = ''.join(temp)   \n",
    "        answer += temp\n",
    "        \n",
    "    return answer"
   ]
  },
  {
   "cell_type": "code",
   "execution_count": 45,
   "metadata": {},
   "outputs": [
    {
     "data": {
      "text/plain": [
       "'()(())()'"
      ]
     },
     "execution_count": 45,
     "metadata": {},
     "output_type": "execute_result"
    }
   ],
   "source": [
    "do(s)"
   ]
  }
 ],
 "metadata": {
  "kernelspec": {
   "display_name": "Python 3",
   "language": "python",
   "name": "python3"
  },
  "language_info": {
   "codemirror_mode": {
    "name": "ipython",
    "version": 3
   },
   "file_extension": ".py",
   "mimetype": "text/x-python",
   "name": "python",
   "nbconvert_exporter": "python",
   "pygments_lexer": "ipython3",
   "version": "3.7.4"
  }
 },
 "nbformat": 4,
 "nbformat_minor": 2
}
