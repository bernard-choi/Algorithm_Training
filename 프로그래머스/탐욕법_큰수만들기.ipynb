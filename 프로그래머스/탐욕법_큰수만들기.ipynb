{
 "cells": [
  {
   "cell_type": "code",
   "execution_count": 90,
   "metadata": {},
   "outputs": [],
   "source": [
    "def solution(number, k):\n",
    "    collected = []\n",
    "\n",
    "    \n",
    "    for i,x in enumerate(number):\n",
    "        while len(collected) > 0 and collected[-1] < x and k >0: \n",
    "            ## 넣기 직전의 숫자와 비교. 만약 넣으려는 숫자보다 작으면 삭제. \n",
    "            ## 넣으려는 숫자보다 큰 숫자 나올때까지 반복. \n",
    "            ## 4 1 -> 1 < 7 이므로 1 삭제\n",
    "            ## 4 -> 4< 7 이므로 4 삭제\n",
    "            ## 7\n",
    "            collected.pop()\n",
    "            k -= 1\n",
    "        if k == 0:\n",
    "            collected += list(number[i:])\n",
    "            break\n",
    "            \n",
    "        collected.append(x)\n",
    "        \n",
    "    collected = collected[:-k] if k>0 else collected\n",
    "    answer = ''.join(collected)\n",
    "                \n",
    "\n",
    "    \n",
    "    return answer\n",
    "\n",
    "solution('4177252841',4)"
   ]
  }
 ],
 "metadata": {
  "kernelspec": {
   "display_name": "Python 3",
   "language": "python",
   "name": "python3"
  },
  "language_info": {
   "codemirror_mode": {
    "name": "ipython",
    "version": 3
   },
   "file_extension": ".py",
   "mimetype": "text/x-python",
   "name": "python",
   "nbconvert_exporter": "python",
   "pygments_lexer": "ipython3",
   "version": "3.7.6"
  }
 },
 "nbformat": 4,
 "nbformat_minor": 2
}
