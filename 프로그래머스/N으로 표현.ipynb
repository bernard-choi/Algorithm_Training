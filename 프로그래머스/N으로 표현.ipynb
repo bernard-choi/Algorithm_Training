{
 "cells": [
  {
   "cell_type": "code",
   "execution_count": 160,
   "metadata": {},
   "outputs": [],
   "source": [
    "def solution(N, number):\n",
    "    my_set = [set() for x in range(8)]\n",
    "    for i in range(8):\n",
    "        my_set[i].add(int(str(N)*(i+1)))\n",
    "\n",
    "        \n",
    "    for i in range(1,len(my_set)):\n",
    "        for j in range(i):\n",
    "            for k in my_set[j]:\n",
    "                for l in my_set[i-j-1]:\n",
    "                    my_set[i].add(k-l)\n",
    "                    my_set[i].add(k+l)\n",
    "                    my_set[i].add(k*l)\n",
    "                    if l != 0:\n",
    "                        my_set[i].add(k//l)\n",
    "                    \n",
    "        if number in my_set[i]:\n",
    "            answer = i+1\n",
    "            return answer \n",
    "    \n",
    "    answer = -1\n",
    "    return answer\n",
    "\n"
   ]
  }
 ],
 "metadata": {
  "kernelspec": {
   "display_name": "Python 3",
   "language": "python",
   "name": "python3"
  },
  "language_info": {
   "codemirror_mode": {
    "name": "ipython",
    "version": 3
   },
   "file_extension": ".py",
   "mimetype": "text/x-python",
   "name": "python",
   "nbconvert_exporter": "python",
   "pygments_lexer": "ipython3",
   "version": "3.7.4"
  }
 },
 "nbformat": 4,
 "nbformat_minor": 2
}
