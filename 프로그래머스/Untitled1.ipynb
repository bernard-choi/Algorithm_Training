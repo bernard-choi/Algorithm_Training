{
 "cells": [
  {
   "cell_type": "code",
   "execution_count": 12,
   "metadata": {},
   "outputs": [],
   "source": [
    "def solution(tickets):\n",
    "    start = [x for x in tickets if x[0]=='ICN']\n",
    "    return answer"
   ]
  },
  {
   "cell_type": "code",
   "execution_count": 32,
   "metadata": {},
   "outputs": [],
   "source": [
    "tickets = [[\"ICN\", \"SFO\"], [\"ICN\", \"ATL\"], [\"SFO\", \"ATL\"], [\"ATL\", \"ICN\"], [\"ATL\",\"SFO\"]]"
   ]
  },
  {
   "cell_type": "code",
   "execution_count": 49,
   "metadata": {},
   "outputs": [],
   "source": [
    "answer_list = []\n",
    "def do(tickets,start,path = [],visited = []):\n",
    "    dstn = [x for x in tickets if (x[0]==start) and (x not in visited)]\n",
    "\n",
    "    if not dstn:\n",
    "        if len(visited) == len(tickets):\n",
    "            answer_list.append(path)\n",
    "            \n",
    "        return\n",
    "\n",
    "        \n",
    "    for i in range(len(dstn)):\n",
    "        do(tickets,dstn[i][1],path + [dstn[i][1]],visited+[dstn[i]])"
   ]
  },
  {
   "cell_type": "code",
   "execution_count": 50,
   "metadata": {},
   "outputs": [
    {
     "name": "stdout",
     "output_type": "stream",
     "text": [
      "[]\n",
      "['SFO']\n",
      "['SFO', 'ATL']\n",
      "['SFO', 'ATL', 'ICN']\n",
      "['SFO', 'ATL', 'ICN', 'ATL']\n",
      "['SFO', 'ATL', 'ICN', 'ATL', 'SFO']\n",
      "['SFO', 'ATL', 'SFO']\n",
      "['ATL']\n",
      "['ATL', 'ICN']\n",
      "['ATL', 'ICN', 'SFO']\n",
      "['ATL', 'ICN', 'SFO', 'ATL']\n",
      "['ATL', 'ICN', 'SFO', 'ATL', 'SFO']\n",
      "['ATL', 'SFO']\n",
      "['ATL', 'SFO', 'ATL']\n",
      "['ATL', 'SFO', 'ATL', 'ICN']\n",
      "['ATL', 'SFO', 'ATL', 'ICN', 'SFO']\n"
     ]
    }
   ],
   "source": [
    "do(tickets,'ICN',path = [],visited = [])"
   ]
  },
  {
   "cell_type": "code",
   "execution_count": 45,
   "metadata": {},
   "outputs": [],
   "source": [
    "answer_list.sort()"
   ]
  },
  {
   "cell_type": "code",
   "execution_count": null,
   "metadata": {},
   "outputs": [],
   "source": []
  },
  {
   "cell_type": "code",
   "execution_count": 46,
   "metadata": {},
   "outputs": [],
   "source": [
    "answer_list[0].insert(0,'ICN')"
   ]
  },
  {
   "cell_type": "code",
   "execution_count": 47,
   "metadata": {},
   "outputs": [
    {
     "data": {
      "text/plain": [
       "['ICN', 'ATL', 'ICN', 'SFO', 'ATL', 'SFO']"
      ]
     },
     "execution_count": 47,
     "metadata": {},
     "output_type": "execute_result"
    }
   ],
   "source": [
    "answer_list[0]"
   ]
  },
  {
   "cell_type": "code",
   "execution_count": 48,
   "metadata": {},
   "outputs": [
    {
     "data": {
      "text/plain": [
       "[['ICN', 'ATL', 'ICN', 'SFO', 'ATL', 'SFO'],\n",
       " ['ATL', 'SFO', 'ATL', 'ICN', 'SFO'],\n",
       " ['SFO', 'ATL', 'ICN', 'ATL', 'SFO']]"
      ]
     },
     "execution_count": 48,
     "metadata": {},
     "output_type": "execute_result"
    }
   ],
   "source": [
    "answer_list"
   ]
  },
  {
   "cell_type": "code",
   "execution_count": null,
   "metadata": {},
   "outputs": [],
   "source": []
  }
 ],
 "metadata": {
  "kernelspec": {
   "display_name": "Python 3",
   "language": "python",
   "name": "python3"
  },
  "language_info": {
   "codemirror_mode": {
    "name": "ipython",
    "version": 3
   },
   "file_extension": ".py",
   "mimetype": "text/x-python",
   "name": "python",
   "nbconvert_exporter": "python",
   "pygments_lexer": "ipython3",
   "version": "3.7.4"
  }
 },
 "nbformat": 4,
 "nbformat_minor": 2
}
