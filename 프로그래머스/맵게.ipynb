{
 "cells": [
  {
   "cell_type": "markdown",
   "metadata": {},
   "source": [
    "**최악의 경우**\n",
    "* 수가 하나 남을 때까지 섞어야 하는 경우(n)\n",
    "\n",
    "**각 단계에서 요구되는 계산량**\n",
    "* 장렬된 리스트에 순서 맞추어 원소 삽입\n",
    "- O(logn)\n",
    "\n",
    "**전체 문제 풀이의 복잡도**\n",
    "- O(n^logn)\n",
    "\n",
    "**힙**\n",
    "- 성질: 최대/최소 원소를 빠르게 찾을 수 있음\n",
    "- 연산 : 힙 구성(nlongn), 삽입(olog(n)), 삭제(o(log(n)))\n"
   ]
  },
  {
   "cell_type": "code",
   "execution_count": null,
   "metadata": {},
   "outputs": [],
   "source": [
    "## 힙(정렬, 우선순위큐)\n",
    "## 성질: 최대/최소 원소를 빠르게 찾을 수 있음\n",
    "## 힙구성 : O(NlongN)\n",
    "## 삽입 : O(longN)\n",
    "## 삭제 : O(logN)\n",
    "## complete binary tree -> 배열을 이용해서 구현 가능"
   ]
  },
  {
   "cell_type": "code",
   "execution_count": null,
   "metadata": {},
   "outputs": [],
   "source": [
    "## python에서 힙 적용을 위해서는 \n",
    "## import heapq \n",
    "## heapq.heapify(L) : 리스트 L로부터 min heap구성\n",
    "## m = heapq.heappop(L) : min heap에서 최소값 삭제 (반환)\n",
    "## heapq.heappush(L,x) : min heap L에 원소 삽입"
   ]
  },
  {
   "cell_type": "code",
   "execution_count": 45,
   "metadata": {},
   "outputs": [],
   "source": [
    "import heapq\n",
    "\n",
    "def solution(scoville, K):\n",
    "    heapq.heapify(scoville)\n",
    "    answer = 0\n",
    "\n",
    "    while True:\n",
    "        \n",
    "        m1 = heapq.heappop(scoville)\n",
    "        \n",
    "        if m1 >= K:\n",
    "            break\n",
    "\n",
    "\n",
    "        elif len(scoville) == 0:\n",
    "            answer = -1\n",
    "            break\n",
    "        \n",
    "        answer += 1        \n",
    "        m2 = heapq.heappop(scoville)\n",
    "        new_scoville = m1 + 2*m,2\n",
    "        heapq.heappush(scoville,new_scoville)\n",
    "        \n",
    "    return answer\n",
    "        \n"
   ]
  },
  {
   "cell_type": "code",
   "execution_count": 15,
   "metadata": {},
   "outputs": [],
   "source": [
    "scoville = [1, 2, 3, 9, 10, 12]\n",
    "K = 7"
   ]
  },
  {
   "cell_type": "code",
   "execution_count": 39,
   "metadata": {},
   "outputs": [],
   "source": [
    "scoville = [1]"
   ]
  },
  {
   "cell_type": "code",
   "execution_count": 40,
   "metadata": {},
   "outputs": [],
   "source": [
    "import heapq\n",
    "\n",
    "def solution(scoville, K):\n",
    "    answer = 0\n",
    "    heapq.heapify(scoville)\n",
    "    size = len(scoville)\n",
    "    \n",
    "    while answer < size:\n",
    "\n",
    "        m1 = heapq.heappop(scoville)\n",
    "\n",
    "        if m1 >= K:\n",
    "            return answer\n",
    "        \n",
    "        m2 = heapq.heappop(scoville)\n",
    "        heapq.heappush(scoville, m1 + 2 * m2)\n",
    "        \n",
    "        answer += 1\n",
    "        \n",
    "    \n",
    "        \n",
    "    \n",
    "    return -1"
   ]
  },
  {
   "cell_type": "code",
   "execution_count": 41,
   "metadata": {},
   "outputs": [
    {
     "ename": "IndexError",
     "evalue": "index out of range",
     "output_type": "error",
     "traceback": [
      "\u001b[0;31m---------------------------------------------------------------------------\u001b[0m",
      "\u001b[0;31mIndexError\u001b[0m                                Traceback (most recent call last)",
      "\u001b[0;32m<ipython-input-41-f4fdc647ca85>\u001b[0m in \u001b[0;36m<module>\u001b[0;34m\u001b[0m\n\u001b[0;32m----> 1\u001b[0;31m \u001b[0msolution\u001b[0m\u001b[0;34m(\u001b[0m\u001b[0mscoville\u001b[0m\u001b[0;34m,\u001b[0m\u001b[0mK\u001b[0m\u001b[0;34m)\u001b[0m\u001b[0;34m\u001b[0m\u001b[0;34m\u001b[0m\u001b[0m\n\u001b[0m",
      "\u001b[0;32m<ipython-input-40-a092db472b78>\u001b[0m in \u001b[0;36msolution\u001b[0;34m(scoville, K)\u001b[0m\n\u001b[1;32m     13\u001b[0m             \u001b[0;32mreturn\u001b[0m \u001b[0manswer\u001b[0m\u001b[0;34m\u001b[0m\u001b[0;34m\u001b[0m\u001b[0m\n\u001b[1;32m     14\u001b[0m \u001b[0;34m\u001b[0m\u001b[0m\n\u001b[0;32m---> 15\u001b[0;31m         \u001b[0mm2\u001b[0m \u001b[0;34m=\u001b[0m \u001b[0mheapq\u001b[0m\u001b[0;34m.\u001b[0m\u001b[0mheappop\u001b[0m\u001b[0;34m(\u001b[0m\u001b[0mscoville\u001b[0m\u001b[0;34m)\u001b[0m\u001b[0;34m\u001b[0m\u001b[0;34m\u001b[0m\u001b[0m\n\u001b[0m\u001b[1;32m     16\u001b[0m         \u001b[0mheapq\u001b[0m\u001b[0;34m.\u001b[0m\u001b[0mheappush\u001b[0m\u001b[0;34m(\u001b[0m\u001b[0mscoville\u001b[0m\u001b[0;34m,\u001b[0m \u001b[0mm1\u001b[0m \u001b[0;34m+\u001b[0m \u001b[0;36m2\u001b[0m \u001b[0;34m*\u001b[0m \u001b[0mm2\u001b[0m\u001b[0;34m)\u001b[0m\u001b[0;34m\u001b[0m\u001b[0;34m\u001b[0m\u001b[0m\n\u001b[1;32m     17\u001b[0m \u001b[0;34m\u001b[0m\u001b[0m\n",
      "\u001b[0;31mIndexError\u001b[0m: index out of range"
     ]
    }
   ],
   "source": [
    "solution(scoville,K)"
   ]
  },
  {
   "cell_type": "code",
   "execution_count": null,
   "metadata": {},
   "outputs": [],
   "source": []
  }
 ],
 "metadata": {
  "kernelspec": {
   "display_name": "Python 3",
   "language": "python",
   "name": "python3"
  },
  "language_info": {
   "codemirror_mode": {
    "name": "ipython",
    "version": 3
   },
   "file_extension": ".py",
   "mimetype": "text/x-python",
   "name": "python",
   "nbconvert_exporter": "python",
   "pygments_lexer": "ipython3",
   "version": "3.7.4"
  }
 },
 "nbformat": 4,
 "nbformat_minor": 2
}
