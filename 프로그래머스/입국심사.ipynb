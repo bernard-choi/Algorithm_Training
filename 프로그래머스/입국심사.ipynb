{
 "cells": [
  {
   "cell_type": "code",
   "execution_count": 88,
   "metadata": {},
   "outputs": [],
   "source": [
    "n = 6\n",
    "times = [7,10]"
   ]
  },
  {
   "cell_type": "code",
   "execution_count": 89,
   "metadata": {},
   "outputs": [],
   "source": [
    "a = max(times)*6"
   ]
  },
  {
   "cell_type": "code",
   "execution_count": 90,
   "metadata": {},
   "outputs": [
    {
     "data": {
      "text/plain": [
       "60"
      ]
     },
     "execution_count": 90,
     "metadata": {},
     "output_type": "execute_result"
    }
   ],
   "source": [
    "a"
   ]
  },
  {
   "cell_type": "code",
   "execution_count": 109,
   "metadata": {},
   "outputs": [],
   "source": [
    "a = max(times)*n\n",
    "def binary_search(start,end,target,times):\n",
    "\n",
    "\n",
    "    while start <= end: ## start랑 end가 같아지면\n",
    "        mid = (start+end)//2\n",
    "\n",
    "        answer = 0\n",
    "\n",
    "        for i in range(len(times)):\n",
    "            answer += mid // times[i]\n",
    "\n",
    "\n",
    "        \n",
    "        if answer >= target:\n",
    "            aa = mid\n",
    "            end = mid - 1 ## 왼쪽으로\n",
    "\n",
    "        else:\n",
    "            start = mid + 1 ## 오른쪽으로\n",
    "\n",
    "    return aa"
   ]
  },
  {
   "cell_type": "code",
   "execution_count": 110,
   "metadata": {},
   "outputs": [
    {
     "data": {
      "text/plain": [
       "28"
      ]
     },
     "execution_count": 110,
     "metadata": {},
     "output_type": "execute_result"
    }
   ],
   "source": [
    "binary_search(1,a,n,times)"
   ]
  }
 ],
 "metadata": {
  "kernelspec": {
   "display_name": "Python 3",
   "language": "python",
   "name": "python3"
  },
  "language_info": {
   "codemirror_mode": {
    "name": "ipython",
    "version": 3
   },
   "file_extension": ".py",
   "mimetype": "text/x-python",
   "name": "python",
   "nbconvert_exporter": "python",
   "pygments_lexer": "ipython3",
   "version": "3.7.4"
  }
 },
 "nbformat": 4,
 "nbformat_minor": 2
}
