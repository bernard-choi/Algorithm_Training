{
 "cells": [
  {
   "cell_type": "code",
   "execution_count": null,
   "metadata": {},
   "outputs": [],
   "source": [
    "## 힙(정렬, 우선순위큐)\n",
    "## 성질: 최대/최소 원소를 빠르게 찾을 수 있음\n",
    "## 힙구성 : O(NlongN)\n",
    "## 삽입 : O(longN)\n",
    "## 삭제 : O(logN)\n",
    "## complete binary tree -> 배열을 이용해서 구현 가능"
   ]
  },
  {
   "cell_type": "code",
   "execution_count": null,
   "metadata": {},
   "outputs": [],
   "source": [
    "## python에서 힙 적용을 위해서는 \n",
    "## import heapq \n",
    "## heapq.heapify(L) : min heap구성\n",
    "## m = heapq.heappop(L) : min heap에서 최소값 삭제 (반환)\n",
    "## heapq.heappush(L,x) : min heap L에 원소 삽입"
   ]
  },
  {
   "cell_type": "code",
   "execution_count": null,
   "metadata": {},
   "outputs": [],
   "source": [
    "## 최악의 경우\n",
    "- 수가 하나 남을 때까지 섞어야 하는 경우\n",
    "## 각 단계에서 요구되는 계산량\n",
    "- 장렬된 리스트에 순서 맞추어 원소 삽입\n",
    "- O(n)\n",
    "## 전체 문제 풀이의 복잡도\n",
    "- O(n^^2)"
   ]
  },
  {
   "cell_type": "code",
   "execution_count": null,
   "metadata": {},
   "outputs": [],
   "source": []
  },
  {
   "cell_type": "code",
   "execution_count": null,
   "metadata": {},
   "outputs": [],
   "source": []
  },
  {
   "cell_type": "code",
   "execution_count": null,
   "metadata": {},
   "outputs": [],
   "source": []
  },
  {
   "cell_type": "code",
   "execution_count": null,
   "metadata": {},
   "outputs": [],
   "source": []
  },
  {
   "cell_type": "code",
   "execution_count": null,
   "metadata": {},
   "outputs": [],
   "source": []
  },
  {
   "cell_type": "code",
   "execution_count": null,
   "metadata": {},
   "outputs": [],
   "source": []
  },
  {
   "cell_type": "code",
   "execution_count": null,
   "metadata": {},
   "outputs": [],
   "source": []
  },
  {
   "cell_type": "code",
   "execution_count": null,
   "metadata": {},
   "outputs": [],
   "source": []
  }
 ],
 "metadata": {
  "kernelspec": {
   "display_name": "Python 3",
   "language": "python",
   "name": "python3"
  },
  "language_info": {
   "codemirror_mode": {
    "name": "ipython",
    "version": 3
   },
   "file_extension": ".py",
   "mimetype": "text/x-python",
   "name": "python",
   "nbconvert_exporter": "python",
   "pygments_lexer": "ipython3",
   "version": "3.7.4"
  }
 },
 "nbformat": 4,
 "nbformat_minor": 2
}
