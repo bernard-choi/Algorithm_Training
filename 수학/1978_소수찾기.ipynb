{
 "cells": [
  {
   "cell_type": "code",
   "execution_count": 14,
   "metadata": {},
   "outputs": [],
   "source": [
    "def primeN(x):\n",
    "    if x < 2:\n",
    "        return False ## 1,0 또는 음수는 소수X\n",
    "    i = 2\n",
    "    while i**2 <= x: ## 2부터 루트 X까지 나눠본다. 이경우 실수는 근사값이므로 제곱을 취한다. \n",
    "        if x%i == 0: ## 나누어떨어지면 소수 X\n",
    "            return False\n",
    "        else:\n",
    "            i += 1\n",
    "    return True\n",
    "\n",
    "n = int(input())\n",
    "\n",
    "answer = 0\n",
    "sheet = list(map(int,input().split()))\n",
    "\n",
    "for i in range(n):\n",
    "    if primeN(sheet[i]):\n",
    "        answer += 1\n",
    "        \n",
    "print(answer)\n",
    "        "
   ]
  }
 ],
 "metadata": {
  "kernelspec": {
   "display_name": "Python 3",
   "language": "python",
   "name": "python3"
  },
  "language_info": {
   "codemirror_mode": {
    "name": "ipython",
    "version": 3
   },
   "file_extension": ".py",
   "mimetype": "text/x-python",
   "name": "python",
   "nbconvert_exporter": "python",
   "pygments_lexer": "ipython3",
   "version": "3.7.4"
  }
 },
 "nbformat": 4,
 "nbformat_minor": 2
}
