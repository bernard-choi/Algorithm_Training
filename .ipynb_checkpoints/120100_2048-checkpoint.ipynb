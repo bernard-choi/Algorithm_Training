{
 "cells": [
  {
   "cell_type": "code",
   "execution_count": 7,
   "metadata": {},
   "outputs": [
    {
     "data": {
      "text/plain": [
       "[128, 32, 0]"
      ]
     },
     "execution_count": 7,
     "metadata": {},
     "output_type": "execute_result"
    }
   ],
   "source": [
    "line([0, 128,32])"
   ]
  },
  {
   "cell_type": "code",
   "execution_count": 4,
   "metadata": {
    "scrolled": false
   },
   "outputs": [
    {
     "name": "stdout",
     "output_type": "stream",
     "text": [
      "3\n",
      "0 64 8\n",
      "0 128 32\n",
      "0 0 32\n",
      "yunsikus\n",
      "1\n",
      "[[64, 8, 0], [128, 32, 0], [32, 0, 0]]\n",
      "2\n",
      "[[64, 8, 0], [128, 32, 0], [32, 0, 0]]\n",
      "3\n",
      "[[64, 8, 0], [128, 32, 0], [32, 0, 0]]\n",
      "3\n",
      "[[0, 64, 8], [0, 128, 32], [0, 0, 32]]\n",
      "3\n",
      "[[64, 8, 0], [128, 32, 0], [32, 0, 0]]\n",
      "3\n",
      "[[64, 0, 0], [128, 8, 0], [32, 32, 0]]\n",
      "2\n",
      "[[0, 64, 8], [0, 128, 32], [0, 0, 32]]\n",
      "3\n",
      "[[64, 8, 0], [128, 32, 0], [32, 0, 0]]\n",
      "3\n",
      "[[0, 64, 8], [0, 128, 32], [0, 0, 32]]\n",
      "3\n",
      "[[64, 8, 0], [128, 32, 0], [32, 0, 0]]\n",
      "3\n",
      "[[64, 0, 0], [128, 8, 0], [32, 32, 0]]\n",
      "2\n",
      "[[64, 8, 0], [128, 32, 0], [32, 0, 0]]\n",
      "3\n",
      "[[64, 8, 0], [128, 32, 0], [32, 0, 0]]\n",
      "3\n",
      "[[0, 64, 8], [0, 128, 32], [0, 0, 32]]\n",
      "3\n",
      "[[64, 8, 0], [128, 32, 0], [32, 0, 0]]\n",
      "3\n",
      "[[64, 0, 0], [128, 8, 0], [32, 32, 0]]\n",
      "2\n",
      "[[64, 0, 0], [128, 8, 0], [32, 32, 0]]\n",
      "3\n",
      "[[64, 0, 0], [128, 8, 0], [64, 0, 0]]\n",
      "3\n",
      "[[0, 0, 64], [0, 128, 8], [0, 0, 64]]\n",
      "3\n",
      "[[64, 8, 0], [128, 0, 0], [64, 0, 0]]\n",
      "3\n",
      "[[64, 0, 0], [128, 0, 0], [64, 8, 0]]\n",
      "yunsikus\n",
      "1\n",
      "[[0, 64, 8], [0, 128, 32], [0, 0, 32]]\n",
      "2\n",
      "[[64, 8, 0], [128, 32, 0], [32, 0, 0]]\n",
      "3\n",
      "[[64, 8, 0], [128, 32, 0], [32, 0, 0]]\n",
      "3\n",
      "[[0, 64, 8], [0, 128, 32], [0, 0, 32]]\n",
      "3\n",
      "[[64, 8, 0], [128, 32, 0], [32, 0, 0]]\n",
      "3\n",
      "[[64, 0, 0], [128, 8, 0], [32, 32, 0]]\n",
      "2\n",
      "[[0, 64, 8], [0, 128, 32], [0, 0, 32]]\n",
      "3\n",
      "[[64, 8, 0], [128, 32, 0], [32, 0, 0]]\n",
      "3\n",
      "[[0, 64, 8], [0, 128, 32], [0, 0, 32]]\n",
      "3\n",
      "[[64, 8, 0], [128, 32, 0], [32, 0, 0]]\n",
      "3\n",
      "[[64, 0, 0], [128, 8, 0], [32, 32, 0]]\n",
      "2\n",
      "[[64, 8, 0], [128, 32, 0], [32, 0, 0]]\n",
      "3\n",
      "[[64, 8, 0], [128, 32, 0], [32, 0, 0]]\n",
      "3\n",
      "[[0, 64, 8], [0, 128, 32], [0, 0, 32]]\n",
      "3\n",
      "[[64, 8, 0], [128, 32, 0], [32, 0, 0]]\n",
      "3\n",
      "[[64, 0, 0], [128, 8, 0], [32, 32, 0]]\n",
      "2\n",
      "[[64, 0, 0], [128, 8, 0], [32, 32, 0]]\n",
      "3\n",
      "[[64, 0, 0], [128, 8, 0], [64, 0, 0]]\n",
      "3\n",
      "[[0, 0, 64], [0, 128, 8], [0, 0, 64]]\n",
      "3\n",
      "[[64, 8, 0], [128, 0, 0], [64, 0, 0]]\n",
      "3\n",
      "[[64, 0, 0], [128, 0, 0], [64, 8, 0]]\n",
      "yunsikus\n",
      "1\n",
      "[[64, 8, 0], [128, 32, 0], [32, 0, 0]]\n",
      "2\n",
      "[[64, 8, 0], [128, 32, 0], [32, 0, 0]]\n",
      "3\n",
      "[[64, 8, 0], [128, 32, 0], [32, 0, 0]]\n",
      "3\n",
      "[[0, 64, 8], [0, 128, 32], [0, 0, 32]]\n",
      "3\n",
      "[[64, 8, 0], [128, 32, 0], [32, 0, 0]]\n",
      "3\n",
      "[[64, 0, 0], [128, 8, 0], [32, 32, 0]]\n",
      "2\n",
      "[[0, 64, 8], [0, 128, 32], [0, 0, 32]]\n",
      "3\n",
      "[[64, 8, 0], [128, 32, 0], [32, 0, 0]]\n",
      "3\n",
      "[[0, 64, 8], [0, 128, 32], [0, 0, 32]]\n",
      "3\n",
      "[[64, 8, 0], [128, 32, 0], [32, 0, 0]]\n",
      "3\n",
      "[[64, 0, 0], [128, 8, 0], [32, 32, 0]]\n",
      "2\n",
      "[[64, 8, 0], [128, 32, 0], [32, 0, 0]]\n",
      "3\n",
      "[[64, 8, 0], [128, 32, 0], [32, 0, 0]]\n",
      "3\n",
      "[[0, 64, 8], [0, 128, 32], [0, 0, 32]]\n",
      "3\n",
      "[[64, 8, 0], [128, 32, 0], [32, 0, 0]]\n",
      "3\n",
      "[[64, 0, 0], [128, 8, 0], [32, 32, 0]]\n",
      "2\n",
      "[[64, 0, 0], [128, 8, 0], [32, 32, 0]]\n",
      "3\n",
      "[[64, 0, 0], [128, 8, 0], [64, 0, 0]]\n",
      "3\n",
      "[[0, 0, 64], [0, 128, 8], [0, 0, 64]]\n",
      "3\n",
      "[[64, 8, 0], [128, 0, 0], [64, 0, 0]]\n",
      "3\n",
      "[[64, 0, 0], [128, 0, 0], [64, 8, 0]]\n",
      "yunsikus\n",
      "1\n",
      "[[64, 0, 0], [128, 8, 0], [32, 32, 0]]\n",
      "2\n",
      "[[64, 0, 0], [128, 8, 0], [64, 0, 0]]\n",
      "3\n",
      "[[64, 0, 0], [128, 8, 0], [64, 0, 0]]\n",
      "3\n",
      "[[0, 0, 64], [0, 128, 8], [0, 0, 64]]\n",
      "3\n",
      "[[64, 8, 0], [128, 0, 0], [64, 0, 0]]\n",
      "3\n",
      "[[64, 0, 0], [128, 0, 0], [64, 8, 0]]\n",
      "2\n",
      "[[0, 0, 64], [0, 128, 8], [0, 0, 64]]\n",
      "3\n",
      "[[64, 0, 0], [128, 8, 0], [64, 0, 0]]\n",
      "3\n",
      "[[0, 0, 64], [0, 128, 8], [0, 0, 64]]\n",
      "3\n",
      "[[64, 8, 0], [128, 0, 0], [64, 0, 0]]\n",
      "3\n",
      "[[64, 0, 0], [128, 0, 0], [64, 8, 0]]\n",
      "2\n",
      "[[64, 8, 0], [128, 0, 0], [64, 0, 0]]\n",
      "3\n",
      "[[64, 8, 0], [128, 0, 0], [64, 0, 0]]\n",
      "3\n",
      "[[0, 64, 8], [0, 0, 128], [0, 0, 64]]\n",
      "3\n",
      "[[64, 8, 0], [128, 0, 0], [64, 0, 0]]\n",
      "3\n",
      "[[64, 0, 0], [128, 0, 0], [64, 8, 0]]\n",
      "2\n",
      "[[64, 0, 0], [128, 0, 0], [64, 8, 0]]\n",
      "3\n",
      "[[64, 0, 0], [128, 0, 0], [64, 8, 0]]\n",
      "3\n",
      "[[0, 0, 64], [0, 0, 128], [0, 64, 8]]\n",
      "3\n",
      "[[64, 8, 0], [128, 0, 0], [64, 0, 0]]\n",
      "3\n",
      "[[64, 0, 0], [128, 0, 0], [64, 8, 0]]\n",
      "128\n"
     ]
    }
   ],
   "source": [
    "from copy import deepcopy\n",
    "\n",
    "def line(row_list):\n",
    "    for j in range(len(row_list)-1):\n",
    "        for i in range(len(row_list)-1):\n",
    "            if row_list[i] == 0:\n",
    "                row_list[i] = row_list[i+1]\n",
    "                row_list[i+1] =  0\n",
    "                \n",
    "    for k in range(len(row_list)-1,0,-1):\n",
    "        if (row_list[k] == row_list[k-1]) & (row_list[k] != 0):\n",
    "            row_list[k-1] *= 2\n",
    "            count = len(row_list[k+1:])\n",
    "            row_list[k:k+count] = row_list[k+1:]\n",
    "            row_list[-1] = 0\n",
    "            \n",
    "            break\n",
    "            \n",
    "    return row_list\n",
    "\n",
    "def matrix_op(matrix):\n",
    "    temp = []\n",
    "    for i in range(n):\n",
    "        temp.append(line(matrix[i]))\n",
    "        \n",
    "    return temp\n",
    "\n",
    "def matrix_max(matrix):\n",
    "    a = 0\n",
    "    for i in range(n):\n",
    "        for j in range(n):\n",
    "            if matrix[i][j] > a:\n",
    "                a = matrix[i][j]\n",
    "    return a\n",
    "\n",
    "def rotate0(matrix):\n",
    "    temp_matrix = matrix_op(matrix)\n",
    "    return temp_matrix\n",
    "\n",
    "\n",
    "\n",
    "def rotate1(matrix): ## right\n",
    "    new_matrix = []\n",
    "    \n",
    "    for i in range(n):\n",
    "        temp_list = []\n",
    "        for k in range(n-1,-1,-1):\n",
    "            temp_list.append(matrix[i][k])\n",
    "        new_matrix.append(temp_list)\n",
    "        \n",
    "    temp_matrix = matrix_op(new_matrix)\n",
    "        \n",
    "    temp = []\n",
    "    for i in range(n):\n",
    "        temp_list = []\n",
    "        for j in range(n-1,-1,-1):\n",
    "            temp_list.append(temp_matrix[i][j])\n",
    "        temp.append(temp_list)\n",
    "            \n",
    "    return temp\n",
    "\n",
    "def rotate2(matrix): ## up\n",
    "    new_matrix = []\n",
    "    for i in range(n):\n",
    "        new_matrix.append([x[i] for x in matrix])\n",
    "        \n",
    "    temp_matrix = matrix_op(new_matrix)\n",
    "    \n",
    "    temp = []    \n",
    "    for i in range(n):\n",
    "        temp.append([x[i] for x in temp_matrix])\n",
    "        \n",
    "    return temp\n",
    "    \n",
    "    \n",
    "\n",
    "def rotate3(matrix): ## down\n",
    "    new_matrix = []\n",
    "    \n",
    "    for i in range(n):\n",
    "        temp_list = []\n",
    "        for k in range(n-1,-1,-1):\n",
    "            temp_list.append(matrix[k][i])\n",
    "            \n",
    "        new_matrix.append(temp_list)\n",
    "        \n",
    "    temp_matrix = matrix_op(new_matrix)\n",
    "    \n",
    "    temp = []\n",
    "    \n",
    "    for i in range(n-1,-1,-1):\n",
    "        temp.append([x[i] for x in temp_matrix])\n",
    "        \n",
    "    return temp\n",
    "    \n",
    "        \n",
    "    \n",
    "def move(rotate,matrix,count):\n",
    "    global max_value\n",
    "    new_matrix = []\n",
    "    \n",
    "    if rotate == 0:\n",
    "        new_matrix = rotate0(matrix)\n",
    "        \n",
    "    elif rotate == 1:\n",
    "        new_matrix = rotate1(matrix)\n",
    "        \n",
    "    elif rotate == 2:\n",
    "        new_matrix = rotate2(matrix)\n",
    "        \n",
    "    elif rotate == 3:\n",
    "        new_matrix = rotate3(matrix)\n",
    "        \n",
    "    print(count)\n",
    "    print(new_matrix)\n",
    "    \n",
    "    if count == 3:\n",
    "        max_value = max(max_value,matrix_max(new_matrix))\n",
    "        return\n",
    "\n",
    "    move(0,new_matrix,count+1)\n",
    "    move(1,new_matrix,count+1)\n",
    "    move(2,new_matrix,count+1)\n",
    "    move(3,new_matrix,count+1)\n",
    "\n",
    "    \n",
    "n = int(input())\n",
    "\n",
    "matrix = []\n",
    "for i in range(n):\n",
    "    row = list(map(int,input().split()))\n",
    "    matrix.append(row)\n",
    "\n",
    "max_value = 0\n",
    "    \n",
    "original_matrix = deepcopy(matrix)    \n",
    "for i in range(4):\n",
    "    print(\"yunsikus\")\n",
    "    move(i,original_matrix,1)\n",
    "                    \n",
    "print(max_value) \n",
    "    \n",
    "    "
   ]
  },
  {
   "cell_type": "code",
   "execution_count": 2,
   "metadata": {},
   "outputs": [
    {
     "name": "stdout",
     "output_type": "stream",
     "text": [
      "0\n",
      "1\n",
      "2\n",
      "3\n"
     ]
    }
   ],
   "source": [
    "for i in range(4):\n",
    "    print(i)"
   ]
  },
  {
   "cell_type": "code",
   "execution_count": 296,
   "metadata": {},
   "outputs": [
    {
     "name": "stdout",
     "output_type": "stream",
     "text": [
      "3\n",
      "2 2 4\n",
      "4 4 2\n",
      "4 2 4\n"
     ]
    }
   ],
   "source": [
    "n = int(input())\n",
    "matrix = []\n",
    "for i in range(n):\n",
    "    row = list(map(int,input().split()))\n",
    "    matrix.append(row)\n"
   ]
  },
  {
   "cell_type": "code",
   "execution_count": 49,
   "metadata": {},
   "outputs": [
    {
     "data": {
      "text/plain": [
       "[[64, 8, 0], [128, 32, 0], [32, 0, 0]]"
      ]
     },
     "execution_count": 49,
     "metadata": {},
     "output_type": "execute_result"
    }
   ],
   "source": [
    "matrix = [[0, 64, 8], [0, 128, 32], [0, 0, 32]]\n",
    "\n",
    "a = rotate0(matrix)\n",
    "b = rotate1(matrix)\n",
    "\n",
    "matrix"
   ]
  },
  {
   "cell_type": "code",
   "execution_count": 46,
   "metadata": {},
   "outputs": [
    {
     "data": {
      "text/plain": [
       "[[64, 8, 0], [128, 32, 0], [32, 0, 0]]"
      ]
     },
     "execution_count": 46,
     "metadata": {},
     "output_type": "execute_result"
    }
   ],
   "source": [
    "matrix"
   ]
  },
  {
   "cell_type": "code",
   "execution_count": 47,
   "metadata": {},
   "outputs": [
    {
     "data": {
      "text/plain": [
       "[[0, 64, 8], [0, 128, 32], [0, 0, 32]]"
      ]
     },
     "execution_count": 47,
     "metadata": {},
     "output_type": "execute_result"
    }
   ],
   "source": [
    "matrix = [[0, 64, 8], [0, 128, 32], [0, 0, 32]]\n",
    "rotate0(matrix)\n",
    "rotate1(matrix)"
   ]
  },
  {
   "cell_type": "code",
   "execution_count": 48,
   "metadata": {},
   "outputs": [
    {
     "data": {
      "text/plain": [
       "[[64, 8, 0], [128, 32, 0], [32, 0, 0]]"
      ]
     },
     "execution_count": 48,
     "metadata": {},
     "output_type": "execute_result"
    }
   ],
   "source": [
    "matrix"
   ]
  },
  {
   "cell_type": "code",
   "execution_count": 43,
   "metadata": {},
   "outputs": [
    {
     "data": {
      "text/plain": [
       "[[64, 8, 0], [128, 32, 0], [32, 0, 0]]"
      ]
     },
     "execution_count": 43,
     "metadata": {},
     "output_type": "execute_result"
    }
   ],
   "source": [
    "rotate2(matrix)"
   ]
  },
  {
   "cell_type": "code",
   "execution_count": 35,
   "metadata": {},
   "outputs": [
    {
     "data": {
      "text/plain": [
       "[[0, 64, 8], [0, 128, 64], [0, 0, 0]]"
      ]
     },
     "execution_count": 35,
     "metadata": {},
     "output_type": "execute_result"
    }
   ],
   "source": [
    "matrix = [[0, 64, 8], [0, 128, 32], [0, 0, 32]]\n",
    "rotate2(matrix)"
   ]
  },
  {
   "cell_type": "code",
   "execution_count": 13,
   "metadata": {},
   "outputs": [
    {
     "data": {
      "text/plain": [
       "[[0, 0, 0], [0, 64, 8], [0, 128, 64]]"
      ]
     },
     "execution_count": 13,
     "metadata": {},
     "output_type": "execute_result"
    }
   ],
   "source": [
    "rotate3(matrix)"
   ]
  },
  {
   "cell_type": "code",
   "execution_count": 356,
   "metadata": {},
   "outputs": [
    {
     "data": {
      "text/plain": [
       "[[128, 64, 8], [32, 0, 32], [0, 0, 0]]"
      ]
     },
     "execution_count": 356,
     "metadata": {},
     "output_type": "execute_result"
    }
   ],
   "source": [
    "rotate2(matrix)"
   ]
  },
  {
   "cell_type": "code",
   "execution_count": null,
   "metadata": {},
   "outputs": [],
   "source": [
    "def rotate2(matrix): ## up\n",
    "    new_matrix = []\n",
    "    for i in range(n):\n",
    "        new_matrix.append([x[i] for x in matrix])\n",
    "        \n",
    "    temp_matrix = matrix_op(new_matrix)\n",
    "    \n",
    "    temp = []    \n",
    "    for i in range(n):\n",
    "        temp.append([x[i] for x in temp_matrix])\n",
    "        \n",
    "    return temp\n",
    "    "
   ]
  }
 ],
 "metadata": {
  "kernelspec": {
   "display_name": "Python 3",
   "language": "python",
   "name": "python3"
  },
  "language_info": {
   "codemirror_mode": {
    "name": "ipython",
    "version": 3
   },
   "file_extension": ".py",
   "mimetype": "text/x-python",
   "name": "python",
   "nbconvert_exporter": "python",
   "pygments_lexer": "ipython3",
   "version": "3.7.4"
  }
 },
 "nbformat": 4,
 "nbformat_minor": 2
}
