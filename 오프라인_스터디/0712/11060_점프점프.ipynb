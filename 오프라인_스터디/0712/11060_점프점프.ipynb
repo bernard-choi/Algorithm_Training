{
 "cells": [
  {
   "cell_type": "code",
   "execution_count": 106,
   "metadata": {},
   "outputs": [
    {
     "name": "stdout",
     "output_type": "stream",
     "text": [
      "3\n",
      "0 1 0\n",
      "-1\n"
     ]
    }
   ],
   "source": [
    "n = int(input())\n",
    "input_list = list(map(int,input().split()))\n",
    "\n",
    "d = [0]*n\n",
    "d[0] = 0\n",
    "\n",
    "matrix = [[]*n for _ in range(n)]\n",
    "\n",
    "for i in range(n-1): \n",
    "    for j in range(input_list[i]):\n",
    "        if i+j+1 < n:\n",
    "            matrix[i+j+1].append(i)\n",
    "            \n",
    "for i in range(1,len(matrix)):\n",
    "    \n",
    "    min_value = 99999999\n",
    "    for j in matrix[i]:\n",
    "        if d[j] < min_value:\n",
    "            min_value = d[j]\n",
    "\n",
    "\n",
    "\n",
    "    d[i] = min_value + 1\n",
    "\n",
    "if len(d) == 1: ## 길이가 1이면 시작과 동시에 도착이므로 0\n",
    "    print(0)\n",
    "elif d[-1] == 0 or d[-1] > 99999999: ## 가는 경로가 없으면 min_value가 갱신되지 않음. \n",
    "    print('-1')\n",
    "else:\n",
    "    print(d[-1])"
   ]
  }
 ],
 "metadata": {
  "kernelspec": {
   "display_name": "Python 3",
   "language": "python",
   "name": "python3"
  },
  "language_info": {
   "codemirror_mode": {
    "name": "ipython",
    "version": 3
   },
   "file_extension": ".py",
   "mimetype": "text/x-python",
   "name": "python",
   "nbconvert_exporter": "python",
   "pygments_lexer": "ipython3",
   "version": "3.7.4"
  }
 },
 "nbformat": 4,
 "nbformat_minor": 2
}
