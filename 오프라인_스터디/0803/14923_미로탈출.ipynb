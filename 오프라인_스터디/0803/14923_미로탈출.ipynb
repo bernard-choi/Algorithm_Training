{
 "cells": [
  {
   "cell_type": "code",
   "execution_count": 45,
   "metadata": {},
   "outputs": [
    {
     "name": "stdout",
     "output_type": "stream",
     "text": [
      "5 6\n",
      "1 1 \n",
      "5 6\n",
      "0 1 1 1 0 0\n",
      "0 1 1 0 0 0\n",
      "0 1 0 0 1 0\n",
      "0 1 0 0 1 0\n",
      "0 0 0 1 1 0\n"
     ]
    }
   ],
   "source": [
    "from copy import deepcopy\n",
    "from collections import deque\n",
    "\n",
    "N,M = map(int,input().split())\n",
    "Hx, Hy = map(int,input().split())\n",
    "Ex, Ey = map(int,input().split())\n",
    "a = [list(map(int, input().split())) for _ in range(N)]\n",
    "dist = [[[-1,-1] for _ in range(M)] for _ in range(N)] \n",
    "\n",
    "dx = [0,0,-1,1]\n",
    "dy = [1,-1,0,0]"
   ]
  },
  {
   "cell_type": "code",
   "execution_count": 46,
   "metadata": {},
   "outputs": [
    {
     "data": {
      "text/plain": [
       "[[[-1, -1], [-1, -1], [-1, -1], [-1, -1], [-1, -1], [-1, -1]],\n",
       " [[-1, -1], [-1, -1], [-1, -1], [-1, -1], [-1, -1], [-1, -1]],\n",
       " [[-1, -1], [-1, -1], [-1, -1], [-1, -1], [-1, -1], [-1, -1]],\n",
       " [[-1, -1], [-1, -1], [-1, -1], [-1, -1], [-1, -1], [-1, -1]],\n",
       " [[-1, -1], [-1, -1], [-1, -1], [-1, -1], [-1, -1], [-1, -1]]]"
      ]
     },
     "execution_count": 46,
     "metadata": {},
     "output_type": "execute_result"
    }
   ],
   "source": [
    "dist"
   ]
  },
  {
   "cell_type": "code",
   "execution_count": 48,
   "metadata": {},
   "outputs": [
    {
     "name": "stdout",
     "output_type": "stream",
     "text": [
      "11\n"
     ]
    }
   ],
   "source": [
    "def bfs():\n",
    "    q = deque()\n",
    "    q.append((Hx-1,Hy-1,0))\n",
    "    dist[Hx-1][Hy-1][0] = 0\n",
    "    while q:\n",
    "        x,y,z = q.popleft()\n",
    "        if x == Ex-1 and y == Ey-1:\n",
    "            return dist[x][y][z]\n",
    "        \n",
    "        for i in range(4):\n",
    "            nx,ny,nz = x+dx[i], y+dy[i],z\n",
    "            if nx < 0 or nx >= N or ny < 0 or ny >= M:\n",
    "                continue\n",
    "            if a[nx][ny]: ## 벽을 만나면\n",
    "                if nz: ## 벽을 부순적이 있으면\n",
    "                    continue\n",
    "                else:\n",
    "                    nz = 1\n",
    "                    \n",
    "            if dist[nx][ny][nz] == -1: ##\n",
    "                dist[nx][ny][nz] = dist[x][y][z] + 1\n",
    "                q.append((nx,ny,nz))\n",
    "                \n",
    "    return -1\n",
    "\n",
    "print(bfs())\n"
   ]
  },
  {
   "cell_type": "code",
   "execution_count": 50,
   "metadata": {},
   "outputs": [
    {
     "data": {
      "text/plain": [
       "[[[0, 2], [-1, 1], [-1, -1], [-1, 11], [-1, 8], [-1, 9]],\n",
       " [[1, 3], [-1, 2], [-1, 9], [10, 6], [11, 7], [-1, 8]],\n",
       " [[2, 4], [-1, 3], [8, 4], [9, 5], [-1, 10], [-1, 9]],\n",
       " [[3, 5], [-1, 4], [7, 5], [8, 6], [-1, 9], [-1, 10]],\n",
       " [[4, 6], [5, 5], [6, 6], [-1, 7], [-1, -1], [-1, 11]]]"
      ]
     },
     "execution_count": 50,
     "metadata": {},
     "output_type": "execute_result"
    }
   ],
   "source": [
    "dist"
   ]
  },
  {
   "cell_type": "code",
   "execution_count": 37,
   "metadata": {},
   "outputs": [
    {
     "data": {
      "text/plain": [
       "[[0, 1, 1, 1, 0, 0],\n",
       " [0, 1, 1, 0, 0, 0],\n",
       " [0, 1, 0, 0, 1, 0],\n",
       " [0, 1, 0, 0, 1, 0],\n",
       " [0, 0, 0, 1, 1, 0]]"
      ]
     },
     "execution_count": 37,
     "metadata": {},
     "output_type": "execute_result"
    }
   ],
   "source": [
    "matrix"
   ]
  },
  {
   "cell_type": "code",
   "execution_count": 41,
   "metadata": {},
   "outputs": [
    {
     "name": "stdout",
     "output_type": "stream",
     "text": [
      "yunsik\n"
     ]
    }
   ],
   "source": [
    "a = -1\n",
    "if a :\n",
    "    print('yunsik')"
   ]
  },
  {
   "cell_type": "code",
   "execution_count": null,
   "metadata": {},
   "outputs": [],
   "source": []
  }
 ],
 "metadata": {
  "kernelspec": {
   "display_name": "Python 3",
   "language": "python",
   "name": "python3"
  },
  "language_info": {
   "codemirror_mode": {
    "name": "ipython",
    "version": 3
   },
   "file_extension": ".py",
   "mimetype": "text/x-python",
   "name": "python",
   "nbconvert_exporter": "python",
   "pygments_lexer": "ipython3",
   "version": "3.7.4"
  }
 },
 "nbformat": 4,
 "nbformat_minor": 2
}
