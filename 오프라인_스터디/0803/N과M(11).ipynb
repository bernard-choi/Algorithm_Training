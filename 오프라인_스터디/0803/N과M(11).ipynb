{
 "cells": [
  {
   "cell_type": "code",
   "execution_count": 29,
   "metadata": {},
   "outputs": [
    {
     "name": "stdout",
     "output_type": "stream",
     "text": [
      "4 4\n",
      "1 1 2 2\n",
      "1 1 1 1 \n",
      "1 1 1 2 \n",
      "1 1 2 1 \n",
      "1 1 2 2 \n",
      "1 2 1 1 \n",
      "1 2 1 2 \n",
      "1 2 2 1 \n",
      "1 2 2 2 \n",
      "2 1 1 1 \n",
      "2 1 1 2 \n",
      "2 1 2 1 \n",
      "2 1 2 2 \n",
      "2 2 1 1 \n",
      "2 2 1 2 \n",
      "2 2 2 1 \n",
      "2 2 2 2 \n"
     ]
    }
   ],
   "source": [
    "a,b = map(int,input().split())\n",
    "input_list = list(map(int,input().split()))\n",
    "\n",
    "new_list = list(set(input_list)) ## 중복제거\n",
    "new_list = sorted(new_list)\n",
    "\n",
    "check = [False] * (len(new_list)+1)\n",
    "answer_list =  [0] * (b+1)\n",
    "\n",
    "def go(m,index):\n",
    "    if index == m:\n",
    "        for i in range(m):\n",
    "            print(answer_list[i], end = ' ')\n",
    "        print()\n",
    "        return\n",
    "    \n",
    "    for i in range(0,len(new_list)):\n",
    "        check[i] = True\n",
    "        answer_list[index] = new_list[i]\n",
    "        go(m,index+1)\n",
    "        check[i] = False\n",
    "        \n",
    "go(b,0)"
   ]
  }
 ],
 "metadata": {
  "kernelspec": {
   "display_name": "Python 3",
   "language": "python",
   "name": "python3"
  },
  "language_info": {
   "codemirror_mode": {
    "name": "ipython",
    "version": 3
   },
   "file_extension": ".py",
   "mimetype": "text/x-python",
   "name": "python",
   "nbconvert_exporter": "python",
   "pygments_lexer": "ipython3",
   "version": "3.7.4"
  }
 },
 "nbformat": 4,
 "nbformat_minor": 2
}
