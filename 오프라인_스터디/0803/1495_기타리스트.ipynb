{
 "cells": [
  {
   "cell_type": "code",
   "execution_count": 108,
   "metadata": {},
   "outputs": [
    {
     "name": "stdout",
     "output_type": "stream",
     "text": [
      "3 5 10\n",
      "5 3 7\n",
      "10\n"
     ]
    }
   ],
   "source": [
    "N, S, M = map(int,input().split())\n",
    "V = list(map(int,input().split()))\n",
    "\n",
    "matrix = [[] for _ in range(N+1)]\n",
    "matrix[0].append(S)\n",
    "stop = False\n",
    "\n",
    "for i in range(1,N+1):\n",
    "    temp = []\n",
    "    for j in range(len(matrix[i-1])):\n",
    "        if 0 <= matrix[i-1][j] + V[i-1] <= M:\n",
    "            temp.append(matrix[i-1][j] + V[i-1])\n",
    "\n",
    "        if 0 <= matrix[i-1][j] - V[i-1] <= M:\n",
    "            temp.append(matrix[i-1][j] - V[i-1])\n",
    "\n",
    "        temp = list(set(temp))\n",
    "\n",
    "\n",
    "    matrix[i].extend(temp)\n",
    "\n",
    "    if len(matrix[i]) == 0:\n",
    "        stop= True\n",
    "        print(-1)\n",
    "        break\n",
    "\n",
    "if stop == False:\n",
    "    print(max(matrix[-1]))\n",
    "\n",
    "\n"
   ]
  }
 ],
 "metadata": {
  "kernelspec": {
   "display_name": "Python 3",
   "language": "python",
   "name": "python3"
  },
  "language_info": {
   "codemirror_mode": {
    "name": "ipython",
    "version": 3
   },
   "file_extension": ".py",
   "mimetype": "text/x-python",
   "name": "python",
   "nbconvert_exporter": "python",
   "pygments_lexer": "ipython3",
   "version": "3.7.4"
  }
 },
 "nbformat": 4,
 "nbformat_minor": 2
}
