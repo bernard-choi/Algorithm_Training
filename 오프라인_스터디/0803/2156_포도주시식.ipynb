{
 "cells": [
  {
   "cell_type": "code",
   "execution_count": 45,
   "metadata": {},
   "outputs": [
    {
     "name": "stdout",
     "output_type": "stream",
     "text": [
      "1\n",
      "1\n",
      "1\n"
     ]
    }
   ],
   "source": [
    "n = int(input())\n",
    "input_list = []\n",
    "for i in range(n):\n",
    "    input_list.append(int(input()))\n",
    "    \n",
    "\n",
    "\n",
    "if n==1:\n",
    "    print(input_list[-1])\n",
    "else:    \n",
    "    d = [0] * (len(input_list)+1)\n",
    "    d[1] = input_list[0]\n",
    "    d[2] = (input_list[0]+ input_list[1])\n",
    "\n",
    "    for i in range(3,len(d)):\n",
    "        d[i] = max(input_list[i-1] + d[i-2],input_list[i-1] + input_list[i-2] + d[i-3],d[i-1])\n",
    "\n",
    "    print(d[-1])"
   ]
  },
  {
   "cell_type": "code",
   "execution_count": null,
   "metadata": {},
   "outputs": [],
   "source": []
  }
 ],
 "metadata": {
  "kernelspec": {
   "display_name": "Python 3",
   "language": "python",
   "name": "python3"
  },
  "language_info": {
   "codemirror_mode": {
    "name": "ipython",
    "version": 3
   },
   "file_extension": ".py",
   "mimetype": "text/x-python",
   "name": "python",
   "nbconvert_exporter": "python",
   "pygments_lexer": "ipython3",
   "version": "3.7.4"
  }
 },
 "nbformat": 4,
 "nbformat_minor": 2
}
