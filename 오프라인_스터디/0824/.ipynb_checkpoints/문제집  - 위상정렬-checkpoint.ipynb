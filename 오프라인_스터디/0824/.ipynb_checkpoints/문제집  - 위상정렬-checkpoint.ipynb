{
 "cells": [
  {
   "cell_type": "code",
   "execution_count": 1,
   "metadata": {},
   "outputs": [],
   "source": [
    "import sys\n",
    "import heapq"
   ]
  },
  {
   "cell_type": "code",
   "execution_count": 235,
   "metadata": {},
   "outputs": [
    {
     "name": "stdout",
     "output_type": "stream",
     "text": [
      "5 4\n",
      "4 1\n",
      "5 1\n",
      "2 5\n",
      "3 5\n"
     ]
    }
   ],
   "source": [
    "import sys\n",
    "import heapq\n",
    "\n",
    "\n",
    "N, M = map(int,input().split())\n",
    "my_dict = {}\n",
    "\n",
    "for i in range(1,N+1):\n",
    "    my_dict[i] = []\n",
    "\n",
    "for i in range(M):\n",
    "    x,y = map(int,input().split())\n",
    "    my_dict[x].append(y)\n",
    "asas = [[k]+sorted(v) for k, v in my_dict.items()]\n",
    "my_heap = [[k]+sorted(v) for k, v in my_dict.items() if len(v)>= 1]\n",
    "\n"
   ]
  },
  {
   "cell_type": "code",
   "execution_count": 236,
   "metadata": {},
   "outputs": [
    {
     "data": {
      "text/plain": [
       "[[2, 5], [3, 5], [4, 1], [5, 1]]"
      ]
     },
     "execution_count": 236,
     "metadata": {},
     "output_type": "execute_result"
    }
   ],
   "source": [
    "my_heap"
   ]
  },
  {
   "cell_type": "code",
   "execution_count": 234,
   "metadata": {},
   "outputs": [
    {
     "name": "stdout",
     "output_type": "stream",
     "text": [
      "[[2, 5], [3, 5], [4, 1], [5, 1]]\n",
      "2 [[3, 5], [5], [4, 1], [5, 1]]\n",
      "3 [[4, 1], [5], [5, 1], [5]]\n",
      "4 [[1], [5], [5, 1], [5]]\n",
      "1 [[], [5], [5, 1], [5]]\n",
      "[[5], [5], [5, 1]]\n",
      "5 [[], [5, 1], [5]]\n"
     ]
    }
   ],
   "source": [
    "A = set(y for x in my_heap for y in x)\n",
    "B = set(range(1,N+1))\n",
    "new_set = B - A\n",
    "\n",
    "for i in new_set:\n",
    "    my_heap.append([i])\n",
    "    \n",
    "heapq.heapify(my_heap)\n",
    "checker = 0\n",
    "while True:\n",
    "    print(my_heap)\n",
    "    m1 = heapq.heappop(my_heap)\n",
    "    if checker == N:\n",
    "        break\n",
    "    if m1 == []:\n",
    "        continue\n",
    "    print(m1[0], end = ' ')\n",
    "    m2 = m1[1:]\n",
    "    heapq.heappush(my_heap,m2)\n",
    "    checker += 1"
   ]
  },
  {
   "cell_type": "markdown",
   "metadata": {},
   "source": [
    "#### A = set(y for x in my_heap for y in x)\n",
    "B = set(range(1,N+1))\n",
    "new_set = B - A\n",
    "\n",
    "for i in new_set:\n",
    "    my_heap.append([i])\n",
    "    \n",
    "heapq.heapify(my_heap)\n",
    "checker = 0\n",
    "while True:\n",
    "    m1 = heapq.heappop(my_heap)\n",
    "    if checker == N:\n",
    "        break\n",
    "    if m1 == []:\n",
    "        continue\n",
    "    print(m1[0], end = ' ')\n",
    "    m2 = m1[1:]\n",
    "    heapq.heappush(my_heap,m2)\n",
    "    chercker += 1"
   ]
  },
  {
   "cell_type": "code",
   "execution_count": 217,
   "metadata": {},
   "outputs": [],
   "source": [
    "my_heap = [[k]+sorted(v) for k, v in my_dict.items() if len(v)>= 1]"
   ]
  },
  {
   "cell_type": "code",
   "execution_count": null,
   "metadata": {},
   "outputs": [],
   "source": [
    "https://developmentdiary.tistory.com/466"
   ]
  }
 ],
 "metadata": {
  "kernelspec": {
   "display_name": "Python 3",
   "language": "python",
   "name": "python3"
  },
  "language_info": {
   "codemirror_mode": {
    "name": "ipython",
    "version": 3
   },
   "file_extension": ".py",
   "mimetype": "text/x-python",
   "name": "python",
   "nbconvert_exporter": "python",
   "pygments_lexer": "ipython3",
   "version": "3.7.4"
  }
 },
 "nbformat": 4,
 "nbformat_minor": 2
}
