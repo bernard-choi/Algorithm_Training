{
 "cells": [
  {
   "cell_type": "code",
   "execution_count": 162,
   "metadata": {},
   "outputs": [
    {
     "name": "stdout",
     "output_type": "stream",
     "text": [
      "2 4\n",
      "1 2\n",
      "3 4\n",
      "1 1 1 1\n",
      "1 2 1 2\n",
      "2 1 2 1\n",
      "2 2 2 2\n",
      "1\n",
      "2\n",
      "3\n",
      "4\n"
     ]
    }
   ],
   "source": [
    "import sys\n",
    "N, M = map(int,input().split())\n",
    "matrix = []\n",
    "for i in range(N):\n",
    "    matrix.append(list(map(int,sys.stdin.readline().split()))) # input()으로 시간초과됨\n",
    "    \n",
    "coords = []\n",
    "for i in range(M):\n",
    "    coords.append(list(map(int,sys.stdin.readline().split())))\n",
    "    \n",
    "cumsum = [[0]*(N+1) for _ in range(N+1)]\n",
    "cumsum[1][1] = matrix[0][0] \n",
    "\n",
    "for i in range(1,N):\n",
    "    cumsum[1][i+1] = cumsum[1][i] + matrix[0][i]\n",
    "    cumsum[i+1][1] = cumsum[i][1] + matrix[i][0]\n",
    "    \n",
    "for i in range(1,N):\n",
    "    for j in range(1,N):\n",
    "        cumsum[i+1][j+1] = cumsum[i][j+1] + cumsum[i+1][j] - cumsum[i][j] + matrix[i][j]\n",
    "        \n",
    "for coord in coords:\n",
    "    x1, y1= coord[0], coord[1]\n",
    "    x2, y2 = coord[2], coord[3]\n",
    "    print(cumsum[x2][y2] - cumsum[x1-1][y2] - cumsum[x2][y1-1] + cumsum[x1-1][y1-1])"
   ]
  }
 ],
 "metadata": {
  "kernelspec": {
   "display_name": "Python 3",
   "language": "python",
   "name": "python3"
  },
  "language_info": {
   "codemirror_mode": {
    "name": "ipython",
    "version": 3
   },
   "file_extension": ".py",
   "mimetype": "text/x-python",
   "name": "python",
   "nbconvert_exporter": "python",
   "pygments_lexer": "ipython3",
   "version": "3.7.4"
  }
 },
 "nbformat": 4,
 "nbformat_minor": 2
}
