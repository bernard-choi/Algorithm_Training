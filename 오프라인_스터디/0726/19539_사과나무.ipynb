{
 "cells": [
  {
   "cell_type": "code",
   "execution_count": null,
   "metadata": {},
   "outputs": [],
   "source": [
    "a = int(input())\n",
    "int_input = list(map(int,input().split()))\n",
    "\n",
    "\n",
    "if  sum(int_input) % 3 != 0:\n",
    "    print('NO')\n",
    "    \n",
    "else:\n",
    "    \n",
    "    a = sum(int_input) // 3 ## 3으로 나눈 몫\n",
    "    two_list = list(map(lambda x: x//2, int_input))\n",
    "    b = sum(two_list) ## 2 사용 횟수\n",
    "    if b < a:\n",
    "        print('NO')\n",
    "    else:\n",
    "        print('YES')"
   ]
  }
 ],
 "metadata": {
  "kernelspec": {
   "display_name": "Python 3",
   "language": "python",
   "name": "python3"
  },
  "language_info": {
   "codemirror_mode": {
    "name": "ipython",
    "version": 3
   },
   "file_extension": ".py",
   "mimetype": "text/x-python",
   "name": "python",
   "nbconvert_exporter": "python",
   "pygments_lexer": "ipython3",
   "version": "3.7.4"
  }
 },
 "nbformat": 4,
 "nbformat_minor": 2
}
