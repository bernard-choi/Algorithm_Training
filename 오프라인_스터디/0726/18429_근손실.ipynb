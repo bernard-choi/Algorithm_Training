{
 "cells": [
  {
   "cell_type": "code",
   "execution_count": 117,
   "metadata": {},
   "outputs": [
    {
     "name": "stdout",
     "output_type": "stream",
     "text": [
      "3 4\n",
      "3 7 5\n",
      "4\n"
     ]
    }
   ],
   "source": [
    "a,b = map(int,input().split())\n",
    "input_list = list(map(int,input().split()))\n",
    "\n",
    "input_list = sorted(input_list, reverse = True)\n",
    "check = [False] * len(input_list)\n",
    "\n",
    "answer = 0\n",
    "\n",
    "def do(index,n,gun):\n",
    "    global answer\n",
    "\n",
    "    if index == n:\n",
    "        answer += 1\n",
    "        return\n",
    "    \n",
    "    if gun < 500:\n",
    "        return\n",
    "    \n",
    "    for i in range(n):\n",
    "        if check[i]:\n",
    "            continue\n",
    "        \n",
    "        gun = gun - b + input_list[i]\n",
    "\n",
    "        \n",
    "        check[i] = True\n",
    "        do(index+1,n,gun)\n",
    "        \n",
    "        check[i] = False\n",
    "        gun = gun - input_list[i] + b\n",
    "        \n",
    "do(0,len(input_list),500)\n",
    "print(answer)"
   ]
  },
  {
   "cell_type": "code",
   "execution_count": 115,
   "metadata": {},
   "outputs": [
    {
     "data": {
      "text/plain": [
       "4"
      ]
     },
     "execution_count": 115,
     "metadata": {},
     "output_type": "execute_result"
    }
   ],
   "source": [
    "answer"
   ]
  },
  {
   "cell_type": "code",
   "execution_count": 106,
   "metadata": {},
   "outputs": [
    {
     "data": {
      "text/plain": [
       "1"
      ]
     },
     "execution_count": 106,
     "metadata": {},
     "output_type": "execute_result"
    }
   ],
   "source": [
    "answer"
   ]
  },
  {
   "cell_type": "code",
   "execution_count": 9,
   "metadata": {},
   "outputs": [
    {
     "name": "stdout",
     "output_type": "stream",
     "text": [
      "4 2\n",
      "[False, False, False, False, False]\n",
      "[False, True, False, False, False]\n",
      "[False, True, True, False, False]\n",
      "1 2 \n",
      "[False, True, False, True, False]\n",
      "1 3 \n",
      "[False, True, False, False, True]\n",
      "1 4 \n",
      "[False, False, True, False, False]\n",
      "[False, True, True, False, False]\n",
      "2 1 \n",
      "[False, False, True, True, False]\n",
      "2 3 \n",
      "[False, False, True, False, True]\n",
      "2 4 \n",
      "[False, False, False, True, False]\n",
      "[False, True, False, True, False]\n",
      "3 1 \n",
      "[False, False, True, True, False]\n",
      "3 2 \n",
      "[False, False, False, True, True]\n",
      "3 4 \n",
      "[False, False, False, False, True]\n",
      "[False, True, False, False, True]\n",
      "4 1 \n",
      "[False, False, True, False, True]\n",
      "4 2 \n",
      "[False, False, False, True, True]\n",
      "4 3 \n"
     ]
    }
   ],
   "source": [
    "n, m = map(int,input().split())\n",
    "check = [False]*(n+1)\n",
    "a = [0] * b\n",
    "def go(index,n,m):\n",
    "    \n",
    "    print(check)\n",
    "    if index == m:\n",
    "        for i in range(m):\n",
    "            print(a[i], end = ' ')\n",
    "        print()\n",
    "        \n",
    "        return\n",
    "    \n",
    "    for i in range(1,n+1):\n",
    "        if check[i]:\n",
    "            continue\n",
    "            \n",
    "        check[i] = True\n",
    "        a[index] = i\n",
    "        go(index+1,n,m)\n",
    "        check[i] = False\n",
    "        \n",
    "go(0,n,m)"
   ]
  },
  {
   "cell_type": "code",
   "execution_count": null,
   "metadata": {},
   "outputs": [],
   "source": []
  },
  {
   "cell_type": "code",
   "execution_count": null,
   "metadata": {},
   "outputs": [],
   "source": []
  },
  {
   "cell_type": "code",
   "execution_count": null,
   "metadata": {},
   "outputs": [],
   "source": []
  },
  {
   "cell_type": "code",
   "execution_count": null,
   "metadata": {},
   "outputs": [],
   "source": []
  }
 ],
 "metadata": {
  "kernelspec": {
   "display_name": "Python 3",
   "language": "python",
   "name": "python3"
  },
  "language_info": {
   "codemirror_mode": {
    "name": "ipython",
    "version": 3
   },
   "file_extension": ".py",
   "mimetype": "text/x-python",
   "name": "python",
   "nbconvert_exporter": "python",
   "pygments_lexer": "ipython3",
   "version": "3.7.4"
  }
 },
 "nbformat": 4,
 "nbformat_minor": 2
}
