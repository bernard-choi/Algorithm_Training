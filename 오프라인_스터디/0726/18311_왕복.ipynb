{
 "cells": [
  {
   "cell_type": "code",
   "execution_count": 128,
   "metadata": {},
   "outputs": [
    {
     "name": "stdout",
     "output_type": "stream",
     "text": [
      "5 28\n",
      "7 4 2 4 5\n",
      "4\n"
     ]
    }
   ],
   "source": [
    "a,b = map(int,input().split())\n",
    "input_list = list(map(int,input().split()))\n",
    "\n",
    "new_list = [0] * len(input_list) * 2\n",
    "\n",
    "num = input_list[0]\n",
    "new_list[0] = num\n",
    "\n",
    "for i in range(1,len(input_list)):\n",
    "    num += input_list[i]\n",
    "    new_list[i] = num\n",
    "\n",
    "num2 = new_list[len(input_list)-1]\n",
    "for i in range(len(input_list)-1,-1,-1):\n",
    "    num2 += input_list[i]\n",
    "    new_list[len(input_list)*2-i-1] = num2\n",
    "    \n",
    "for i in range(len(new_list)):\n",
    "    if b < new_list[i]:\n",
    "        if i > len(input_list):\n",
    "            print(len(new_list)-i)\n",
    "        else:\n",
    "            print(i+1)\n",
    "        break"
   ]
  }
 ],
 "metadata": {
  "kernelspec": {
   "display_name": "Python 3",
   "language": "python",
   "name": "python3"
  },
  "language_info": {
   "codemirror_mode": {
    "name": "ipython",
    "version": 3
   },
   "file_extension": ".py",
   "mimetype": "text/x-python",
   "name": "python",
   "nbconvert_exporter": "python",
   "pygments_lexer": "ipython3",
   "version": "3.7.4"
  }
 },
 "nbformat": 4,
 "nbformat_minor": 2
}
