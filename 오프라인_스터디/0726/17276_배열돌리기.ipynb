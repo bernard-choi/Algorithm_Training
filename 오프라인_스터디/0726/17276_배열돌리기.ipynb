{
 "cells": [
  {
   "cell_type": "code",
   "execution_count": 19,
   "metadata": {},
   "outputs": [
    {
     "name": "stdout",
     "output_type": "stream",
     "text": [
      "1\n",
      "5 0\n",
      "1 2 3 4 5\n",
      "6 7 8 9 10\n",
      "11 12 13 14 15\n",
      "16 17 18 19 20\n",
      "21 22 23 24 25\n",
      "1 2 3 4 5 \n",
      "6 7 8 9 10 \n",
      "11 12 13 14 15 \n",
      "16 17 18 19 20 \n",
      "21 22 23 24 25 "
     ]
    }
   ],
   "source": [
    "import copy\n",
    "\n",
    "def do(a,b,matrix):\n",
    "    d = copy.deepcopy(matrix)\n",
    "    if b > 0:\n",
    "        rotate = b//45\n",
    "        \n",
    "        for l in range(rotate):\n",
    "    \n",
    "            for i in range(a):\n",
    "                d[i][(a+1)//2-1] = matrix[i][i] \n",
    "\n",
    "            for i in range(a):\n",
    "                 d[i][a-i-1] = matrix[(a+1)//2-1][i]\n",
    "\n",
    "            for i in range(a):\n",
    "                d[(a+1)//2-1][a-i-1] = matrix[i][a-i-1]   \n",
    "\n",
    "            for i in range(a):\n",
    "                d[a-i-1][a-i-1] = matrix[(a+1)//2-1][a-i-1]\n",
    "\n",
    "            for i in range(a):\n",
    "                d[a-i-1][(a+1)//2-1] = matrix[a-i-1][a-i-1]\n",
    "\n",
    "            for i in range(a):\n",
    "                d[a-i-1][i] = matrix[a-i-1][(a+1)//2-1]\n",
    "\n",
    "            for i in range(a):\n",
    "                d[(a+1)//2-1][i] = matrix[a-i-1][i]\n",
    "                \n",
    "            matrix = d\n",
    "            d = copy.deepcopy(matrix)\n",
    "            \n",
    "        for i in range(a):\n",
    "            for j in range(a):\n",
    "                print(matrix[i][j], end = ' ')\n",
    "            if i != a-1:\n",
    "                print()\n",
    "\n",
    "\n",
    "    else:\n",
    "        \n",
    "        rotate = abs(b)//45\n",
    "        \n",
    "        for l in range(rotate):\n",
    "            \n",
    "            for i in range(a):\n",
    "                d[i][i] = matrix[i][(a+1)//2-1] \n",
    "\n",
    "            for i in range(a):\n",
    "                d[(a+1)//2-1][i] = matrix[i][a-i-1] \n",
    "\n",
    "            for i in range(a):\n",
    "                d[i][a-i-1] = matrix[(a+1)//2-1][a-i-1]  \n",
    "\n",
    "            for i in range(a):\n",
    "                d[(a+1)//2-1][a-i-1] = matrix[a-i-1][a-i-1] \n",
    "\n",
    "            for i in range(a):\n",
    "                d[a-i-1][a-i-1] = matrix[a-i-1][(a+1)//2-1]\n",
    "\n",
    "            for i in range(a):\n",
    "                d[a-i-1][(a+1)//2-1] = matrix[a-i-1][i] \n",
    "\n",
    "            for i in range(a):\n",
    "                d[a-i-1][i] = matrix[(a+1)//2-1][i]\n",
    "                \n",
    "            matrix = d\n",
    "            d = copy.deepcopy(matrix)\n",
    "            \n",
    "        for i in range(a):\n",
    "            for j in range(a):\n",
    "                print(matrix[i][j], end = ' ')\n",
    "            if i != a-1:\n",
    "                print()\n",
    "\n",
    "\n",
    "\n",
    "n = int(input())\n",
    "for k in range(n):\n",
    "    a,b = map(int,input().split())\n",
    "    matrix = []\n",
    "    for i in range(a):\n",
    "        matrix.append(list(map(int,input().split())))\n",
    "        \n",
    "    do(a,b,matrix)\n",
    "    if k != n-1:\n",
    "        print()"
   ]
  },
  {
   "cell_type": "code",
   "execution_count": 99,
   "metadata": {},
   "outputs": [
    {
     "data": {
      "text/plain": [
       "5"
      ]
     },
     "execution_count": 99,
     "metadata": {},
     "output_type": "execute_result"
    }
   ],
   "source": [
    "len(answer[0])"
   ]
  },
  {
   "cell_type": "code",
   "execution_count": 88,
   "metadata": {},
   "outputs": [
    {
     "data": {
      "text/plain": [
       "[[11, 2, 1, 4, 3],\n",
       " [6, 12, 7, 8, 10],\n",
       " [21, 17, 13, 9, 5],\n",
       " [16, 18, 19, 14, 20],\n",
       " [23, 22, 25, 24, 15],\n",
       " [3, 2, 5, 4, 15],\n",
       " [6, 8, 9, 14, 10],\n",
       " [1, 7, 13, 19, 25],\n",
       " [16, 12, 17, 18, 20],\n",
       " [11, 22, 21, 24, 23]]"
      ]
     },
     "execution_count": 88,
     "metadata": {},
     "output_type": "execute_result"
    }
   ],
   "source": [
    "answer"
   ]
  },
  {
   "cell_type": "markdown",
   "metadata": {},
   "source": [
    "## do(5,90,matrix)"
   ]
  },
  {
   "cell_type": "code",
   "execution_count": 46,
   "metadata": {},
   "outputs": [],
   "source": [
    "d = [[0]*a for _ in range(a)]"
   ]
  },
  {
   "cell_type": "code",
   "execution_count": 47,
   "metadata": {},
   "outputs": [
    {
     "data": {
      "text/plain": [
       "[[0, 0, 0, 0, 0],\n",
       " [0, 0, 0, 0, 0],\n",
       " [0, 0, 0, 0, 0],\n",
       " [0, 0, 0, 0, 0],\n",
       " [0, 0, 0, 0, 0]]"
      ]
     },
     "execution_count": 47,
     "metadata": {},
     "output_type": "execute_result"
    }
   ],
   "source": [
    "d"
   ]
  },
  {
   "cell_type": "code",
   "execution_count": 48,
   "metadata": {},
   "outputs": [
    {
     "data": {
      "text/plain": [
       "[[1, 2, 3, 4, 5],\n",
       " [6, 7, 8, 9, 10],\n",
       " [11, 12, 13, 14, 15],\n",
       " [16, 17, 18, 19, 20],\n",
       " [21, 22, 23, 24, 25]]"
      ]
     },
     "execution_count": 48,
     "metadata": {},
     "output_type": "execute_result"
    }
   ],
   "source": [
    "matrix"
   ]
  },
  {
   "cell_type": "code",
   "execution_count": 53,
   "metadata": {},
   "outputs": [],
   "source": [
    "d = copy.deepcopy(matrix)\n",
    "\n",
    "for i in range(a):\n",
    "    d[i][(a+1)//2-1] = matrix[i][i] \n",
    "\n",
    "for i in range(a):\n",
    "     d[i][a-i-1] = matrix[(a+1)//2-1][i]\n",
    "\n",
    "for i in range(a):\n",
    "    d[(a+1)//2-1][a-i-1] = matrix[i][a-i-1]   \n",
    "\n",
    "for i in range(a):\n",
    "    d[a-i-1][a-i-1] = matrix[(a+1)//2-1][a-i-1]\n",
    "\n",
    "for i in range(a):\n",
    "    d[a-i-1][(a+1)//2-1] = matrix[a-i-1][a-i-1]\n",
    "\n",
    "for i in range(a):\n",
    "    d[a-i-1][i] = matrix[a-i-1][(a+1)//2-1]\n",
    "\n",
    "for i in range(a):\n",
    "    d[(a+1)//2-1][i] = matrix[a-i-1][i]"
   ]
  },
  {
   "cell_type": "code",
   "execution_count": 54,
   "metadata": {},
   "outputs": [
    {
     "data": {
      "text/plain": [
       "[[11, 2, 1, 4, 3],\n",
       " [6, 12, 7, 8, 10],\n",
       " [21, 17, 13, 9, 5],\n",
       " [16, 18, 19, 14, 20],\n",
       " [23, 22, 25, 24, 15]]"
      ]
     },
     "execution_count": 54,
     "metadata": {},
     "output_type": "execute_result"
    }
   ],
   "source": [
    "d"
   ]
  },
  {
   "cell_type": "code",
   "execution_count": 13,
   "metadata": {},
   "outputs": [
    {
     "name": "stdout",
     "output_type": "stream",
     "text": [
      "12345"
     ]
    }
   ],
   "source": [
    "a = [1,2,3,45]\n",
    "for i in range(len(a)):\n",
    "    print(a[i], end= '')"
   ]
  },
  {
   "cell_type": "code",
   "execution_count": null,
   "metadata": {},
   "outputs": [],
   "source": []
  }
 ],
 "metadata": {
  "kernelspec": {
   "display_name": "Python 3",
   "language": "python",
   "name": "python3"
  },
  "language_info": {
   "codemirror_mode": {
    "name": "ipython",
    "version": 3
   },
   "file_extension": ".py",
   "mimetype": "text/x-python",
   "name": "python",
   "nbconvert_exporter": "python",
   "pygments_lexer": "ipython3",
   "version": "3.7.4"
  }
 },
 "nbformat": 4,
 "nbformat_minor": 2
}
