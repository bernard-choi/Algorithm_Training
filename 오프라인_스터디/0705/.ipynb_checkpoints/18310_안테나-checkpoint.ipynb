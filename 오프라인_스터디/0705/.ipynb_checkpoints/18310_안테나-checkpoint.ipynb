{
 "cells": [
  {
   "cell_type": "code",
   "execution_count": 28,
   "metadata": {},
   "outputs": [
    {
     "name": "stdout",
     "output_type": "stream",
     "text": [
      "4\n",
      "5 1 7 9\n",
      "5\n"
     ]
    }
   ],
   "source": [
    "n = int(input())\n",
    "int_input = list(map(int,input().split()))\n",
    "\n",
    "def do(int_input,x):\n",
    "    sum_value = 0\n",
    "    for i in range(len(int_input)):\n",
    "        sum_value += abs(int_input[i] - int_input[x])\n",
    "        \n",
    "    return sum_value\n",
    "\n",
    "def median(int_input):\n",
    "    if len(int_input) % 2 == 1:\n",
    "        return int_input[int_intput // 2]\n",
    "    else:\n",
    "        a = do(int_input,len(int_input)//2-1)\n",
    "        b = do(int_input,len(int_input)//2)\n",
    "        if a > b:\n",
    "            return int_input[len(int_input)//2]\n",
    "        else:\n",
    "            return int_input[len(int_input)//2 -1]\n",
    "        \n",
    "print(median(sorted(int_input)))"
   ]
  }
 ],
 "metadata": {
  "kernelspec": {
   "display_name": "Python 3",
   "language": "python",
   "name": "python3"
  },
  "language_info": {
   "codemirror_mode": {
    "name": "ipython",
    "version": 3
   },
   "file_extension": ".py",
   "mimetype": "text/x-python",
   "name": "python",
   "nbconvert_exporter": "python",
   "pygments_lexer": "ipython3",
   "version": "3.7.6"
  }
 },
 "nbformat": 4,
 "nbformat_minor": 2
}
