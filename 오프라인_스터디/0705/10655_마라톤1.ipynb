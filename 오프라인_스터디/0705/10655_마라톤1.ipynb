{
 "cells": [
  {
   "cell_type": "code",
   "execution_count": 33,
   "metadata": {},
   "outputs": [
    {
     "name": "stdout",
     "output_type": "stream",
     "text": [
      "4\n",
      "0 0\n",
      "8 3\n",
      "11 -1\n",
      "10 0\n"
     ]
    },
    {
     "data": {
      "text/plain": [
       "14"
      ]
     },
     "execution_count": 33,
     "metadata": {},
     "output_type": "execute_result"
    }
   ],
   "source": [
    "n = int(input())\n",
    "matrix = []\n",
    "for i in range(n):\n",
    "    matrix.append(list(map(int,input().split())))\n",
    "    \n",
    "\n",
    "def mah(a,b):\n",
    "    return abs(a[0]-b[0]) + abs(a[1]-b[1])\n",
    "\n",
    "answer = []\n",
    "for i in range(len(matrix)-2):\n",
    "    answer.append(mah(matrix[i],matrix[i+1]) + mah(matrix[i+1],matrix[i+2]) - mah(matrix[i],matrix[i+2]))\n",
    "\n",
    "\n",
    "matrix.pop(answer.index(max(answer))+1)\n",
    "\n",
    "answer2 = []\n",
    "for i in range(len(matrix)-1):\n",
    "    answer2.append(mah(matrix[i],matrix[i+1]))\n",
    "    \n",
    "print(sum(answer2))"
   ]
  }
 ],
 "metadata": {
  "kernelspec": {
   "display_name": "Python 3",
   "language": "python",
   "name": "python3"
  },
  "language_info": {
   "codemirror_mode": {
    "name": "ipython",
    "version": 3
   },
   "file_extension": ".py",
   "mimetype": "text/x-python",
   "name": "python",
   "nbconvert_exporter": "python",
   "pygments_lexer": "ipython3",
   "version": "3.7.4"
  }
 },
 "nbformat": 4,
 "nbformat_minor": 2
}
