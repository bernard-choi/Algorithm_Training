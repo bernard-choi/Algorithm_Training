{
 "cells": [
  {
   "cell_type": "code",
   "execution_count": null,
   "metadata": {},
   "outputs": [],
   "source": [
    "def solution1(input_list):\n",
    "    "
   ]
  },
  {
   "cell_type": "code",
   "execution_count": 360,
   "metadata": {},
   "outputs": [
    {
     "name": "stdout",
     "output_type": "stream",
     "text": [
      "4\n"
     ]
    }
   ],
   "source": [
    "n = int(input())"
   ]
  },
  {
   "cell_type": "code",
   "execution_count": 361,
   "metadata": {},
   "outputs": [],
   "source": [
    "start_list = []\n",
    "for i in range(n):\n",
    "    start_list.append(i+1)"
   ]
  },
  {
   "cell_type": "code",
   "execution_count": 362,
   "metadata": {},
   "outputs": [
    {
     "data": {
      "text/plain": [
       "[1, 2, 3, 4]"
      ]
     },
     "execution_count": 362,
     "metadata": {},
     "output_type": "execute_result"
    }
   ],
   "source": [
    "start_list"
   ]
  },
  {
   "cell_type": "code",
   "execution_count": 396,
   "metadata": {},
   "outputs": [
    {
     "data": {
      "text/plain": [
       "2"
      ]
     },
     "execution_count": 396,
     "metadata": {},
     "output_type": "execute_result"
    }
   ],
   "source": [
    "yunsik = [5,4,1,2,3]\n",
    "yunsik.index(1)"
   ]
  },
  {
   "cell_type": "code",
   "execution_count": 363,
   "metadata": {},
   "outputs": [],
   "source": [
    "def factorial(n):\n",
    "    init = 1\n",
    "    for i in range(n):\n",
    "        init *= (n-i)\n",
    "        \n",
    "    return init"
   ]
  },
  {
   "cell_type": "code",
   "execution_count": 417,
   "metadata": {},
   "outputs": [],
   "source": [
    "def rank(input_list, x):\n",
    "    return sorted(input_list).index(x) \n",
    "    \n",
    "def list_pop(input_list,x):\n",
    "    k = input_list.index(x)\n",
    "    input_list.pop(k)\n",
    "    return input_list"
   ]
  },
  {
   "cell_type": "code",
   "execution_count": 427,
   "metadata": {},
   "outputs": [],
   "source": [
    "start_list = [4,3,2,1]"
   ]
  },
  {
   "cell_type": "code",
   "execution_count": 428,
   "metadata": {},
   "outputs": [
    {
     "name": "stdout",
     "output_type": "stream",
     "text": [
      "3\n",
      "[4, 3, 2, 1]\n",
      "2\n",
      "[3, 2, 1]\n",
      "1\n",
      "[2, 1]\n"
     ]
    },
    {
     "data": {
      "text/plain": [
       "24"
      ]
     },
     "execution_count": 428,
     "metadata": {},
     "output_type": "execute_result"
    }
   ],
   "source": [
    "check_list = start_list.copy()\n",
    "answer = 0\n",
    "for i in range(0,len(start_list)-1):\n",
    "    print(rank(check_list,start_list[i]))\n",
    "    print(check_list)\n",
    "\n",
    "    answer += factorial(len(check_list)-1) * rank(check_list,start_list[i])\n",
    "    list_pop(check_list,start_list[i])\n",
    "    \n",
    "answer + 1\n",
    "\n",
    "    \n",
    "    "
   ]
  },
  {
   "cell_type": "code",
   "execution_count": 430,
   "metadata": {},
   "outputs": [],
   "source": [
    "def solution1(start_list):\n",
    "    check_list = start_list.copy()\n",
    "    answer = 0\n",
    "    for i in range(0,len(start_list)-1):\n",
    "        answer += factorial(len(check_list)-1) * rank(check_list,start_list[i])\n",
    "        list_pop(check_list,start_list[i])\n",
    "    \n",
    "    print(answer + 1)"
   ]
  },
  {
   "cell_type": "code",
   "execution_count": 433,
   "metadata": {},
   "outputs": [
    {
     "name": "stdout",
     "output_type": "stream",
     "text": [
      "120\n"
     ]
    }
   ],
   "source": [
    "solution1([5,4,3,2,1])"
   ]
  },
  {
   "cell_type": "code",
   "execution_count": null,
   "metadata": {},
   "outputs": [],
   "source": [
    "def solution2"
   ]
  },
  {
   "cell_type": "code",
   "execution_count": 435,
   "metadata": {},
   "outputs": [],
   "source": [
    "start_list = [1,2,3,4,5]\n",
    "check_list = start_list.copy()\n",
    "answer_list = []"
   ]
  },
  {
   "cell_type": "code",
   "execution_count": 444,
   "metadata": {},
   "outputs": [],
   "source": [
    "n = 7"
   ]
  },
  {
   "cell_type": "code",
   "execution_count": 449,
   "metadata": {},
   "outputs": [
    {
     "data": {
      "text/plain": [
       "0"
      ]
     },
     "execution_count": 449,
     "metadata": {},
     "output_type": "execute_result"
    }
   ],
   "source": [
    "a = (n-1) // factorial(len(start_list)-1)"
   ]
  },
  {
   "cell_type": "code",
   "execution_count": null,
   "metadata": {},
   "outputs": [],
   "source": [
    "answer_list.append(check_list[a])\n",
    "check_list.pop"
   ]
  },
  {
   "cell_type": "code",
   "execution_count": 447,
   "metadata": {},
   "outputs": [
    {
     "data": {
      "text/plain": [
       "24"
      ]
     },
     "execution_count": 447,
     "metadata": {},
     "output_type": "execute_result"
    }
   ],
   "source": [
    "factorial(len(start_list)-1)"
   ]
  },
  {
   "cell_type": "code",
   "execution_count": 505,
   "metadata": {},
   "outputs": [],
   "source": [
    "n = 120"
   ]
  },
  {
   "cell_type": "code",
   "execution_count": 509,
   "metadata": {},
   "outputs": [],
   "source": [
    "start_list = [1,2,3,4,5]"
   ]
  },
  {
   "cell_type": "code",
   "execution_count": 527,
   "metadata": {},
   "outputs": [
    {
     "name": "stdout",
     "output_type": "stream",
     "text": [
      "118\n",
      "4\n",
      "[1, 2, 3, 4, 5]\n",
      "22\n",
      "3\n",
      "[1, 2, 3, 4]\n",
      "4\n",
      "2\n",
      "[1, 2, 3]\n",
      "0\n",
      "0\n",
      "[1, 2]\n",
      "0\n",
      "0\n",
      "[2]\n"
     ]
    }
   ],
   "source": [
    "def solution2(n):\n",
    "    \n",
    "    start_list = [1,2,3,4,5]\n",
    "answer_list = []\n",
    "\n",
    "for i in range(0,len(start_list)):\n",
    "    k = n-1\n",
    "    print(k)\n",
    "    a = k // factorial(len(start_list)-1)\n",
    "    print(a)\n",
    "    print(start_list)\n",
    "    answer_list.append(start_list[a])\n",
    "    start_list.pop(a)\n",
    "\n",
    "    n = n - (a*factorial(len(start_list)))\n"
   ]
  },
  {
   "cell_type": "code",
   "execution_count": 528,
   "metadata": {},
   "outputs": [
    {
     "data": {
      "text/plain": [
       "[5, 4, 3, 1, 2]"
      ]
     },
     "execution_count": 528,
     "metadata": {},
     "output_type": "execute_result"
    }
   ],
   "source": [
    "answer_list"
   ]
  },
  {
   "cell_type": "code",
   "execution_count": null,
   "metadata": {},
   "outputs": [],
   "source": []
  }
 ],
 "metadata": {
  "kernelspec": {
   "display_name": "Python 3",
   "language": "python",
   "name": "python3"
  },
  "language_info": {
   "codemirror_mode": {
    "name": "ipython",
    "version": 3
   },
   "file_extension": ".py",
   "mimetype": "text/x-python",
   "name": "python",
   "nbconvert_exporter": "python",
   "pygments_lexer": "ipython3",
   "version": "3.7.4"
  }
 },
 "nbformat": 4,
 "nbformat_minor": 2
}
