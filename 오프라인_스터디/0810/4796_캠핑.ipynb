{
 "cells": [
  {
   "cell_type": "code",
   "execution_count": 26,
   "metadata": {},
   "outputs": [
    {
     "name": "stdout",
     "output_type": "stream",
     "text": [
      "5 8 20\n",
      "0 0 0\n",
      "Case 1: 14\n"
     ]
    }
   ],
   "source": [
    "matrix = []\n",
    "while True :\n",
    "    a = list(map(int,input().split()))\n",
    "    matrix.append(a)\n",
    "    if (a[0]== 0) &  (a[1]== 0) & (a[2]== 0):\n",
    "        break\n",
    "        \n",
    "def do(input_list):\n",
    "    a = input_list[2]//input_list[1]\n",
    "    b = input_list[2] - a*input_list[1]\n",
    "\n",
    "    if b < input_list[0]:\n",
    "        return a*input_list[0] + b\n",
    "    else:\n",
    "        return a*input_list[0] + input_list[0]\n",
    "    \n",
    "for i in range(len(matrix)-1):\n",
    "    answer = do(matrix[i])\n",
    "    print(\"Case {}: {}\".format(i+1,answer))"
   ]
  }
 ],
 "metadata": {
  "kernelspec": {
   "display_name": "Python 3",
   "language": "python",
   "name": "python3"
  },
  "language_info": {
   "codemirror_mode": {
    "name": "ipython",
    "version": 3
   },
   "file_extension": ".py",
   "mimetype": "text/x-python",
   "name": "python",
   "nbconvert_exporter": "python",
   "pygments_lexer": "ipython3",
   "version": "3.7.6"
  }
 },
 "nbformat": 4,
 "nbformat_minor": 4
}
