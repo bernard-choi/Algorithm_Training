{
 "cells": [
  {
   "cell_type": "code",
   "execution_count": 124,
   "metadata": {},
   "outputs": [
    {
     "name": "stdout",
     "output_type": "stream",
     "text": [
      "2\n",
      "AB\n",
      "BA\n",
      "187\n"
     ]
    }
   ],
   "source": [
    "n = int(input())\n",
    "input_list = []\n",
    "for i in range(n):\n",
    "    input_list.append(list(map(str,input())))\n",
    "    \n",
    "input_list2 = [] ## 자릿수 정보를 담기 위한 리스트. [[5, 'A'],[1, 'B'],[2, 'C'],[4, 'C'],[3, 'D'], [2, 'E'],[1, 'F'],[3, 'G']]\n",
    "for i in range(len(input_list)):\n",
    "    for index,j in enumerate(input_list[i]):\n",
    "        input_list2.append([len(input_list[i])-index,j])\n",
    " \n",
    "input_list2.sort(key = lambda x: x[1])\n",
    "\n",
    "alph_list = list(set([y for x in input_list for y in x])) ## ['A', 'B', 'C', 'D', 'E', 'F', 'G'] input으로 받은 단어들의 unique값\n",
    "\n",
    "cal_list = []\n",
    "for i in alph_list:\n",
    "    init = 0\n",
    "    for j in input_list2:\n",
    "        if j[1] == i:\n",
    "            init += 10**(j[0]-1)\n",
    "    cal_list.append(init) ## 가중치 계산\n",
    "    \n",
    "cal_list.sort(reverse=True) # 역순 ex) [10000, 1010, 100, 100, 10, 1, 1]\n",
    "    \n",
    "check_num = [9, 8, 7, 6, 5, 4, 3, 2, 1, 0] # 가중치와 곱할 예정\n",
    "\n",
    "print(sum([cal_list[x] * check_num[x] for x in range(len(cal_list))]))"
   ]
  }
 ],
 "metadata": {
  "kernelspec": {
   "display_name": "Python 3",
   "language": "python",
   "name": "python3"
  },
  "language_info": {
   "codemirror_mode": {
    "name": "ipython",
    "version": 3
   },
   "file_extension": ".py",
   "mimetype": "text/x-python",
   "name": "python",
   "nbconvert_exporter": "python",
   "pygments_lexer": "ipython3",
   "version": "3.7.4"
  }
 },
 "nbformat": 4,
 "nbformat_minor": 2
}
