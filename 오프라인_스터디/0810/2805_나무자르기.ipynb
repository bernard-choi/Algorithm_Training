{
 "cells": [
  {
   "cell_type": "code",
   "execution_count": 66,
   "metadata": {},
   "outputs": [
    {
     "name": "stdout",
     "output_type": "stream",
     "text": [
      "3 1\n",
      "1 2 2\n",
      "1\n"
     ]
    }
   ],
   "source": [
    "## 이진탐색\n",
    "\n",
    "a,b = map(int,input().split())\n",
    "input_list = list(map(int,input().split()))\n",
    "\n",
    "input_list.sort()\n",
    "\n",
    "def binary_search(data,start,end,M):\n",
    "    answer = 0\n",
    "    while start <= end: ## start랑 end가 같아지면\n",
    "        mid = (start+end)//2\n",
    "\n",
    "        tree_get = sum([x-mid for x in data if x-mid >= 0])\n",
    "\n",
    "\n",
    "                              \n",
    "        if tree_get >= M:\n",
    "            answer = mid\n",
    "            start = mid + 1\n",
    "        \n",
    "        else:\n",
    "            end = mid - 1\n",
    "            \n",
    "    return answer\n",
    "\n",
    "\n",
    "result = binary_search(input_list,0,input_list[-1],b)\n",
    "print(result)\n"
   ]
  },
  {
   "cell_type": "code",
   "execution_count": null,
   "metadata": {},
   "outputs": [],
   "source": [
    "4 1 -> 5"
   ]
  },
  {
   "cell_type": "code",
   "execution_count": null,
   "metadata": {},
   "outputs": [],
   "source": []
  }
 ],
 "metadata": {
  "kernelspec": {
   "display_name": "Python 3",
   "language": "python",
   "name": "python3"
  },
  "language_info": {
   "codemirror_mode": {
    "name": "ipython",
    "version": 3
   },
   "file_extension": ".py",
   "mimetype": "text/x-python",
   "name": "python",
   "nbconvert_exporter": "python",
   "pygments_lexer": "ipython3",
   "version": "3.7.4"
  }
 },
 "nbformat": 4,
 "nbformat_minor": 2
}
