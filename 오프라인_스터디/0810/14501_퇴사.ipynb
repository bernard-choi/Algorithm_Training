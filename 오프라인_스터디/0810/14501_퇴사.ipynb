{
 "cells": [
  {
   "cell_type": "code",
   "execution_count": 64,
   "metadata": {},
   "outputs": [
    {
     "name": "stdout",
     "output_type": "stream",
     "text": [
      "1\n",
      "2 20\n",
      "0\n"
     ]
    }
   ],
   "source": [
    "n = int(input())\n",
    "input_list = []\n",
    "for i in range(n):\n",
    "    input_list.append(list(map(int,input().split())))\n",
    "\n",
    "answer = []\n",
    "def do(day,price,path = []):\n",
    "\n",
    "    if day == n:\n",
    "        answer.append(price)\n",
    "        return\n",
    "    \n",
    "    if day > n:\n",
    "        if len(path)>2:\n",
    "            answer.append(price - input_list[path[-2]][1])\n",
    "        else:\n",
    "            answer.append(0)\n",
    "        return\n",
    "    \n",
    "    do(day+input_list[day][0],price+input_list[day][1],path +[day+input_list[day][0]])\n",
    "    do(day+1,price,path +[day+1])\n",
    "    \n",
    "do(0,0)    \n",
    "print(max(answer))"
   ]
  }
 ],
 "metadata": {
  "kernelspec": {
   "display_name": "Python 3",
   "language": "python",
   "name": "python3"
  },
  "language_info": {
   "codemirror_mode": {
    "name": "ipython",
    "version": 3
   },
   "file_extension": ".py",
   "mimetype": "text/x-python",
   "name": "python",
   "nbconvert_exporter": "python",
   "pygments_lexer": "ipython3",
   "version": "3.7.4"
  }
 },
 "nbformat": 4,
 "nbformat_minor": 2
}
