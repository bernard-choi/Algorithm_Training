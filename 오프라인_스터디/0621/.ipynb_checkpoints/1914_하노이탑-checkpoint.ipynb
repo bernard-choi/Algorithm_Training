{
 "cells": [
  {
   "cell_type": "code",
   "execution_count": 1,
   "metadata": {},
   "outputs": [
    {
     "name": "stdout",
     "output_type": "stream",
     "text": [
      "100\n",
      "1267650600228229401496703205375\n"
     ]
    }
   ],
   "source": [
    "i = int(input())\n",
    "\n",
    "def hanoi(n,fr,to,via):\n",
    "    if n == 1:\n",
    "        print(fr, to)\n",
    "    \n",
    "    else:\n",
    "        hanoi(n-1,fr,via,to)\n",
    "        hanoi(1,fr,to,via)\n",
    "        hanoi(n-1,via,to,fr)\n",
    "\n",
    "\n",
    "\n",
    "def hanoi_count(n):\n",
    "    print((2**n)-1)\n",
    "\n",
    "    \n",
    "hanoi_count(i)\n",
    "if i <= 20:\n",
    "    hanoi(i,1,3,2)\n",
    "    \n"
   ]
  }
 ],
 "metadata": {
  "kernelspec": {
   "display_name": "Python 3",
   "language": "python",
   "name": "python3"
  },
  "language_info": {
   "codemirror_mode": {
    "name": "ipython",
    "version": 3
   },
   "file_extension": ".py",
   "mimetype": "text/x-python",
   "name": "python",
   "nbconvert_exporter": "python",
   "pygments_lexer": "ipython3",
   "version": "3.7.6"
  }
 },
 "nbformat": 4,
 "nbformat_minor": 2
}
