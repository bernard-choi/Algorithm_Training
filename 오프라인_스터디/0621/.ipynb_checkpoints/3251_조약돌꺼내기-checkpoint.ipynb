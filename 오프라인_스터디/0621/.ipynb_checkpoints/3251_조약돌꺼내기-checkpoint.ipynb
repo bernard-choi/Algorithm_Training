{
 "cells": [
  {
   "cell_type": "code",
   "execution_count": 22,
   "metadata": {},
   "outputs": [
    {
     "name": "stdout",
     "output_type": "stream",
     "text": [
      "5\n",
      "12 2 34 13 17\n",
      "4\n",
      "0.035028830818304504\n"
     ]
    }
   ],
   "source": [
    "M = int(input())\n",
    "input_list = list(map(int,input().split()))\n",
    "K = int(input())\n",
    "\n",
    "sum_value = 0\n",
    "total_sum = sum(input_list)\n",
    "for i in range(len(input_list)):\n",
    "    init = 1\n",
    "    for j in range(K):\n",
    "        init *= ((input_list[i]-j)/(total_sum-j))\n",
    "    sum_value += init\n",
    "    \n",
    "print(sum_value)\n",
    "    "
   ]
  }
 ],
 "metadata": {
  "kernelspec": {
   "display_name": "Python 3",
   "language": "python",
   "name": "python3"
  },
  "language_info": {
   "codemirror_mode": {
    "name": "ipython",
    "version": 3
   },
   "file_extension": ".py",
   "mimetype": "text/x-python",
   "name": "python",
   "nbconvert_exporter": "python",
   "pygments_lexer": "ipython3",
   "version": "3.7.6"
  }
 },
 "nbformat": 4,
 "nbformat_minor": 2
}
