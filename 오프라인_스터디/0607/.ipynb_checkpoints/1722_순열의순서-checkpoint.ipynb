{
 "cells": [
  {
   "cell_type": "code",
   "execution_count": null,
   "metadata": {},
   "outputs": [],
   "source": [
    "n = int(input())\n",
    "start_list = []\n",
    "for i in range(n):\n",
    "    start_list.append(i+1)\n",
    "    \n",
    "input_list = list(map(int,input().split()))\n",
    "\n",
    "def factorial(n):\n",
    "    init = 1\n",
    "    for i in range(n):\n",
    "        init *= (n-i)\n",
    "        \n",
    "    return init\n",
    "\n",
    "def rank(input_list, x):\n",
    "    return sorted(input_list).index(x) \n",
    "    \n",
    "def list_pop(input_list,x):\n",
    "    k = input_list.index(x)\n",
    "    input_list.pop(k)\n",
    "    return input_list\n",
    "\n",
    "def solution2(start_list):\n",
    "    check_list = start_list.copy()\n",
    "    answer = 0\n",
    "    for i in range(0,len(start_list)-1):\n",
    "        answer += factorial(len(check_list)-1) * rank(check_list,start_list[i])\n",
    "        list_pop(check_list,start_list[i])\n",
    "    \n",
    "    return answer + 1\n",
    "    \n",
    "def solution1(start_list,n):\n",
    "    answer_list = []\n",
    "\n",
    "    for i in range(0,len(start_list)):\n",
    "        k = n-1\n",
    "        a = k // factorial(len(start_list)-1)\n",
    "\n",
    "        answer_list.append(start_list[a])\n",
    "        start_list.pop(a)\n",
    "\n",
    "        n = n - (a*factorial(len(start_list)))\n",
    "        \n",
    "    return answer_list\n",
    "\n",
    "    \n",
    "\n",
    "\n",
    "if input_list[0] == 1:\n",
    "    a = solution1(start_list,input_list[1])\n",
    "    for i in range(len(a)):\n",
    "        print(a[i],end = \" \")\n",
    "    \n",
    "else:\n",
    "    input_list2 = input_list[1:] \n",
    "    print(solution2(input_list2))"
   ]
  }
 ],
 "metadata": {
  "kernelspec": {
   "display_name": "Python 3",
   "language": "python",
   "name": "python3"
  },
  "language_info": {
   "codemirror_mode": {
    "name": "ipython",
    "version": 3
   },
   "file_extension": ".py",
   "mimetype": "text/x-python",
   "name": "python",
   "nbconvert_exporter": "python",
   "pygments_lexer": "ipython3",
   "version": "3.7.6"
  }
 },
 "nbformat": 4,
 "nbformat_minor": 2
}
