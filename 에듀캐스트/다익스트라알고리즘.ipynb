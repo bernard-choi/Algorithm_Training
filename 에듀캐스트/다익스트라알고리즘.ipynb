{
 "cells": [
  {
   "cell_type": "code",
   "execution_count": null,
   "metadata": {},
   "outputs": [],
   "source": [
    "import sys\n",
    "\n",
    "def dijkstra(K,V,graph):\n",
    "    \n",
    "    INF = sys.maximize\n",
    "    \n",
    "    # s는 해당 노드를 방문 헀는지 여부를 저장하는 변수\n",
    "    s = [False] * V\n",
    "    \n",
    "    # d는 memoization을 위한 array이다. d[i] 는 정점 k에서 i까지 가는 최소한의 거리가 저장되어있다. \n",
    "    d = [INF] * V\n",
    "    d[k-1] = 0 ## 시작점은 0\n",
    "    \n",
    "    while True:\n",
    "        m = INF\n",
    "        N = -1\n",
    "        \n",
    "        # 방문하지 않은 노드중 d값이 가장 작은 값을 선택해 그 노드의 번호를 N에 저장. \n",
    "        # 즉 방문하지 않은 노드 중 K 정점과 가장 가까운 노드를 선택\n",
    "        \n",
    "        for j in range(V):\n",
    "            if not s[j] and m > d[j]: ## 방문하지 않았으며 \n",
    "                m = d[j]\n",
    "                N = j\n",
    "    "
   ]
  }
 ],
 "metadata": {
  "kernelspec": {
   "display_name": "Python 3",
   "language": "python",
   "name": "python3"
  },
  "language_info": {
   "codemirror_mode": {
    "name": "ipython",
    "version": 3
   },
   "file_extension": ".py",
   "mimetype": "text/x-python",
   "name": "python",
   "nbconvert_exporter": "python",
   "pygments_lexer": "ipython3",
   "version": "3.7.4"
  }
 },
 "nbformat": 4,
 "nbformat_minor": 2
}
