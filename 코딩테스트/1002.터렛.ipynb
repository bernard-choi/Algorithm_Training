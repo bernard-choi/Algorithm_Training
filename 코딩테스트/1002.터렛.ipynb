{
 "cells": [
  {
   "cell_type": "code",
   "execution_count": 8,
   "metadata": {},
   "outputs": [
    {
     "ename": "SyntaxError",
     "evalue": "invalid syntax (<ipython-input-8-0d9e321da92c>, line 7)",
     "output_type": "error",
     "traceback": [
      "\u001b[0;36m  File \u001b[0;32m\"<ipython-input-8-0d9e321da92c>\"\u001b[0;36m, line \u001b[0;32m7\u001b[0m\n\u001b[0;31m    distance = math.sqrt((a[0] - a[3])**2 + (a[1] - a[4])**2))\u001b[0m\n\u001b[0m                                                             ^\u001b[0m\n\u001b[0;31mSyntaxError\u001b[0m\u001b[0;31m:\u001b[0m invalid syntax\n"
     ]
    }
   ],
   "source": [
    "import sys\n",
    "import math\n",
    "\n",
    "\n",
    "n = int(input())\n",
    "\n",
    "for i in range(n):\n",
    "    x1,y1,r1,x2,y2,r2 = map(int,sys.stdin.readline().split())\n",
    "    distance = (x2 - x1)**2 + (y2 - y1)**2\n",
    "    add = (r2 + r1)**2\n",
    "    sub = (r2 - r1)**2\n",
    "\n",
    "    if (x1 == x2)&(y1 == y2):\n",
    "        if r1 == r2:\n",
    "            print(-1)\n",
    "        else:\n",
    "            print(0)\n",
    "    else:\n",
    "        if distance > add:\n",
    "                print(0)\n",
    "\n",
    "        elif distance == add:\n",
    "                print(1)\n",
    "\n",
    "        else: \n",
    "            # distance < add\n",
    "            if distance < sub:\n",
    "                print(0)\n",
    "            elif distance == sub:\n",
    "                print(1)\n",
    "            else:\n",
    "                \n",
    "                # sub < distance < add\n",
    "                print(2)\n",
    "    \n",
    "    "
   ]
  },
  {
   "cell_type": "code",
   "execution_count": 26,
   "metadata": {},
   "outputs": [],
   "source": [
    "import sys\n",
    "import math"
   ]
  },
  {
   "cell_type": "code",
   "execution_count": 34,
   "metadata": {},
   "outputs": [],
   "source": [
    "a = [1,1,1,1,1,5]"
   ]
  },
  {
   "cell_type": "code",
   "execution_count": 35,
   "metadata": {},
   "outputs": [
    {
     "name": "stdout",
     "output_type": "stream",
     "text": [
      "0\n"
     ]
    }
   ],
   "source": [
    "distance = math.sqrt((a[0] - a[3])**2 + (a[1] - a[4])**2)\n",
    "r = a[5] + a[2]\n",
    "\n",
    "if (a[0]==a[2])&(a[1]==a[3]):\n",
    "    if distance == r:\n",
    "        print(-1)\n",
    "    else:\n",
    "        print(0)\n",
    "else:\n",
    "    if distance < r:\n",
    "            print(2)\n",
    "\n",
    "    elif distance == r:\n",
    "            print(1)\n",
    "\n",
    "    else: \n",
    "        print(0)"
   ]
  },
  {
   "cell_type": "code",
   "execution_count": 39,
   "metadata": {},
   "outputs": [
    {
     "name": "stdout",
     "output_type": "stream",
     "text": [
      "1\n"
     ]
    }
   ],
   "source": [
    "x1,y1,r1,x2,y2,r2 = map(int,sys.stdin.readline().split())\n",
    "distance = (x1 - x2)**2 + (y2 - y1)**2\n",
    "add = (r2 + r1)**2\n",
    "sub = (r2 - r1)**2\n",
    "\n",
    "if (x1 == x2)&(y1 == y2):\n",
    "    if distance == add:\n",
    "        print(-1)\n",
    "    else:\n",
    "        print(0)\n",
    "else:\n",
    "    if distance > add:\n",
    "            print(0)\n",
    "\n",
    "    elif distance == add:\n",
    "            print(1)\n",
    "\n",
    "    else: \n",
    "        # distance < add\n",
    "        if distance < sub:\n",
    "            print(0)\n",
    "        elif distance == sub:\n",
    "            print(1)\n",
    "        else:\n",
    "                \n",
    "            # sub < distance < add\n",
    "            print(2)\n",
    "    "
   ]
  },
  {
   "cell_type": "code",
   "execution_count": null,
   "metadata": {},
   "outputs": [],
   "source": []
  }
 ],
 "metadata": {
  "kernelspec": {
   "display_name": "Python 3",
   "language": "python",
   "name": "python3"
  },
  "language_info": {
   "codemirror_mode": {
    "name": "ipython",
    "version": 3
   },
   "file_extension": ".py",
   "mimetype": "text/x-python",
   "name": "python",
   "nbconvert_exporter": "python",
   "pygments_lexer": "ipython3",
   "version": "3.7.4"
  }
 },
 "nbformat": 4,
 "nbformat_minor": 2
}
