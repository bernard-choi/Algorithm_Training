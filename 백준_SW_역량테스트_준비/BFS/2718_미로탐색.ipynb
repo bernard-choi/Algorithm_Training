{
 "cells": [
  {
   "cell_type": "code",
   "execution_count": 72,
   "metadata": {
    "scrolled": true
   },
   "outputs": [
    {
     "name": "stdout",
     "output_type": "stream",
     "text": [
      "7 7\n",
      "1011111\n",
      "1110001\n",
      "1000001\n",
      "1000001\n",
      "1000001\n",
      "1000001\n",
      "1111111\n",
      "13\n"
     ]
    }
   ],
   "source": [
    "a,b = map(int,input().split())\n",
    "dist = [[0]*b for _ in range(a)]\n",
    "matrix = []\n",
    "for i in range(a):\n",
    "    matrix.append(list(map(int,input())))\n",
    "    \n",
    "dx = [1,-1,0,0]\n",
    "dy = [0,0,1,-1]\n",
    "\n",
    "def bfs(x,y):\n",
    "    answer = 0\n",
    "    visited = []\n",
    "    queue = []\n",
    "    dist[0][0] = 1\n",
    "    queue.append([x,y])\n",
    "    visited.append([x,y])\n",
    "    while queue:\n",
    "        point = queue.pop(0)\n",
    "        for i in range(4):\n",
    "            nx,ny = point[0]+ dx[i],point[1] + dy[i]\n",
    "\n",
    "            if (0<= nx < a) and (0 <= ny < b) and (matrix[nx][ny] != 0):\n",
    "                if ([nx,ny] not in visited):\n",
    "                    queue.append([nx,ny])\n",
    "                    visited.append([nx,ny])\n",
    "                    dist[nx][ny] = dist[point[0]][point[1]] + 1\n",
    "                    \n",
    "    print(dist[a-1][b-1])\n",
    "\n",
    "    \n",
    "bfs(0,0)"
   ]
  },
  {
   "cell_type": "code",
   "execution_count": 73,
   "metadata": {},
   "outputs": [
    {
     "data": {
      "text/plain": [
       "[[1, 0, 5, 6, 7, 8, 9],\n",
       " [2, 3, 4, 0, 0, 0, 10],\n",
       " [3, 0, 0, 0, 0, 0, 11],\n",
       " [4, 0, 0, 0, 0, 0, 12],\n",
       " [5, 0, 0, 0, 0, 0, 13],\n",
       " [6, 0, 0, 0, 0, 0, 14],\n",
       " [7, 8, 9, 10, 11, 12, 13]]"
      ]
     },
     "execution_count": 73,
     "metadata": {},
     "output_type": "execute_result"
    }
   ],
   "source": [
    "dist"
   ]
  }
 ],
 "metadata": {
  "kernelspec": {
   "display_name": "Python 3",
   "language": "python",
   "name": "python3"
  },
  "language_info": {
   "codemirror_mode": {
    "name": "ipython",
    "version": 3
   },
   "file_extension": ".py",
   "mimetype": "text/x-python",
   "name": "python",
   "nbconvert_exporter": "python",
   "pygments_lexer": "ipython3",
   "version": "3.7.6"
  }
 },
 "nbformat": 4,
 "nbformat_minor": 2
}
