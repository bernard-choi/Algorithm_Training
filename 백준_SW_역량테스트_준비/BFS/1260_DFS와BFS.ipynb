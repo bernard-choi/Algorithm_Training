{
 "cells": [
  {
   "cell_type": "code",
   "execution_count": 108,
   "metadata": {},
   "outputs": [
    {
     "name": "stdout",
     "output_type": "stream",
     "text": [
      "1000 1 1000\n",
      "999 1000\n",
      "1000 999 \n",
      "1000 999 "
     ]
    }
   ],
   "source": [
    "n,m,v = map(int,input().split())\n",
    "matrix = [[0]*(n+1) for _ in range(n+1)]\n",
    "\n",
    "for i in range(m):\n",
    "    list_input = list(map(int,input().split()))\n",
    "    matrix[list_input[0]][list_input[1]] = 1\n",
    "    matrix[list_input[1]][list_input[0]] = 1\n",
    "    \n",
    "def bfs(start):\n",
    "    visited = [start]\n",
    "    queue = [start]\n",
    "    while queue:\n",
    "        n = queue.pop(0)\n",
    "\n",
    "        for i in range(1,len(matrix[n])):\n",
    "            c = matrix[n][i]\n",
    "            if c == 1 and (i not in visited):\n",
    "                queue.append(i)\n",
    "                visited.append(i)\n",
    "                \n",
    "    return visited\n",
    "        \n",
    "    \n",
    "def dfs(start,visited):\n",
    "    visited += [start]\n",
    "    for i in range(1,len(matrix[n])):\n",
    "        if matrix[start][i] == 1 and (i not in visited):\n",
    "            dfs(i,visited)\n",
    "            \n",
    "    return visited\n",
    "answer1 = dfs(v,[])\n",
    "answer2 = bfs(v)\n",
    "for i in range(len(answer1)):\n",
    "    print(answer1[i],end = ' ')\n",
    "\n",
    "\n",
    "print()\n",
    "    \n",
    "for i in range(len(answer2)):\n",
    "    print(answer2[i],end = ' ')\n"
   ]
  }
 ],
 "metadata": {
  "kernelspec": {
   "display_name": "Python 3",
   "language": "python",
   "name": "python3"
  },
  "language_info": {
   "codemirror_mode": {
    "name": "ipython",
    "version": 3
   },
   "file_extension": ".py",
   "mimetype": "text/x-python",
   "name": "python",
   "nbconvert_exporter": "python",
   "pygments_lexer": "ipython3",
   "version": "3.7.6"
  }
 },
 "nbformat": 4,
 "nbformat_minor": 2
}
