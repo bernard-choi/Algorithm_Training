{
 "cells": [
  {
   "cell_type": "code",
   "execution_count": null,
   "metadata": {},
   "outputs": [
    {
     "name": "stdout",
     "output_type": "stream",
     "text": [
      "10\n",
      "9\n",
      "21 34\n",
      "8\n",
      "13 21\n",
      "7\n",
      "8 13\n",
      "6\n",
      "5 8\n",
      "5\n",
      "3 5\n",
      "4\n",
      "2 3\n",
      "3\n",
      "1 2\n",
      "2\n",
      "1 1\n",
      "1\n",
      "0 1\n"
     ]
    }
   ],
   "source": [
    "import operator\n",
    "\n",
    "one_list = [0,1,1]\n",
    "zero_list = [1,0,1]\n",
    "\n",
    "def cal(n):\n",
    "    if n < len(one_list):\n",
    "        print(\"%d %d\"%(zero_list[n], one_list[n]))\n",
    "    \n",
    "    else:\n",
    "        for i in range(len(one_list),n+1):\n",
    "            one_list.append(one_list[i-1] + one_list[i-2])\n",
    "            zero_list.append(zero_list[i-1]+ zero_list[i-2])\n",
    "        \n",
    "        print(\"%d %d\"%(zero_list[n],one_list[n]))\n",
    "\n",
    "n = int(input())\n",
    "for i in range(n):\n",
    "    k = int(input())\n",
    "    cal(k)"
   ]
  }
 ],
 "metadata": {
  "kernelspec": {
   "display_name": "Python 3",
   "language": "python",
   "name": "python3"
  }
 },
 "nbformat": 4,
 "nbformat_minor": 2
}
