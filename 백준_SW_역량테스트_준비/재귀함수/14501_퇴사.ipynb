{
 "cells": [
  {
   "cell_type": "code",
   "execution_count": 93,
   "metadata": {},
   "outputs": [
    {
     "name": "stdout",
     "output_type": "stream",
     "text": [
      "2\n",
      "1 0\n",
      "1 0\n",
      "0\n"
     ]
    }
   ],
   "source": [
    "a = int(input())\n",
    "time = []\n",
    "cost = []\n",
    "for i in range(a):\n",
    "    a,b = map(int,input().split())\n",
    "    time.append(a)\n",
    "    cost.append(b)\n",
    "    \n",
    "answer_list = []\n",
    "\n",
    "def do(cost_sum,index): ## 재귀로 구현\n",
    "\n",
    "    if index >= len(time): ## 퇴사날 넘어가면 끝\n",
    "        return\n",
    "    \n",
    "    \n",
    "    if index + time[index] <= len(time): \n",
    "        answer_list.append(cost_sum + cost[index])\n",
    "        \n",
    "    \n",
    "    do(cost_sum + cost[index], index + time[index]) \n",
    "    do(cost_sum, index+1) ## 상담 안하고 다음날로 넘어가기\n",
    "    \n",
    "do(0,0)\n",
    "    \n",
    "if len(answer_list)==0: ## 상담 못하는 경우도 있다. 빈 리스트에 max적용하면 런타임에러 발생함. \n",
    "    print(0)\n",
    "else:\n",
    "    print(max(answer_list))\n",
    "    "
   ]
  }
 ],
 "metadata": {
  "kernelspec": {
   "display_name": "Python 3",
   "language": "python",
   "name": "python3"
  },
  "language_info": {
   "codemirror_mode": {
    "name": "ipython",
    "version": 3
   },
   "file_extension": ".py",
   "mimetype": "text/x-python",
   "name": "python",
   "nbconvert_exporter": "python",
   "pygments_lexer": "ipython3",
   "version": "3.7.6"
  }
 },
 "nbformat": 4,
 "nbformat_minor": 2
}
