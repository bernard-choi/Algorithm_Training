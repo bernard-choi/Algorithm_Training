{
 "cells": [
  {
   "cell_type": "code",
   "execution_count": 138,
   "metadata": {},
   "outputs": [
    {
     "name": "stdout",
     "output_type": "stream",
     "text": [
      "4 6\n",
      "a t c i s w\n",
      "acis\n",
      "acit\n",
      "aciw\n",
      "acst\n",
      "acsw\n",
      "actw\n",
      "aist\n",
      "aisw\n",
      "aitw\n",
      "astw\n",
      "cist\n",
      "cisw\n",
      "citw\n",
      "istw\n"
     ]
    }
   ],
   "source": [
    "## n: 만들어야하는 암호의 길이\n",
    "## alpha: 사용할 수 있는 알파벳\n",
    "## 현재까지 생성된 패스워드\n",
    "## i번째 index\n",
    "\n",
    "def moum(password):\n",
    "    answer = 0\n",
    "    for i in range(len(password)):\n",
    "        if password[i] in moum_list:\n",
    "            answer += 1\n",
    "    \n",
    "    return answer\n",
    "\n",
    "def zaum(password):\n",
    "    \n",
    "    moum_number = moum(password)\n",
    "    return len(password) - moum_number\n",
    "\n",
    "def go(n,alpha,password,i):\n",
    "    if len(password) == n:\n",
    "        if (moum(password)>=1) & (zaum(password)>=2):\n",
    "            print(''.join(password))\n",
    "            return\n",
    "            \n",
    "    \n",
    "    if i >= len(alpha):\n",
    "        return\n",
    "    \n",
    "    go(n,alpha,password +[alpha[i]],i+1)\n",
    "    go(n,alpha,password,i+1)\n",
    "    \n",
    "\n",
    "a,b = map(int,input().split())\n",
    "alpha = list(map(str,input().split()))\n",
    "alpha.sort()\n",
    "password = []\n",
    "\n",
    "\n",
    "\n",
    "moum_list = ['a','e','i','o','u']\n",
    "go(a,alpha,password,0)"
   ]
  },
  {
   "cell_type": "code",
   "execution_count": 136,
   "metadata": {},
   "outputs": [
    {
     "name": "stdout",
     "output_type": "stream",
     "text": [
      "acis\n",
      "acit\n",
      "aciw\n",
      "acst\n",
      "acsw\n",
      "actw\n",
      "aist\n",
      "aisw\n",
      "aitw\n",
      "astw\n",
      "cist\n",
      "cisw\n",
      "citw\n",
      "istw\n"
     ]
    }
   ],
   "source": [
    "go(4,alpha,password,0)"
   ]
  }
 ],
 "metadata": {
  "kernelspec": {
   "display_name": "Python 3",
   "language": "python",
   "name": "python3"
  },
  "language_info": {
   "codemirror_mode": {
    "name": "ipython",
    "version": 3
   },
   "file_extension": ".py",
   "mimetype": "text/x-python",
   "name": "python",
   "nbconvert_exporter": "python",
   "pygments_lexer": "ipython3",
   "version": "3.7.6"
  }
 },
 "nbformat": 4,
 "nbformat_minor": 2
}
