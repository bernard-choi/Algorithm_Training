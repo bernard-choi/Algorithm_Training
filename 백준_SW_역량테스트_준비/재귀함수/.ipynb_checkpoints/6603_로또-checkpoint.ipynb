{
 "cells": [
  {
   "cell_type": "code",
   "execution_count": 60,
   "metadata": {
    "scrolled": true
   },
   "outputs": [
    {
     "name": "stdout",
     "output_type": "stream",
     "text": [
      "8 1 2 3 5 8 13 21 34\n",
      "7 1 2 3 4 5 6 7\n",
      "0\n",
      "1 2 3 5 8 13 \n",
      "1 2 3 5 8 21 \n",
      "1 2 3 5 8 34 \n",
      "1 2 3 5 13 21 \n",
      "1 2 3 5 13 34 \n",
      "1 2 3 5 21 34 \n",
      "1 2 3 8 13 21 \n",
      "1 2 3 8 13 34 \n",
      "1 2 3 8 21 34 \n",
      "1 2 3 13 21 34 \n",
      "1 2 5 8 13 21 \n",
      "1 2 5 8 13 34 \n",
      "1 2 5 8 21 34 \n",
      "1 2 5 13 21 34 \n",
      "1 2 8 13 21 34 \n",
      "1 3 5 8 13 21 \n",
      "1 3 5 8 13 34 \n",
      "1 3 5 8 21 34 \n",
      "1 3 5 13 21 34 \n",
      "1 3 8 13 21 34 \n",
      "1 5 8 13 21 34 \n",
      "2 3 5 8 13 21 \n",
      "2 3 5 8 13 34 \n",
      "2 3 5 8 21 34 \n",
      "2 3 5 13 21 34 \n",
      "2 3 8 13 21 34 \n",
      "2 5 8 13 21 34 \n",
      "3 5 8 13 21 34 \n",
      "\n",
      "1 2 3 4 5 6 \n",
      "1 2 3 4 5 7 \n",
      "1 2 3 4 6 7 \n",
      "1 2 3 5 6 7 \n",
      "1 2 4 5 6 7 \n",
      "1 3 4 5 6 7 \n",
      "2 3 4 5 6 7 \n",
      "\n"
     ]
    }
   ],
   "source": [
    "def go(n,alpha,answer,i):\n",
    "    if len(answer) == n:\n",
    "        for i in range(len(answer)):\n",
    "            print(answer[i],end=' ')\n",
    "        print()\n",
    "        return\n",
    "    if i >= len(alpha):\n",
    "        return\n",
    "    \n",
    "    go(n,alpha,answer + [alpha[i]],i+1)\n",
    "    go(n,alpha,answer,i+1)\n",
    "    \n",
    "matrix = []\n",
    "while True :    \n",
    "    a_list = list(map(int,input().split()))\n",
    "    \n",
    "    if a_list == [0]:\n",
    "        break\n",
    "        \n",
    "    matrix.append(a_list[1:])\n",
    "    \n",
    "\n",
    "for i in range(len(matrix)):\n",
    "    answer = []\n",
    "    alpha = matrix[i]\n",
    "    go(6,alpha,answer,0)\n",
    "    print()\n",
    "\n",
    "    "
   ]
  }
 ],
 "metadata": {
  "kernelspec": {
   "display_name": "Python 3",
   "language": "python",
   "name": "python3"
  },
  "language_info": {
   "codemirror_mode": {
    "name": "ipython",
    "version": 3
   },
   "file_extension": ".py",
   "mimetype": "text/x-python",
   "name": "python",
   "nbconvert_exporter": "python",
   "pygments_lexer": "ipython3",
   "version": "3.7.4"
  }
 },
 "nbformat": 4,
 "nbformat_minor": 2
}
