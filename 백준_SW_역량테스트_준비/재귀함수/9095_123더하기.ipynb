{
 "cells": [
  {
   "cell_type": "code",
   "execution_count": 19,
   "metadata": {},
   "outputs": [
    {
     "name": "stdout",
     "output_type": "stream",
     "text": [
      "3\n",
      "4\n",
      "7\n",
      "10\n",
      "7\n",
      "44\n",
      "274\n"
     ]
    }
   ],
   "source": [
    "def yunsik(sum_1,goal):\n",
    "    if sum_1 == goal:\n",
    "        return 1\n",
    "    if sum_1 > goal:\n",
    "        return 0\n",
    "    now = 0\n",
    "    for i in range(1,4):\n",
    "        now += yunsik(sum_1+i,goal)\n",
    "    return now \n",
    "\n",
    "n = int(input())\n",
    "n_list = []\n",
    "for i in range(n):\n",
    "    n_list.append(int(input()))\n",
    "\n",
    "for i in range(n):\n",
    "    print(yunsik(0,n_list[i]))"
   ]
  },
  {
   "cell_type": "code",
   "execution_count": null,
   "metadata": {},
   "outputs": [],
   "source": []
  }
 ],
 "metadata": {
  "kernelspec": {
   "display_name": "Python 3",
   "language": "python",
   "name": "python3"
  },
  "language_info": {
   "codemirror_mode": {
    "name": "ipython",
    "version": 3
   },
   "file_extension": ".py",
   "mimetype": "text/x-python",
   "name": "python",
   "nbconvert_exporter": "python",
   "pygments_lexer": "ipython3",
   "version": "3.7.4"
  }
 },
 "nbformat": 4,
 "nbformat_minor": 2
}
