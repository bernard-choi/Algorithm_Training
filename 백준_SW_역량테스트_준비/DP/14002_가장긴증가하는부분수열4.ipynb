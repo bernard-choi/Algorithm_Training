{
 "cells": [
  {
   "cell_type": "code",
   "execution_count": 26,
   "metadata": {},
   "outputs": [
    {
     "name": "stdout",
     "output_type": "stream",
     "text": [
      "6\n",
      "10 20 10 30 20 50\n",
      "4\n",
      "10 20 30 50 "
     ]
    }
   ],
   "source": [
    "## 가장긴증가하는부분수열과 같은문제임\n",
    "## 실제 배열을 출력해야됨\n",
    "\n",
    "n = int(input())\n",
    "input_list = list(map(int,input().split()))\n",
    "d = [1] * n\n",
    "v = [-1] * n\n",
    "d[0]=1\n",
    "\n",
    "for i in range(1,n): ## 기준은 i\n",
    "#     print(i)\n",
    "    max_value = 1\n",
    "    for j in range(0,i):\n",
    "#         print(j)\n",
    "        if input_list[j] < input_list[i]:\n",
    "            temp = d[j] + 1\n",
    "            if temp > max_value:\n",
    "                max_value = temp\n",
    "                v[i] = j\n",
    "                \n",
    "    d[i] = max_value\n",
    "    \n",
    "answer_list = []\n",
    "start_point = d.index(max(d))\n",
    "a = -1\n",
    "for i in range(max(d)):\n",
    "    if a==-1:\n",
    "        answer_list.append(input_list[start_point])\n",
    "        a = v[start_point]\n",
    "    else:\n",
    "        answer_list.append(input_list[a])\n",
    "        a = v[a]\n",
    "        \n",
    "answer_list = list(reversed(answer_list))\n",
    "\n",
    "print(max(d))\n",
    "for i in range(len(answer_list)):\n",
    "    print(answer_list[i],end = ' ')\n"
   ]
  }
 ],
 "metadata": {
  "kernelspec": {
   "display_name": "Python 3",
   "language": "python",
   "name": "python3"
  },
  "language_info": {
   "codemirror_mode": {
    "name": "ipython",
    "version": 3
   },
   "file_extension": ".py",
   "mimetype": "text/x-python",
   "name": "python",
   "nbconvert_exporter": "python",
   "pygments_lexer": "ipython3",
   "version": "3.7.4"
  }
 },
 "nbformat": 4,
 "nbformat_minor": 2
}
