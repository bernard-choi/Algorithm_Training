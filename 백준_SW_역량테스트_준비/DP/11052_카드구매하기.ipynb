{
 "cells": [
  {
   "cell_type": "code",
   "execution_count": null,
   "metadata": {},
   "outputs": [],
   "source": [
    "n = int(input())\n",
    "\n",
    "input_list= list(map(int,input().split()))\n",
    "\n",
    "answer_list = []\n",
    "\n",
    "max_value = 0\n",
    "\n",
    "def go(n):\n",
    "    global max_value\n",
    "    a = input_list[n]\n",
    "    if a > max_value:\n",
    "        max_value = a\n",
    "    \n",
    "    for i in range(n):\n",
    "        b =  answer_list[i] + input_list[n-1-i]\n",
    "        if b > max_value:\n",
    "            max_value = b\n",
    "    \n",
    "    answer_list.append(max_value)\n",
    "            \n",
    "for i in range(n):\n",
    "    max_value = 0\n",
    "    go(i)\n",
    "    \n",
    "print(answer_list[-1])   "
   ]
  }
 ],
 "metadata": {
  "kernelspec": {
   "display_name": "Python 3",
   "language": "python",
   "name": "python3"
  },
  "language_info": {
   "codemirror_mode": {
    "name": "ipython",
    "version": 3
   },
   "file_extension": ".py",
   "mimetype": "text/x-python",
   "name": "python",
   "nbconvert_exporter": "python",
   "pygments_lexer": "ipython3",
   "version": "3.7.4"
  }
 },
 "nbformat": 4,
 "nbformat_minor": 2
}
