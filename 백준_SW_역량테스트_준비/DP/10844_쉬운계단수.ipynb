{
 "cells": [
  {
   "cell_type": "code",
   "execution_count": 54,
   "metadata": {},
   "outputs": [
    {
     "name": "stdout",
     "output_type": "stream",
     "text": [
      "7\n",
      "424\n"
     ]
    }
   ],
   "source": [
    "N = int(input())\n",
    "\n",
    "matrix = {}\n",
    "matrix[(1,0)] = 0\n",
    "for i in range(1,10):\n",
    "    matrix[(1,i)] = 1\n",
    "    \n",
    "for j in range(2,N+1):\n",
    "    for i in range(0,10):\n",
    "        if i == 0:\n",
    "            matrix[(j,i)] = matrix[(j-1,i+1)]\n",
    "        elif i < 9:\n",
    "            matrix[(j,i)] = matrix[(j-1,i-1)] + matrix[j-1,i+1]\n",
    "        else:\n",
    "            matrix[j,i] = matrix[(j-1,i-1)]\n",
    "            \n",
    "answer = 0\n",
    "for i in range(0,10):\n",
    "    answer += matrix[N,i]\n",
    "\n",
    "print(answer % 1000000000)"
   ]
  },
  {
   "cell_type": "code",
   "execution_count": 49,
   "metadata": {},
   "outputs": [
    {
     "name": "stdout",
     "output_type": "stream",
     "text": [
      "32\n"
     ]
    }
   ],
   "source": [
    "print(answer % 1000000000)"
   ]
  }
 ],
 "metadata": {
  "kernelspec": {
   "display_name": "Python 3",
   "language": "python",
   "name": "python3"
  },
  "language_info": {
   "codemirror_mode": {
    "name": "ipython",
    "version": 3
   },
   "file_extension": ".py",
   "mimetype": "text/x-python",
   "name": "python",
   "nbconvert_exporter": "python",
   "pygments_lexer": "ipython3",
   "version": "3.7.4"
  }
 },
 "nbformat": 4,
 "nbformat_minor": 2
}
