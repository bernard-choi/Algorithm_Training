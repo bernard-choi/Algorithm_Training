{
 "cells": [
  {
   "cell_type": "code",
   "execution_count": 21,
   "metadata": {},
   "outputs": [
    {
     "name": "stdout",
     "output_type": "stream",
     "text": [
      "0\n"
     ]
    }
   ],
   "source": [
    "n = int(input())"
   ]
  },
  {
   "cell_type": "code",
   "execution_count": 78,
   "metadata": {},
   "outputs": [
    {
     "name": "stdout",
     "output_type": "stream",
     "text": [
      "9\n",
      "55\n"
     ]
    }
   ],
   "source": [
    "n = int(input())\n",
    "\n",
    "answer_list = [0,1,2] + [0] * 1000\n",
    "\n",
    "if n==1:\n",
    "    print(answer_list[n])\n",
    "    \n",
    "elif n==2:\n",
    "    print(answer_list[n])\n",
    "    \n",
    "else:\n",
    "    for i in range(3,n+1):\n",
    "\n",
    "        answer_list[i] = answer_list[i-1] + answer_list[i-2]\n",
    "\n",
    "    print(answer_list[n] % 10007)\n",
    "\n"
   ]
  }
 ],
 "metadata": {
  "kernelspec": {
   "display_name": "Python 3",
   "language": "python",
   "name": "python3"
  },
  "language_info": {
   "codemirror_mode": {
    "name": "ipython",
    "version": 3
   },
   "file_extension": ".py",
   "mimetype": "text/x-python",
   "name": "python",
   "nbconvert_exporter": "python",
   "pygments_lexer": "ipython3",
   "version": "3.7.4"
  }
 },
 "nbformat": 4,
 "nbformat_minor": 2
}
