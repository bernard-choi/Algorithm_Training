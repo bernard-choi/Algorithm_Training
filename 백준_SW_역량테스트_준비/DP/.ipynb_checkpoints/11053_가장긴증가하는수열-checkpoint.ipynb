{
 "cells": [
  {
   "cell_type": "code",
   "execution_count": 2,
   "metadata": {},
   "outputs": [
    {
     "name": "stdout",
     "output_type": "stream",
     "text": [
      "6\n",
      "10 20 10 30 20 50\n"
     ]
    }
   ],
   "source": [
    "n = int(input())\n",
    "input_list = list(map(int,input().split()))\n",
    "d = [1] * n\n",
    "d[0]=1\n",
    "\n",
    "for i in range(1,n): ## 기준은 i\n",
    "#     print(i)\n",
    "    max_value = 1\n",
    "    for j in range(0,i):\n",
    "#         print(j)\n",
    "        if input_list[j] < input_list[i]:\n",
    "            temp = d[j] + 1\n",
    "            if temp > max_value:\n",
    "                max_value = temp\n",
    "                \n",
    "    d[i] = max_value\n",
    "\n",
    "print(max(d))"
   ]
  }
 ],
 "metadata": {
  "kernelspec": {
   "display_name": "Python 3",
   "language": "python",
   "name": "python3"
  },
  "language_info": {
   "codemirror_mode": {
    "name": "ipython",
    "version": 3
   },
   "file_extension": ".py",
   "mimetype": "text/x-python",
   "name": "python",
   "nbconvert_exporter": "python",
   "pygments_lexer": "ipython3",
   "version": "3.7.4"
  }
 },
 "nbformat": 4,
 "nbformat_minor": 2
}
