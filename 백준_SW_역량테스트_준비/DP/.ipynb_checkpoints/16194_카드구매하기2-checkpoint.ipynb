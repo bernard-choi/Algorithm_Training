{
 "cells": [
  {
   "cell_type": "code",
   "execution_count": 15,
   "metadata": {},
   "outputs": [
    {
     "name": "stdout",
     "output_type": "stream",
     "text": [
      "4\n",
      "3 5 15 16\n",
      "10\n"
     ]
    }
   ],
   "source": [
    "n = int(input())\n",
    "\n",
    "input_list= list(map(int,input().split()))\n",
    "\n",
    "answer_list = []\n",
    "\n",
    "def go(n):\n",
    "    global min_value\n",
    "    a = input_list[n]\n",
    "    if a < min_value:\n",
    "        min_value = a\n",
    "\n",
    "    for i in range(n):\n",
    "        b =  answer_list[i] + input_list[n-1-i]\n",
    "        if b < min_value:\n",
    "            min_value = b\n",
    "            \n",
    "    \n",
    "    answer_list.append(min_value)\n",
    "            \n",
    "for i in range(n):\n",
    "    min_value = 1000000\n",
    "    go(i)\n",
    "    \n",
    "print(answer_list[-1])   "
   ]
  },
  {
   "cell_type": "markdown",
   "metadata": {},
   "source": [
    "4\n",
    "8\n",
    "#### "
   ]
  }
 ],
 "metadata": {
  "kernelspec": {
   "display_name": "Python 3",
   "language": "python",
   "name": "python3"
  },
  "language_info": {
   "codemirror_mode": {
    "name": "ipython",
    "version": 3
   },
   "file_extension": ".py",
   "mimetype": "text/x-python",
   "name": "python",
   "nbconvert_exporter": "python",
   "pygments_lexer": "ipython3",
   "version": "3.7.4"
  }
 },
 "nbformat": 4,
 "nbformat_minor": 2
}
