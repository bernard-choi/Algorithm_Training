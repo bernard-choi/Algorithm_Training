{
 "cells": [
  {
   "cell_type": "markdown",
   "metadata": {},
   "source": [
    "## "
   ]
  },
  {
   "cell_type": "code",
   "execution_count": 61,
   "metadata": {},
   "outputs": [
    {
     "name": "stdout",
     "output_type": "stream",
     "text": [
      "3\n",
      "4 10 20 30 40\n",
      "70\n",
      "3 7 5 12\n",
      "3\n",
      "3 125 15 25\n",
      "35\n"
     ]
    }
   ],
   "source": [
    "def gcd(a,b):\n",
    "    while b!=0:\n",
    "        r = a%b\n",
    "        a = b\n",
    "        b = r\n",
    "        \n",
    "    return a\n",
    "\n",
    "def solution(l):\n",
    "    answer = 0\n",
    "    for i in range(1,len(l)-1):\n",
    "        for j in range(i+1,len(l)):\n",
    "            answer += gcd(l[i],l[j])\n",
    "    return answer\n",
    "\n",
    "n = int(input())\n",
    "\n",
    "for i in range(n):\n",
    "    l = list(map(int,input().split()))\n",
    "    print(solution(l))\n",
    "    \n",
    "    \n"
   ]
  }
 ],
 "metadata": {
  "kernelspec": {
   "display_name": "Python 3",
   "language": "python",
   "name": "python3"
  },
  "language_info": {
   "codemirror_mode": {
    "name": "ipython",
    "version": 3
   },
   "file_extension": ".py",
   "mimetype": "text/x-python",
   "name": "python",
   "nbconvert_exporter": "python",
   "pygments_lexer": "ipython3",
   "version": "3.7.4"
  }
 },
 "nbformat": 4,
 "nbformat_minor": 2
}
