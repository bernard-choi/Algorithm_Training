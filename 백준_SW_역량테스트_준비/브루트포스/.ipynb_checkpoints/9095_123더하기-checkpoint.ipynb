{
 "cells": [
  {
   "cell_type": "code",
   "execution_count": 104,
   "metadata": {},
   "outputs": [
    {
     "name": "stdout",
     "output_type": "stream",
     "text": [
      "1\n",
      "1\n",
      "1\n"
     ]
    }
   ],
   "source": [
    "## N중 For문을 활용(백준강의)\n",
    "## input 1일때 값이 0인줄 알아서 시간 오래걸림. 문제가 헷갈림...\n",
    "\n",
    "def solution(n):\n",
    "    answer = 0\n",
    "    for l1 in range(1,4):\n",
    "        if l1 == n:\n",
    "            answer += 1\n",
    "        \n",
    "        for l2 in range(1,4):\n",
    "            if (l1+l2) == n:\n",
    "                answer += 1\n",
    "\n",
    "            for l3 in range(1,4):\n",
    "                if (l1 + l2 + l3) == n:\n",
    "                    answer += 1\n",
    "\n",
    "                for l4 in range(1,4):\n",
    "                    if (l1 + l2 + l3 + l4) == n:\n",
    "                        answer += 1\n",
    "\n",
    "                    for l5 in range(1,4):\n",
    "                        if (l1 + l2 + l3 + l4 + l5) == n:\n",
    "                            answer += 1\n",
    "\n",
    "                        for l6 in range(1,4):\n",
    "                            if (l1 + l2 + l3 + l4 + l5 + l6) == n:\n",
    "                                answer += 1\n",
    "\n",
    "                            for l7 in range(1,4):\n",
    "                                if (l1 + l2 + l3 + l4 + l5 + l6 + l7) == n:\n",
    "                                    answer += 1\n",
    "                                    \n",
    "                                for l8 in range(1,4):\n",
    "                                    if (l1 + l2 + l3 + l4 + l5 + l6 + l7 + l8 ) == n:\n",
    "                                        answer +=1\n",
    "                                        \n",
    "                                    for l9 in range(1,4):\n",
    "                                        if (l1 + l2 + l3 + l4 + l5 + l6 + l7 + l8 + l9) == n:\n",
    "                                            answer +=1\n",
    "                                            \n",
    "                                        for l10 in range(1,4):\n",
    "                                            if (l1 + l2 + l3 + l4 + l5 + l6 + l7 + l8 + l9 + l10) == n:\n",
    "                                                answer += 1\n",
    "                                    \n",
    "    return(answer) \n",
    "\n",
    "count = int(input())\n",
    "answer_list = []\n",
    "\n",
    "for i in range(count):\n",
    "    n = int(input())\n",
    "    print(solution(n))"
   ]
  }
 ],
 "metadata": {
  "kernelspec": {
   "display_name": "Python 3",
   "language": "python",
   "name": "python3"
  },
  "language_info": {
   "codemirror_mode": {
    "name": "ipython",
    "version": 3
   },
   "file_extension": ".py",
   "mimetype": "text/x-python",
   "name": "python",
   "nbconvert_exporter": "python",
   "pygments_lexer": "ipython3",
   "version": "3.7.4"
  }
 },
 "nbformat": 4,
 "nbformat_minor": 2
}
