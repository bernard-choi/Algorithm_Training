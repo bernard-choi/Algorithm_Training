{
 "cells": [
  {
   "cell_type": "code",
   "execution_count": 3,
   "metadata": {},
   "outputs": [
    {
     "name": "stdout",
     "output_type": "stream",
     "text": [
      "3\n",
      "0 0 13 40 0 37\n",
      "2\n",
      "0 0 3 0 7 4\n",
      "1\n",
      "1 1 1 1 1 5\n",
      "0\n"
     ]
    }
   ],
   "source": [
    "import sys\n",
    "import math\n",
    "\n",
    "\n",
    "n = int(input())\n",
    "\n",
    "for i in range(n):\n",
    "    x1,y1,r1,x2,y2,r2 = map(int,input().split())\n",
    "    distance = (x2 - x1)**2 + (y2 - y1)**2\n",
    "    add = (r2 + r1)**2\n",
    "    sub = (r2 - r1)**2\n",
    "\n",
    "    if (x1 == x2)&(y1 == y2):\n",
    "        if r1 == r2:\n",
    "            print(-1)\n",
    "        else:\n",
    "            print(0)\n",
    "    else:\n",
    "        if distance > add:\n",
    "                print(0)\n",
    "\n",
    "        elif distance == add:\n",
    "                print(1)\n",
    "\n",
    "        else: \n",
    "            # distance < add\n",
    "            if distance < sub:\n",
    "                print(0)\n",
    "            elif distance == sub:\n",
    "                print(1)\n",
    "            else:\n",
    "                \n",
    "                # sub < distance < add\n",
    "                print(2)\n",
    "    \n",
    "    "
   ]
  }
 ],
 "metadata": {
  "kernelspec": {
   "display_name": "Python 3",
   "language": "python",
   "name": "python3"
  },
  "language_info": {
   "codemirror_mode": {
    "name": "ipython",
    "version": 3
   },
   "file_extension": ".py",
   "mimetype": "text/x-python",
   "name": "python",
   "nbconvert_exporter": "python",
   "pygments_lexer": "ipython3",
   "version": "3.7.6"
  }
 },
 "nbformat": 4,
 "nbformat_minor": 2
}
