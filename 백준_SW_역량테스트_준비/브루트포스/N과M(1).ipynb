{
 "cells": [
  {
   "cell_type": "code",
   "execution_count": 1,
   "metadata": {},
   "outputs": [],
   "source": [
    "## 여기서 설명 잘해놓음\n",
    "## https://blog.encrypted.gg/732"
   ]
  },
  {
   "cell_type": "code",
   "execution_count": 10,
   "metadata": {},
   "outputs": [
    {
     "name": "stdout",
     "output_type": "stream",
     "text": [
      "4 3\n",
      "1 2 3 \n",
      "1 2 4 \n",
      "1 3 2 \n",
      "1 3 4 \n",
      "1 4 2 \n",
      "1 4 3 \n",
      "2 1 3 \n",
      "2 1 4 \n",
      "2 3 1 \n",
      "2 3 4 \n",
      "2 4 1 \n",
      "2 4 3 \n",
      "3 1 2 \n",
      "3 1 4 \n",
      "3 2 1 \n",
      "3 2 4 \n",
      "3 4 1 \n",
      "3 4 2 \n",
      "4 1 2 \n",
      "4 1 3 \n",
      "4 2 1 \n",
      "4 2 3 \n",
      "4 3 1 \n",
      "4 3 2 \n"
     ]
    }
   ],
   "source": [
    "a,b = map(int,input().split())\n",
    "\n",
    "answer_list = [0] * b\n",
    "check = [False] * (a+1)\n",
    "\n",
    "def go(n,m,index):\n",
    "    if index == m:\n",
    "        for i in range(m):\n",
    "            print(answer_list[i], end = ' ')\n",
    "        print()\n",
    "        return\n",
    "    \n",
    "    for i in range(1,n+1):\n",
    "        if check[i] == True:\n",
    "            continue\n",
    "            \n",
    "        check[i] = True\n",
    "        answer_list[index] = i\n",
    "        go(n,m,index+1) ## 각 층별로 확정짓는다 [1,2] 확정되면\n",
    "        check[i] = False ## \n",
    "\n",
    "go(a,b,0)"
   ]
  }
 ],
 "metadata": {
  "kernelspec": {
   "display_name": "Python 3",
   "language": "python",
   "name": "python3"
  },
  "language_info": {
   "codemirror_mode": {
    "name": "ipython",
    "version": 3
   },
   "file_extension": ".py",
   "mimetype": "text/x-python",
   "name": "python",
   "nbconvert_exporter": "python",
   "pygments_lexer": "ipython3",
   "version": "3.7.4"
  }
 },
 "nbformat": 4,
 "nbformat_minor": 2
}
