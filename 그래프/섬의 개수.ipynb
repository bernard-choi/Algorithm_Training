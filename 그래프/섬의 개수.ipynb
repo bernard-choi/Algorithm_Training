{
 "cells": [
  {
   "cell_type": "code",
   "execution_count": 5,
   "metadata": {},
   "outputs": [
    {
     "name": "stdout",
     "output_type": "stream",
     "text": [
      "5 4\n",
      "1 0 1 0 0\n",
      "1 0 0 0 0\n",
      "1 0 1 0 1\n",
      "1 0 0 1 0\n",
      "[[1, 0, 1, 0, 0], [1, 0, 0, 0, 0], [1, 0, 1, 0, 1], [1, 0, 0, 1, 0]]\n",
      "0 0\n",
      "[]\n"
     ]
    }
   ],
   "source": [
    "## 1을 육지로, 0을 물로 가정한 2D그리드 맵이 주어졌을 때, 섬의 개수를 계산하라\n",
    "while True:\n",
    "    row, col = map(int,input().split())\n",
    "    island = []\n",
    "    for i in range(row):\n",
    "        island.append(list(map(int,input().split())))\n",
    "        \n",
    "\n",
    "        \n",
    "    if n == 0 and m == 0:\n",
    "        break"
   ]
  },
  {
   "cell_type": "code",
   "execution_count": 46,
   "metadata": {},
   "outputs": [],
   "source": [
    "island = [[1, 0, 1, 0, 0], [1, 0, 0, 0, 0], [1, 0, 1, 0, 1], [1, 0, 0, 1, 0]]\n",
    "row = 4\n",
    "col = 5"
   ]
  },
  {
   "cell_type": "code",
   "execution_count": 58,
   "metadata": {},
   "outputs": [
    {
     "name": "stdout",
     "output_type": "stream",
     "text": [
      "0 1\n",
      "0\n",
      "0\n",
      "0 0\n"
     ]
    }
   ],
   "source": [
    "import sys\n",
    "sys.setrecursionlimit(1500) ## pypy3가 recursion 갚이가 더 깊음. python3가 아닌 pypy3로 제출해야 통과됨\n",
    "\n",
    "def dfs(island,x,y):\n",
    "    if x >= row or x < 0 or y >= col or y < 0:\n",
    "        return\n",
    "    \n",
    "    if island[x][y] == 0:\n",
    "        return\n",
    "    \n",
    "    island[x][y] = 0\n",
    "    \n",
    "    dfs(island,x+1,y)\n",
    "    dfs(island,x-1,y)\n",
    "    dfs(island,x+1,y+1)\n",
    "    dfs(island,x+1,y-1)\n",
    "    dfs(island,x-1,y+1)\n",
    "    dfs(island,x-1,y-1)\n",
    "    dfs(island,x,y-1)\n",
    "    dfs(island,x,y+1)\n",
    "    \n",
    "def do(island,row,col):\n",
    "    count = 0\n",
    "    for i in range(row):\n",
    "        for j in range(col):\n",
    "            if island[i][j] == 1:\n",
    "                dfs(island,i,j)\n",
    "                count += 1\n",
    "    \n",
    "    print(count)\n",
    "    \n",
    "while True:\n",
    "    col, row = map(int,input().split())\n",
    "    island = []\n",
    "    for i in range(row):\n",
    "        island.append(list(map(int,input().split())))\n",
    " \n",
    "    \n",
    "    if row == 0 and col == 0:\n",
    "        break\n",
    "        \n",
    "    do(island,row,col) "
   ]
  },
  {
   "cell_type": "markdown",
   "metadata": {},
   "source": [
    "###                 \n",
    "\n",
    "                "
   ]
  },
  {
   "cell_type": "code",
   "execution_count": 49,
   "metadata": {},
   "outputs": [
    {
     "name": "stdout",
     "output_type": "stream",
     "text": [
      "[[0, 0, 1, 0, 0], [0, 0, 0, 0, 0], [0, 0, 1, 0, 1], [0, 0, 0, 1, 0]]\n",
      "[[0, 0, 0, 0, 0], [0, 0, 0, 0, 0], [0, 0, 1, 0, 1], [0, 0, 0, 1, 0]]\n",
      "[[0, 0, 0, 0, 0], [0, 0, 0, 0, 0], [0, 0, 0, 0, 0], [0, 0, 0, 0, 0]]\n",
      "3\n"
     ]
    }
   ],
   "source": [
    "do()"
   ]
  },
  {
   "cell_type": "code",
   "execution_count": 27,
   "metadata": {},
   "outputs": [
    {
     "name": "stdout",
     "output_type": "stream",
     "text": [
      "0\n",
      "1\n",
      "2\n",
      "3\n",
      "4\n"
     ]
    }
   ],
   "source": [
    "for i in range(5):\n",
    "    print(i)"
   ]
  },
  {
   "cell_type": "code",
   "execution_count": null,
   "metadata": {},
   "outputs": [],
   "source": []
  }
 ],
 "metadata": {
  "kernelspec": {
   "display_name": "Python 3",
   "language": "python",
   "name": "python3"
  },
  "language_info": {
   "codemirror_mode": {
    "name": "ipython",
    "version": 3
   },
   "file_extension": ".py",
   "mimetype": "text/x-python",
   "name": "python",
   "nbconvert_exporter": "python",
   "pygments_lexer": "ipython3",
   "version": "3.7.4"
  }
 },
 "nbformat": 4,
 "nbformat_minor": 2
}
