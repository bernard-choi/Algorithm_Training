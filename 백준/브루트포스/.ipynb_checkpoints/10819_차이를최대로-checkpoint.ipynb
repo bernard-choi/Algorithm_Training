{
 "cells": [
  {
   "cell_type": "code",
   "execution_count": 470,
   "metadata": {},
   "outputs": [
    {
     "name": "stdout",
     "output_type": "stream",
     "text": [
      "5\n",
      "-66 -86 51 -87 -27\n",
      "374\n"
     ]
    }
   ],
   "source": [
    "\n",
    "n = int(input())\n",
    "\n",
    "list_input = list(map(int,input().split()))\n",
    "list_input = sorted(list_input)\n",
    "\n",
    "def sum1(list_input,n):\n",
    "    init = 0\n",
    "    for i in range(n-1):\n",
    "        init += abs(list_input[i+1] - list_input[i])\n",
    "        \n",
    "    return init\n",
    "\n",
    "def next_permutation(number):\n",
    "    \n",
    "        index = 0\n",
    "        for i in range(len(number)-1,0,-1):\n",
    "            if (number[i-1] < number[i]):\n",
    "                index = i\n",
    "                break\n",
    "                \n",
    "        if index == 0: ## 다음 순열이 없을때\n",
    "            return -1\n",
    "        \n",
    "        \n",
    "        temp = max(number) - min(number)\n",
    "        for j in range(i,len(number)):\n",
    "            if number[j] > number[i-1]:                \n",
    "                difference = number[j] - number[i-1]\n",
    "                if difference <= temp:\n",
    "                    small_index = j\n",
    "                    temp = difference\n",
    "        \n",
    "\n",
    "\n",
    "        number[i-1], number[small_index] =  number[small_index], number[i-1]\n",
    "        # 오른쪽에 있으면서 number[i-1]보다 크지만 그중에서 가장 작은수와 Swqp\n",
    "\n",
    "\n",
    "        \n",
    "        return number[:i] + sorted(number[i:])\n",
    "    \n",
    "\n",
    "max_value = 0\n",
    "\n",
    "while 1:\n",
    "    \n",
    "    if list_input == -1:\n",
    "        break    \n",
    "    \n",
    "    value = sum1(list_input,n)\n",
    "\n",
    "    \n",
    "    if value > max_value:\n",
    "        max_value = value\n",
    "          \n",
    "    list_input = next_permutation(list_input)\n",
    "\n",
    "print(max_value)\n"
   ]
  }
 ],
 "metadata": {
  "kernelspec": {
   "display_name": "Python 3",
   "language": "python",
   "name": "python3"
  },
  "language_info": {
   "codemirror_mode": {
    "name": "ipython",
    "version": 3
   },
   "file_extension": ".py",
   "mimetype": "text/x-python",
   "name": "python",
   "nbconvert_exporter": "python",
   "pygments_lexer": "ipython3",
   "version": "3.7.4"
  }
 },
 "nbformat": 4,
 "nbformat_minor": 2
}
