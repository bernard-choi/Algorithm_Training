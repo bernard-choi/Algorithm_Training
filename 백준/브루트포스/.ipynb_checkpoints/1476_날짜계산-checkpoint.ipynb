{
 "cells": [
  {
   "cell_type": "code",
   "execution_count": 29,
   "metadata": {},
   "outputs": [
    {
     "name": "stdout",
     "output_type": "stream",
     "text": [
      "15 28 19\n",
      "7980\n"
     ]
    }
   ],
   "source": [
    "## Version1\n",
    "\n",
    "input_list = list(map(int,input().split()))\n",
    "\n",
    "def customized(x,y):\n",
    "    if x % y == 0:\n",
    "        return y\n",
    "    else:\n",
    "        return x%y\n",
    "\n",
    "i = 1\n",
    "while True:\n",
    "    if customized(i,28) == input_list[1]:\n",
    "        if customized(i,19) == input_list[2]:\n",
    "            if customized(i,15)== input_list[0]:\n",
    "                break\n",
    "            else:\n",
    "                i+=1\n",
    "        else:\n",
    "            i+=1\n",
    "    else:\n",
    "        i+=1\n",
    "\n",
    "print(i)"
   ]
  },
  {
   "cell_type": "code",
   "execution_count": 43,
   "metadata": {},
   "outputs": [
    {
     "name": "stdout",
     "output_type": "stream",
     "text": [
      "15 28 19\n",
      "7980\n"
     ]
    }
   ],
   "source": [
    "## Version2\n",
    "\n",
    "input_list = list(map(int,input().split()))\n",
    "my_list = [1,1,1]\n",
    "k = 1\n",
    "\n",
    "while input_list != my_list:\n",
    "    \n",
    "    my_list[0] = my_list[0]+1\n",
    "    my_list[1] = my_list[1]+1\n",
    "    my_list[2] = my_list[2]+1\n",
    "    \n",
    "    if my_list[0] == 16:\n",
    "        my_list[0] =1 \n",
    "    if my_list[1] == 29:\n",
    "        my_list[1] = 1\n",
    "    if my_list[2] == 20:\n",
    "        my_list[2] = 1\n",
    "    \n",
    "    k += 1\n",
    "\n",
    "print(k)\n",
    "    \n",
    "    "
   ]
  }
 ],
 "metadata": {
  "kernelspec": {
   "display_name": "Python 3",
   "language": "python",
   "name": "python3"
  },
  "language_info": {
   "codemirror_mode": {
    "name": "ipython",
    "version": 3
   },
   "file_extension": ".py",
   "mimetype": "text/x-python",
   "name": "python",
   "nbconvert_exporter": "python",
   "pygments_lexer": "ipython3",
   "version": "3.7.4"
  }
 },
 "nbformat": 4,
 "nbformat_minor": 2
}
