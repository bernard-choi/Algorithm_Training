{
 "cells": [
  {
   "cell_type": "code",
   "execution_count": 116,
   "metadata": {},
   "outputs": [
    {
     "name": "stdout",
     "output_type": "stream",
     "text": [
      "4\n",
      "0 1 0 0\n",
      "0 0 1 0\n",
      "0 0 0 1\n",
      "1 0 0 0\n",
      "4\n"
     ]
    }
   ],
   "source": [
    "import numpy as np\n",
    "\n",
    "n = int(input())\n",
    "\n",
    "input_list = []\n",
    "\n",
    "for i in range(1,n+1):\n",
    "    input_list.append(i)\n",
    "    \n",
    "matrix = []\n",
    "for i in range(n):\n",
    "    matrix.append(list(map(int,input().split()))) \n",
    "    \n",
    "def permutation_next(number):\n",
    "        index = 0\n",
    "        for i in range(len(number)-1,0,-1):\n",
    "            if (number[i-1] < number[i]):\n",
    "                index = i\n",
    "                break\n",
    "                \n",
    "        \n",
    "                \n",
    "        if index == 0:\n",
    "            return -1\n",
    "        \n",
    "        \n",
    "        n = max(number) - min(number)\n",
    "\n",
    "        for j in range(i,len(number)):\n",
    "            if number[j] > number[i-1]:                \n",
    "                difference = number[j] - number[i-1]\n",
    "                if difference <= n:\n",
    "                    small_index = j\n",
    "                    n = difference\n",
    "\n",
    "        number[i-1],number[small_index] = number[small_index],number[i-1]\n",
    "        return number[:i] + sorted(number[i:])\n",
    "    \n",
    "def cost_sum(input_list):\n",
    "    init = 0\n",
    "    n = len(input_list)\n",
    "    for i in range(0,n-1):\n",
    "\n",
    "        x = input_list[i]\n",
    "        y = input_list[i+1]\n",
    "        \n",
    "        if matrix[x-1][y-1] == 0:\n",
    "            return np.sum(matrix)\n",
    "        \n",
    "        init += matrix[x-1][y-1]\n",
    "\n",
    "        \n",
    "    if matrix[input_list[-1]-1][input_list[0]-1] == 0:\n",
    "        return np.sum(matrix)\n",
    "    \n",
    "    else:\n",
    "        \n",
    "        init += matrix[input_list[-1]-1][input_list[0]-1]\n",
    "\n",
    "    return init\n",
    "\n",
    "min_value = np.sum(matrix)\n",
    "\n",
    "while True: \n",
    "    \n",
    "    if input_list == -1:\n",
    "        break\n",
    "        \n",
    "\n",
    "    ans = cost_sum(input_list)\n",
    "\n",
    "    \n",
    "    if ans < min_value:\n",
    "        min_value = ans\n",
    "    \n",
    "    \n",
    "    input_list = permutation_next(input_list)\n",
    "    \n",
    "print(min_value)"
   ]
  },
  {
   "cell_type": "markdown",
   "metadata": {},
   "source": [
    "#### np.sum(matrix)"
   ]
  },
  {
   "cell_type": "code",
   "execution_count": null,
   "metadata": {},
   "outputs": [],
   "source": []
  }
 ],
 "metadata": {
  "kernelspec": {
   "display_name": "Python 3",
   "language": "python",
   "name": "python3"
  },
  "language_info": {
   "codemirror_mode": {
    "name": "ipython",
    "version": 3
   },
   "file_extension": ".py",
   "mimetype": "text/x-python",
   "name": "python",
   "nbconvert_exporter": "python",
   "pygments_lexer": "ipython3",
   "version": "3.7.4"
  }
 },
 "nbformat": 4,
 "nbformat_minor": 2
}
