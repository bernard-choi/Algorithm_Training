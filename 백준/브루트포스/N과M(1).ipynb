{
 "cells": [
  {
   "cell_type": "code",
   "execution_count": 102,
   "metadata": {},
   "outputs": [],
   "source": [
    "## 여기서 설명 잘해놓음\n",
    "## https://blog.encrypted.gg/732"
   ]
  },
  {
   "cell_type": "code",
   "execution_count": 111,
   "metadata": {},
   "outputs": [
    {
     "name": "stdout",
     "output_type": "stream",
     "text": [
      "4 3\n"
     ]
    }
   ],
   "source": [
    "a,b = map(int,input().split())"
   ]
  },
  {
   "cell_type": "code",
   "execution_count": 112,
   "metadata": {},
   "outputs": [],
   "source": [
    "answer_list = [0] * b\n",
    "check = [False] * (a+1)"
   ]
  },
  {
   "cell_type": "code",
   "execution_count": 113,
   "metadata": {},
   "outputs": [
    {
     "data": {
      "text/plain": [
       "[False, False, False, False, False]"
      ]
     },
     "execution_count": 113,
     "metadata": {},
     "output_type": "execute_result"
    }
   ],
   "source": [
    "check"
   ]
  },
  {
   "cell_type": "code",
   "execution_count": 114,
   "metadata": {},
   "outputs": [
    {
     "data": {
      "text/plain": [
       "[0, 0, 0]"
      ]
     },
     "execution_count": 114,
     "metadata": {},
     "output_type": "execute_result"
    }
   ],
   "source": [
    "answer_list"
   ]
  },
  {
   "cell_type": "code",
   "execution_count": 115,
   "metadata": {},
   "outputs": [],
   "source": [
    "def go(n,m,index):\n",
    "    if index == m:\n",
    "        for i in range(m):\n",
    "            print(answer_list[i], end = ' ')\n",
    "        print()\n",
    "        \n",
    "        return\n",
    "    \n",
    "    for i in range(1,n+1):\n",
    "        if check[i] == True: ## 선택되면 True로\n",
    "            continue\n",
    "            \n",
    "        check[i] = True\n",
    "        answer_list[index] = i\n",
    "        print(check)\n",
    "        go(n,m,index+1)\n",
    "        check[i] = False\n",
    "\n",
    "        \n",
    "    "
   ]
  },
  {
   "cell_type": "code",
   "execution_count": 116,
   "metadata": {},
   "outputs": [
    {
     "name": "stdout",
     "output_type": "stream",
     "text": [
      "[False, True, False, False, False]\n",
      "[False, True, True, False, False]\n",
      "[False, True, True, True, False]\n",
      "1 2 3 \n",
      "[False, True, True, False, True]\n",
      "1 2 4 \n",
      "[False, True, False, True, False]\n",
      "[False, True, True, True, False]\n",
      "1 3 2 \n",
      "[False, True, False, True, True]\n",
      "1 3 4 \n",
      "[False, True, False, False, True]\n",
      "[False, True, True, False, True]\n",
      "1 4 2 \n",
      "[False, True, False, True, True]\n",
      "1 4 3 \n",
      "[False, False, True, False, False]\n",
      "[False, True, True, False, False]\n",
      "[False, True, True, True, False]\n",
      "2 1 3 \n",
      "[False, True, True, False, True]\n",
      "2 1 4 \n",
      "[False, False, True, True, False]\n",
      "[False, True, True, True, False]\n",
      "2 3 1 \n",
      "[False, False, True, True, True]\n",
      "2 3 4 \n",
      "[False, False, True, False, True]\n",
      "[False, True, True, False, True]\n",
      "2 4 1 \n",
      "[False, False, True, True, True]\n",
      "2 4 3 \n",
      "[False, False, False, True, False]\n",
      "[False, True, False, True, False]\n",
      "[False, True, True, True, False]\n",
      "3 1 2 \n",
      "[False, True, False, True, True]\n",
      "3 1 4 \n",
      "[False, False, True, True, False]\n",
      "[False, True, True, True, False]\n",
      "3 2 1 \n",
      "[False, False, True, True, True]\n",
      "3 2 4 \n",
      "[False, False, False, True, True]\n",
      "[False, True, False, True, True]\n",
      "3 4 1 \n",
      "[False, False, True, True, True]\n",
      "3 4 2 \n",
      "[False, False, False, False, True]\n",
      "[False, True, False, False, True]\n",
      "[False, True, True, False, True]\n",
      "4 1 2 \n",
      "[False, True, False, True, True]\n",
      "4 1 3 \n",
      "[False, False, True, False, True]\n",
      "[False, True, True, False, True]\n",
      "4 2 1 \n",
      "[False, False, True, True, True]\n",
      "4 2 3 \n",
      "[False, False, False, True, True]\n",
      "[False, True, False, True, True]\n",
      "4 3 1 \n",
      "[False, False, True, True, True]\n",
      "4 3 2 \n"
     ]
    }
   ],
   "source": [
    "go(a,b,0)"
   ]
  },
  {
   "cell_type": "code",
   "execution_count": null,
   "metadata": {},
   "outputs": [],
   "source": []
  }
 ],
 "metadata": {
  "kernelspec": {
   "display_name": "Python 3",
   "language": "python",
   "name": "python3"
  },
  "language_info": {
   "codemirror_mode": {
    "name": "ipython",
    "version": 3
   },
   "file_extension": ".py",
   "mimetype": "text/x-python",
   "name": "python",
   "nbconvert_exporter": "python",
   "pygments_lexer": "ipython3",
   "version": "3.7.4"
  }
 },
 "nbformat": 4,
 "nbformat_minor": 2
}
