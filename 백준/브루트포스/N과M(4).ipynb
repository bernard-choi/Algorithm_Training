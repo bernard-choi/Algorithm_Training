{
 "cells": [
  {
   "cell_type": "code",
   "execution_count": 5,
   "metadata": {},
   "outputs": [
    {
     "name": "stdout",
     "output_type": "stream",
     "text": [
      "3 3\n",
      "1 1 1 \n",
      "1 1 2 \n",
      "1 1 3 \n",
      "1 2 1 \n",
      "1 2 2 \n",
      "1 2 3 \n",
      "1 3 1 \n",
      "1 3 2 \n",
      "1 3 3 \n",
      "2 1 1 \n",
      "2 1 2 \n",
      "2 1 3 \n",
      "2 2 1 \n",
      "2 2 2 \n",
      "2 2 3 \n",
      "2 3 1 \n",
      "2 3 2 \n",
      "2 3 3 \n",
      "3 1 1 \n",
      "3 1 2 \n",
      "3 1 3 \n",
      "3 2 1 \n",
      "3 2 2 \n",
      "3 2 3 \n",
      "3 3 1 \n",
      "3 3 2 \n",
      "3 3 3 \n"
     ]
    }
   ],
   "source": [
    "a,b = map(int,input().split())\n",
    "\n",
    "answer_list = [0] * b\n",
    "check = [False] * (a+1)\n",
    "\n",
    "def go(n,m,index,start):\n",
    "    if index == m:\n",
    "        for i in range(m):\n",
    "            print(answer_list[i], end = ' ')\n",
    "        print()\n",
    "        return\n",
    "    \n",
    "    for i in range(1,n+1):\n",
    "#         if check[i] == True:\n",
    "#             continue\n",
    "            \n",
    "        check[i] = True\n",
    "        answer_list[index] = i\n",
    "        go(n,m,index+1,i)\n",
    "        check[i] = False \n",
    "\n",
    "go(a,b,0,1)"
   ]
  },
  {
   "cell_type": "code",
   "execution_count": null,
   "metadata": {},
   "outputs": [],
   "source": []
  }
 ],
 "metadata": {
  "kernelspec": {
   "display_name": "Python 3",
   "language": "python",
   "name": "python3"
  },
  "language_info": {
   "codemirror_mode": {
    "name": "ipython",
    "version": 3
   },
   "file_extension": ".py",
   "mimetype": "text/x-python",
   "name": "python",
   "nbconvert_exporter": "python",
   "pygments_lexer": "ipython3",
   "version": "3.7.4"
  }
 },
 "nbformat": 4,
 "nbformat_minor": 2
}
