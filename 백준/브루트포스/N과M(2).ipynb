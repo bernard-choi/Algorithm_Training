{
 "cells": [
  {
   "cell_type": "code",
   "execution_count": 5,
   "metadata": {},
   "outputs": [
    {
     "name": "stdout",
     "output_type": "stream",
     "text": [
      "4 3\n",
      "1 2 3 \n",
      "1 2 4 \n",
      "1 3 4 \n",
      "2 3 4 \n"
     ]
    }
   ],
   "source": [
    "a,b = map(int,input().split())\n",
    "answer_list = [0] * b\n",
    "check = [False] * (a+1)\n",
    "def go(n,m,index,start):\n",
    "    if index == m:\n",
    "        for i in range(m):\n",
    "            print(answer_list[i], end = ' ')\n",
    "        print()\n",
    "        return\n",
    "    \n",
    "    for i in range(start,n+1):\n",
    "        if check[i] == True:\n",
    "            continue\n",
    "            \n",
    "        check[i] = True\n",
    "        answer_list[index] = i\n",
    "        go(n,m,index+1,i+1) ## \n",
    "        check[i] = False ## \n",
    "\n",
    "        \n",
    "go(a,b,0,1)"
   ]
  }
 ],
 "metadata": {
  "kernelspec": {
   "display_name": "Python 3",
   "language": "python",
   "name": "python3"
  },
  "language_info": {
   "codemirror_mode": {
    "name": "ipython",
    "version": 3
   },
   "file_extension": ".py",
   "mimetype": "text/x-python",
   "name": "python",
   "nbconvert_exporter": "python",
   "pygments_lexer": "ipython3",
   "version": "3.7.4"
  }
 },
 "nbformat": 4,
 "nbformat_minor": 2
}
