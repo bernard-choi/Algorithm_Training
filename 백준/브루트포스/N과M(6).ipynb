{
 "cells": [
  {
   "cell_type": "code",
   "execution_count": 6,
   "metadata": {},
   "outputs": [
    {
     "name": "stdout",
     "output_type": "stream",
     "text": [
      "4 2\n",
      "9 8 7 1\n",
      "1 7 \n",
      "1 8 \n",
      "1 9 \n",
      "7 8 \n",
      "7 9 \n",
      "8 9 \n"
     ]
    }
   ],
   "source": [
    "a,b = map(int,input().split())\n",
    "input_list = list(map(int,input().split()))\n",
    "input_list = sorted(input_list)\n",
    "\n",
    "answer_list = [0] * b\n",
    "check = [False] * (a)\n",
    "\n",
    "def go(n,m,index,start):\n",
    "    if index == m:\n",
    "        for i in range(m):\n",
    "            print(answer_list[i], end = ' ')\n",
    "        print()\n",
    "        return\n",
    "    \n",
    "    for i in range(start,n):\n",
    "        if check[i] == True:\n",
    "            continue\n",
    "\n",
    "        check[i] = True\n",
    "        answer_list[index] = input_list[i]\n",
    "        go(n,m,index+1,i+1) ## 각 층별로 확정짓는다 [1,2] 확정되면\n",
    "        check[i] = False ## \n",
    "\n",
    "go(a,b,0,0)"
   ]
  },
  {
   "cell_type": "code",
   "execution_count": null,
   "metadata": {},
   "outputs": [],
   "source": []
  }
 ],
 "metadata": {
  "kernelspec": {
   "display_name": "Python 3",
   "language": "python",
   "name": "python3"
  },
  "language_info": {
   "codemirror_mode": {
    "name": "ipython",
    "version": 3
   },
   "file_extension": ".py",
   "mimetype": "text/x-python",
   "name": "python",
   "nbconvert_exporter": "python",
   "pygments_lexer": "ipython3",
   "version": "3.7.4"
  }
 },
 "nbformat": 4,
 "nbformat_minor": 2
}
