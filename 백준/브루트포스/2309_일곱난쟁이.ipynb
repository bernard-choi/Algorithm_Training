{
 "cells": [
  {
   "cell_type": "code",
   "execution_count": 27,
   "metadata": {},
   "outputs": [
    {
     "name": "stdout",
     "output_type": "stream",
     "text": [
      "8\n",
      "9\n",
      "10\n",
      "11\n",
      "12\n",
      "24\n",
      "26\n",
      "23\n",
      "27\n",
      "8\n",
      "9\n",
      "10\n",
      "11\n",
      "12\n",
      "23\n",
      "27\n"
     ]
    }
   ],
   "source": [
    "dwarf = []\n",
    "breaker = False ## 이중 for문 break를 위해 변수설정\n",
    "for i in range(9):\n",
    "    dwarf.append(int(input()))\n",
    "\n",
    "dwarf_sum = sum(dwarf)\n",
    "difference = sum(dwarf)-100\n",
    "for i in range(0,len(dwarf)-1):\n",
    "    for j in range(i+1,len(dwarf)):\n",
    "        if dwarf[i] + dwarf[j] == difference:\n",
    "            dwarf[i] = 0\n",
    "            dwarf[j] = 0\n",
    "            breaker = True\n",
    "            break\n",
    "    if breaker == True:\n",
    "        break\n",
    "            \n",
    "            \n",
    "dwarf.sort()\n",
    "\n",
    "\n",
    "for i in range(2,len(dwarf)):\n",
    "    print(dwarf[i])"
   ]
  },
  {
   "cell_type": "code",
   "execution_count": null,
   "metadata": {},
   "outputs": [],
   "source": []
  }
 ],
 "metadata": {
  "kernelspec": {
   "display_name": "Python 3",
   "language": "python",
   "name": "python3"
  },
  "language_info": {
   "codemirror_mode": {
    "name": "ipython",
    "version": 3
   },
   "file_extension": ".py",
   "mimetype": "text/x-python",
   "name": "python",
   "nbconvert_exporter": "python",
   "pygments_lexer": "ipython3",
   "version": "3.7.4"
  }
 },
 "nbformat": 4,
 "nbformat_minor": 2
}
