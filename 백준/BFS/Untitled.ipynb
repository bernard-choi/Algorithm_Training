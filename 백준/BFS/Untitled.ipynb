{
 "cells": [
  {
   "cell_type": "code",
   "execution_count": 274,
   "metadata": {
    "scrolled": true
   },
   "outputs": [
    {
     "name": "stdout",
     "output_type": "stream",
     "text": [
      "10010011\n",
      "01010011\n",
      "11100011\n",
      "01010101\n",
      "8\n",
      "1 1\n",
      "2 1\n",
      "3 1\n",
      "4 1\n",
      "1 -1\n",
      "2 -1\n",
      "3 -1\n",
      "4 -1\n",
      "5\n"
     ]
    }
   ],
   "source": [
    "matrix = []\n",
    "for i in range(4):\n",
    "    matrix.append(list(input())) # N : 0, S : 1\n",
    "k = int(input())\n",
    "move = []\n",
    "for i in range(k):\n",
    "    move.append(list(map(int,input().split()))) # 1 시계 -1 반시계\n",
    "    \n",
    "def mv(j,direction,a,link_dict):\n",
    "\n",
    "    \n",
    "    if a[j] != 0:\n",
    "        return\n",
    "\n",
    "    a[j] = direction\n",
    "    \n",
    "    \n",
    "    if j > 3:\n",
    "        return\n",
    "    \n",
    "    if j < 0:\n",
    "        return\n",
    "\n",
    "    if (j,j-1) in link_dict:\n",
    "\n",
    "        mv(j-1,-1*direction,a,link_dict)\n",
    "        \n",
    "    \n",
    "    if (j,j+1) in link_dict:\n",
    "\n",
    "        mv(j+1,-1*direction,a,link_dict)\n",
    "\n",
    "def rotate(i,input_list):\n",
    "    if i == 1:\n",
    "        input_list.insert(0,input_list.pop(-1))\n",
    "        return input_list\n",
    "    \n",
    "    if i == -1:\n",
    "        input_list.append(input_list[0])\n",
    "        return input_list[1:]\n",
    "\n",
    "    else:\n",
    "        return input_list\n",
    "    \n",
    "def do(move):\n",
    "    for i in range(len(move)):\n",
    "        a = [0,0,0,0] # move or not\n",
    "        link_dict = {}\n",
    "\n",
    "            \n",
    "        if matrix[0][2] != matrix[1][6]:\n",
    "            link_dict[(0,1)] = 1\n",
    "            link_dict[(1,0)] = 1\n",
    "                \n",
    "        if matrix[1][2] != matrix[2][6]:\n",
    "            link_dict[(1,2)] = 1\n",
    "            link_dict[(2,1)] = 1\n",
    "                \n",
    "        if matrix[2][2] != matrix[3][6]:\n",
    "            link_dict[(2,3)] = 1\n",
    "            link_dict[(3,2)] = 1\n",
    "            \n",
    "\n",
    "        \n",
    "        mv(move[i][0]-1,move[i][1],a,link_dict)\n",
    "\n",
    "        \n",
    "\n",
    "\n",
    "\n",
    "        \n",
    "        for i in range(4):\n",
    "            matrix[i] = rotate(a[i],matrix[i])\n",
    "\n",
    "            \n",
    "\n",
    "            \n",
    "do(move)\n",
    "answer = 0\n",
    "\n",
    "if matrix[0][0] == '1':\n",
    "    answer +=1\n",
    "\n",
    "if matrix[1][0] == '1':\n",
    "    answer +=2\n",
    "    \n",
    "if matrix[2][0] == '1':\n",
    "    answer +=4\n",
    "\n",
    "if matrix[3][0] == '1':\n",
    "    answer +=8\n",
    "    \n",
    "\n",
    "print(answer)    \n",
    "    "
   ]
  },
  {
   "cell_type": "markdown",
   "metadata": {},
   "source": [
    "1# 2## matrix"
   ]
  },
  {
   "cell_type": "code",
   "execution_count": 256,
   "metadata": {},
   "outputs": [],
   "source": [
    "    \n",
    "def mv(j,direction,a):\n",
    "    \n",
    "    if a[j] != 0:\n",
    "        return\n",
    "\n",
    "    a[j] = direction\n",
    "    \n",
    "\n",
    "    \n",
    "    if j > 3:\n",
    "        return\n",
    "    \n",
    "    if j < 0:\n",
    "        return\n",
    "    \n",
    "    if (j,j-1) in link_dict:\n",
    "        mv(j-1,-1*direction,a)\n",
    "        \n",
    "    \n",
    "    if (j,j+1) in link_dict:\n",
    "        mv(j+1,-1*direction,a)\n"
   ]
  },
  {
   "cell_type": "code",
   "execution_count": 257,
   "metadata": {},
   "outputs": [],
   "source": [
    "link_dict ={(0, 1): 1, (1, 0): 1, (2, 3): 1, (3, 2): 1}\n",
    "a = [0,0,0,0]"
   ]
  },
  {
   "cell_type": "code",
   "execution_count": 258,
   "metadata": {},
   "outputs": [
    {
     "data": {
      "text/plain": [
       "[0, 0, 1, -1]"
      ]
     },
     "execution_count": 258,
     "metadata": {},
     "output_type": "execute_result"
    }
   ],
   "source": [
    "mv(2,1,a)\n",
    "a"
   ]
  },
  {
   "cell_type": "code",
   "execution_count": null,
   "metadata": {},
   "outputs": [],
   "source": []
  },
  {
   "cell_type": "code",
   "execution_count": null,
   "metadata": {},
   "outputs": [],
   "source": []
  }
 ],
 "metadata": {
  "kernelspec": {
   "display_name": "Python 3",
   "language": "python",
   "name": "python3"
  },
  "language_info": {
   "codemirror_mode": {
    "name": "ipython",
    "version": 3
   },
   "file_extension": ".py",
   "mimetype": "text/x-python",
   "name": "python",
   "nbconvert_exporter": "python",
   "pygments_lexer": "ipython3",
   "version": "3.7.4"
  }
 },
 "nbformat": 4,
 "nbformat_minor": 2
}
