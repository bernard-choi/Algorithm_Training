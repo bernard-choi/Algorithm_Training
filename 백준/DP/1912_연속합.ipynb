{
 "cells": [
  {
   "cell_type": "code",
   "execution_count": 10,
   "metadata": {},
   "outputs": [
    {
     "name": "stdout",
     "output_type": "stream",
     "text": [
      "10\n",
      "10 -4 3 1 5 6 -35 12 21 -1\n",
      "33\n"
     ]
    }
   ],
   "source": [
    "n = int(input())\n",
    "input_list = list(map(int,input().split()))\n",
    "\n",
    "d = [0] * len(input_list)\n",
    "d[0] = input_list[0]\n",
    "\n",
    "for i in range(1,len(input_list)):\n",
    "    if input_list[i] > input_list[i] + d[i-1]:\n",
    "        d[i] = input_list[i]\n",
    "    else:\n",
    "        d[i] = input_list[i] + d[i-1]\n",
    "        \n",
    "print(max(d))"
   ]
  }
 ],
 "metadata": {
  "kernelspec": {
   "display_name": "Python 3",
   "language": "python",
   "name": "python3"
  },
  "language_info": {
   "codemirror_mode": {
    "name": "ipython",
    "version": 3
   },
   "file_extension": ".py",
   "mimetype": "text/x-python",
   "name": "python",
   "nbconvert_exporter": "python",
   "pygments_lexer": "ipython3",
   "version": "3.7.4"
  }
 },
 "nbformat": 4,
 "nbformat_minor": 2
}
