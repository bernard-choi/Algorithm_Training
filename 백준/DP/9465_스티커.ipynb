{
 "cells": [
  {
   "cell_type": "code",
   "execution_count": 20,
   "metadata": {},
   "outputs": [
    {
     "name": "stdout",
     "output_type": "stream",
     "text": [
      "2\n",
      "5\n",
      "50 10 100 20 40\n",
      "30 50 70 10 60\n",
      "260\n",
      "7\n",
      "10 30 10 50 100 20 40\n",
      "20 40 30 50 60 20 80\n",
      "290\n"
     ]
    }
   ],
   "source": [
    "n = int(input())\n",
    "for i in range(n):\n",
    "    N = int(input())\n",
    "    matrix = []\n",
    "    matrix.append(list(map(int,input().split())))\n",
    "    matrix.append(list(map(int,input().split())))\n",
    "    \n",
    "    dic = {}\n",
    "    max_value = N\n",
    "    dic[(1,0)] = 0\n",
    "    dic[(1,1)] = matrix[0][0] # 위 \n",
    "    dic[(1,2)] = matrix[1][0] # 아래\n",
    "    \n",
    "    for i in range(2,max_value+1):\n",
    "        dic[(i,0)] = max(dic[(i-1,0)],dic[(i-1,1)],dic[(i-1,2)])\n",
    "        dic[(i,1)] = max(dic[(i-1,2)],dic[(i-1,0)]) + matrix[0][i-1]\n",
    "        dic[(i,2)] = max(dic[(i-1,1)] ,dic[(i-1,0)]) + matrix[1][i-1]\n",
    "    \n",
    "    max_value = 0\n",
    "    for i in range(3):\n",
    "        if dic[(N,i)] > max_value:\n",
    "            max_value = dic[(N,i)]\n",
    "    \n",
    "    print(max_value)\n",
    "    \n"
   ]
  }
 ],
 "metadata": {
  "kernelspec": {
   "display_name": "Python 3",
   "language": "python",
   "name": "python3"
  },
  "language_info": {
   "codemirror_mode": {
    "name": "ipython",
    "version": 3
   },
   "file_extension": ".py",
   "mimetype": "text/x-python",
   "name": "python",
   "nbconvert_exporter": "python",
   "pygments_lexer": "ipython3",
   "version": "3.7.4"
  }
 },
 "nbformat": 4,
 "nbformat_minor": 2
}
