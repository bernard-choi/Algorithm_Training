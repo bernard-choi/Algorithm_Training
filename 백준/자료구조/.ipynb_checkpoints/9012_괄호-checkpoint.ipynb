{
 "cells": [
  {
   "cell_type": "code",
   "execution_count": 20,
   "metadata": {},
   "outputs": [
    {
     "name": "stdout",
     "output_type": "stream",
     "text": [
      "6\n",
      "(())())\n",
      "NO\n",
      "(((()())()\n",
      "NO\n",
      "(()())((()))\n",
      "YES\n",
      "((()()(()))(((())))()\n",
      "NO\n",
      "()()()()(()()())()\n",
      "YES\n",
      "(()((())()(\n",
      "NO\n"
     ]
    }
   ],
   "source": [
    "def solve(string):\n",
    "    stack = []\n",
    "\n",
    "    for ch in string:\n",
    "        if  ch == \"(\":\n",
    "            stack.append(\"0\")\n",
    "        elif (len(stack)==0) & (ch == \")\"):\n",
    "            return \"NO\"\n",
    "        \n",
    "        else:\n",
    "            stack.pop()\n",
    "            \n",
    "    if len(stack) == 0:\n",
    "        return \"YES\"\n",
    "            \n",
    "    return \"NO\"\n",
    "\n",
    "n = int(input())\n",
    "\n",
    "for i in range(n):\n",
    "    string = input()\n",
    "    print(solve(string))\n",
    "    \n",
    "            \n",
    "            \n"
   ]
  }
 ],
 "metadata": {
  "kernelspec": {
   "display_name": "Python 3",
   "language": "python",
   "name": "python3"
  },
  "language_info": {
   "codemirror_mode": {
    "name": "ipython",
    "version": 3
   },
   "file_extension": ".py",
   "mimetype": "text/x-python",
   "name": "python",
   "nbconvert_exporter": "python",
   "pygments_lexer": "ipython3",
   "version": "3.7.4"
  }
 },
 "nbformat": 4,
 "nbformat_minor": 2
}
