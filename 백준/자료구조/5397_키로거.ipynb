{
 "cells": [
  {
   "cell_type": "code",
   "execution_count": null,
   "metadata": {},
   "outputs": [],
   "source": [
    "def do(x,index):\n",
    "    answer_list = []\n",
    "    if x == \"<\":\n",
    "        if index == 0:\n",
    "            index = 0\n",
    "        else:\n",
    "            index -= 1\n",
    "    if x == \">\":\n",
    "        if index == length-1:\n",
    "            index == length-1\n",
    "        else:\n",
    "            index += 1\n",
    "            \n",
    "    if x == \"-\":\n",
    "        \n",
    "        \n",
    "    else:\n",
    "        answer_list.indert(x[index],index)\n",
    "        \n",
    "        "
   ]
  },
  {
   "cell_type": "code",
   "execution_count": 70,
   "metadata": {},
   "outputs": [],
   "source": [
    "x = \"<<BP<A>>Cd-\""
   ]
  },
  {
   "cell_type": "code",
   "execution_count": null,
   "metadata": {},
   "outputs": [],
   "source": [
    "## 시뮬레이션 실패"
   ]
  },
  {
   "cell_type": "code",
   "execution_count": 111,
   "metadata": {},
   "outputs": [
    {
     "name": "stdout",
     "output_type": "stream",
     "text": [
      "1\n",
      "<<----\n",
      "\n"
     ]
    }
   ],
   "source": [
    "from sys import stdin\n",
    "\n",
    "for i in range(int(stdin.readline())):\n",
    "    x = stdin.readline().strip()\n",
    "    answer_list = []\n",
    "    index = 0\n",
    "    for i in range(len(x)):\n",
    "        target = x[i]\n",
    "        if target == \"<\":\n",
    "            if index == 0:\n",
    "                index = 0\n",
    "            else:\n",
    "                index -= 1\n",
    "\n",
    "\n",
    "        elif target == \">\":\n",
    "            if index == len(answer_list):\n",
    "                index = len(answer_list)\n",
    "            else:\n",
    "                index += 1\n",
    "\n",
    "\n",
    "        elif target == \"-\":\n",
    "            if index==0:\n",
    "                pass\n",
    "            else:\n",
    "                answer_list.pop(index-1)\n",
    "                index -= 1\n",
    "\n",
    "\n",
    "        else: \n",
    "            \n",
    "            answer_list.insert(index,target)\n",
    "            index += 1\n",
    "            \n",
    "            \n",
    "\n",
    "\n",
    "    print(''.join(answer_list))"
   ]
  },
  {
   "cell_type": "code",
   "execution_count": 130,
   "metadata": {},
   "outputs": [
    {
     "name": "stdout",
     "output_type": "stream",
     "text": [
      "2\n",
      "<<BP<A>>Cd-\n",
      "BAPC\n",
      "ThIsIsS3Cr3t\n",
      "ThIsIsS3Cr3t\n"
     ]
    }
   ],
   "source": [
    "n = int(input())\n",
    "for i in range(n):\n",
    "    x = list(map(str,input()))\n",
    "    right = []\n",
    "    left = []\n",
    "    for i in range(len(x)):\n",
    "        if x[i] == \"<\":\n",
    "            if left:\n",
    "                right.append(left.pop())\n",
    "\n",
    "        elif x[i] == \">\":\n",
    "            if right:\n",
    "                left.append(right.pop())\n",
    "\n",
    "        elif x[i] == '-':\n",
    "            if left:\n",
    "                left.pop()\n",
    "\n",
    "        else:\n",
    "            left.append(x[i])\n",
    "\n",
    "    left.extend(reversed(right))\n",
    "    print(''.join(left))"
   ]
  },
  {
   "cell_type": "code",
   "execution_count": 123,
   "metadata": {},
   "outputs": [
    {
     "data": {
      "text/plain": [
       "['b', 'x']"
      ]
     },
     "execution_count": 123,
     "metadata": {},
     "output_type": "execute_result"
    }
   ],
   "source": [
    "right"
   ]
  },
  {
   "cell_type": "code",
   "execution_count": 124,
   "metadata": {},
   "outputs": [
    {
     "data": {
      "text/plain": [
       "['a']"
      ]
     },
     "execution_count": 124,
     "metadata": {},
     "output_type": "execute_result"
    }
   ],
   "source": [
    "left"
   ]
  },
  {
   "cell_type": "code",
   "execution_count": 112,
   "metadata": {},
   "outputs": [],
   "source": [
    "yunsik = [1,2,3,4]"
   ]
  },
  {
   "cell_type": "code",
   "execution_count": 113,
   "metadata": {},
   "outputs": [
    {
     "data": {
      "text/plain": [
       "4"
      ]
     },
     "execution_count": 113,
     "metadata": {},
     "output_type": "execute_result"
    }
   ],
   "source": [
    "yunsik.pop()"
   ]
  },
  {
   "cell_type": "code",
   "execution_count": null,
   "metadata": {},
   "outputs": [],
   "source": []
  }
 ],
 "metadata": {
  "kernelspec": {
   "display_name": "Python 3",
   "language": "python",
   "name": "python3"
  },
  "language_info": {
   "codemirror_mode": {
    "name": "ipython",
    "version": 3
   },
   "file_extension": ".py",
   "mimetype": "text/x-python",
   "name": "python",
   "nbconvert_exporter": "python",
   "pygments_lexer": "ipython3",
   "version": "3.7.4"
  }
 },
 "nbformat": 4,
 "nbformat_minor": 2
}
