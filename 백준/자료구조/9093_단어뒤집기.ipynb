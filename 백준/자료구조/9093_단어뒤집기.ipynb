{
 "cells": [
  {
   "cell_type": "code",
   "execution_count": 68,
   "metadata": {},
   "outputs": [
    {
     "name": "stdout",
     "output_type": "stream",
     "text": [
      "1\n",
      "I am happy today\n",
      "I ma yppah yadot \n"
     ]
    }
   ],
   "source": [
    "n = int(input())\n",
    "\n",
    "for i in range(n):\n",
    "    sentence = input().split()\n",
    "    final_list = []\n",
    "    for i in range(len(sentence)):\n",
    "        word = list(sentence[i])\n",
    "        new_list = []\n",
    "        for j in range(len(word)):\n",
    "            new_list.append(word.pop())\n",
    "        final_list += new_list\n",
    "        final_list.append(\" \")\n",
    "    print(\"\".join(final_list))"
   ]
  }
 ],
 "metadata": {
  "kernelspec": {
   "display_name": "Python 3",
   "language": "python",
   "name": "python3"
  },
  "language_info": {
   "codemirror_mode": {
    "name": "ipython",
    "version": 3
   },
   "file_extension": ".py",
   "mimetype": "text/x-python",
   "name": "python",
   "nbconvert_exporter": "python",
   "pygments_lexer": "ipython3",
   "version": "3.7.4"
  }
 },
 "nbformat": 4,
 "nbformat_minor": 2
}
