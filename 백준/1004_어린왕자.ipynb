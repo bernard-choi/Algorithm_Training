{
 "cells": [
  {
   "cell_type": "code",
   "execution_count": null,
   "metadata": {},
   "outputs": [],
   "source": [
    "import sys\n",
    "\n",
    "n = int(input())\n",
    "\n",
    "for i in range(n):\n",
    "    number = 0\n",
    "    x1, y1, x2, y2 = map(int, input().split())\n",
    "    k = int(input())\n",
    "    for i in range(k):\n",
    "        x11,y11,r = map(int, input().split())\n",
    "        distance1 = (x11 - x1)**2 + (y11 - y1)**2\n",
    "        distance2 = (x11 - x2)**2 + (y11 - y2)**2\n",
    "        if (distance1 < r**2) or (distance2 < r**2):\n",
    "            number += 1\n",
    "            if (distance1 < r**2) and (distance2 < r**2):\n",
    "                number -= 1\n",
    "                \n",
    "    print(number)"
   ]
  }
 ],
 "metadata": {
  "kernelspec": {
   "display_name": "Python 3",
   "language": "python",
   "name": "python3"
  },
  "language_info": {
   "codemirror_mode": {
    "name": "ipython",
    "version": 3
   },
   "file_extension": ".py",
   "mimetype": "text/x-python",
   "name": "python",
   "nbconvert_exporter": "python",
   "pygments_lexer": "ipython3",
   "version": "3.7.4"
  }
 },
 "nbformat": 4,
 "nbformat_minor": 2
}
