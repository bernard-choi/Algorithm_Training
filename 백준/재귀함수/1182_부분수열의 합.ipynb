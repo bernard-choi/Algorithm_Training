{
 "cells": [
  {
   "cell_type": "code",
   "execution_count": 64,
   "metadata": {},
   "outputs": [
    {
     "name": "stdout",
     "output_type": "stream",
     "text": [
      "5 0\n",
      "0 0 0 0 0\n",
      "31\n"
     ]
    }
   ],
   "source": [
    "## n : 합\n",
    "## alpha : 입력 리스트\n",
    "## subset : 부분집합\n",
    "## i : index\n",
    "## k : 부분집합 크기\n",
    "\n",
    "def go(n,alpha,subset,i,k):\n",
    "\n",
    "    global answer\n",
    "    if (sum(subset) == n) & (len(subset)==k):\n",
    "        answer += 1\n",
    "\n",
    "        return\n",
    "    \n",
    "    if i>=len(alpha):\n",
    "        return\n",
    "    \n",
    "    go(n,alpha,subset+[alpha[i]],i+1,k)\n",
    "    go(n,alpha,subset,i+1,k)\n",
    "\n",
    "answer = 0\n",
    "subset = []\n",
    "a,b = map(int,input().split())\n",
    "alpha = list(map(int,input().split()))\n",
    "for i in range(1,a+1):\n",
    "    go(b,alpha,subset,0,i)\n",
    "    \n",
    "print(answer)"
   ]
  },
  {
   "cell_type": "code",
   "execution_count": 72,
   "metadata": {},
   "outputs": [],
   "source": [
    "alpha = [-7,-3,-2,5,8]"
   ]
  },
  {
   "cell_type": "code",
   "execution_count": 97,
   "metadata": {},
   "outputs": [],
   "source": [
    "def go(n,alpha,subset,i,k):\n",
    "    \n",
    "\n",
    "    global answer\n",
    "    if (sum(subset) == n) & (len(subset)==k):\n",
    "        answer += 1\n",
    "        print(subset)\n",
    "        return\n",
    "    \n",
    "    if i>=len(alpha):\n",
    "        return\n",
    "    \n",
    "    go(n,alpha,subset+[alpha[i]],i+1,k)\n",
    "    go(n,alpha,subset,i+1,k)"
   ]
  },
  {
   "cell_type": "code",
   "execution_count": 98,
   "metadata": {},
   "outputs": [],
   "source": [
    "answer = 0\n",
    "subset = []\n",
    "a = 5\n",
    "b = 0\n",
    "# for i in range(1,a+1):\n",
    "#     go(b,alpha,subset,0,i)"
   ]
  },
  {
   "cell_type": "code",
   "execution_count": 99,
   "metadata": {},
   "outputs": [
    {
     "name": "stdout",
     "output_type": "stream",
     "text": [
      "[-3, -2, 5]\n"
     ]
    }
   ],
   "source": [
    "go(0,alpha,subset,0,3)"
   ]
  },
  {
   "cell_type": "code",
   "execution_count": 93,
   "metadata": {},
   "outputs": [
    {
     "data": {
      "text/plain": [
       "1"
      ]
     },
     "execution_count": 93,
     "metadata": {},
     "output_type": "execute_result"
    }
   ],
   "source": [
    "answer"
   ]
  },
  {
   "cell_type": "markdown",
   "metadata": {},
   "source": [
    "## answer"
   ]
  },
  {
   "cell_type": "code",
   "execution_count": 59,
   "metadata": {},
   "outputs": [
    {
     "data": {
      "text/plain": [
       "1"
      ]
     },
     "execution_count": 59,
     "metadata": {},
     "output_type": "execute_result"
    }
   ],
   "source": [
    "len([list(x) for x in set(tuple(x) for x in answer)])"
   ]
  },
  {
   "cell_type": "code",
   "execution_count": null,
   "metadata": {},
   "outputs": [],
   "source": []
  }
 ],
 "metadata": {
  "kernelspec": {
   "display_name": "Python 3",
   "language": "python",
   "name": "python3"
  },
  "language_info": {
   "codemirror_mode": {
    "name": "ipython",
    "version": 3
   },
   "file_extension": ".py",
   "mimetype": "text/x-python",
   "name": "python",
   "nbconvert_exporter": "python",
   "pygments_lexer": "ipython3",
   "version": "3.7.4"
  }
 },
 "nbformat": 4,
 "nbformat_minor": 2
}
