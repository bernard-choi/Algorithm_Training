{
 "cells": [
  {
   "cell_type": "code",
   "execution_count": 168,
   "metadata": {},
   "outputs": [
    {
     "name": "stdout",
     "output_type": "stream",
     "text": [
      "6\n",
      "1 2 3 4 5 6\n",
      "3 2 1 1\n",
      "72\n",
      "-48\n"
     ]
    }
   ],
   "source": [
    "answer_list = []\n",
    "\n",
    "def do(i,number,cal,now,what):\n",
    "    if i == len(number_list):\n",
    "        answer_list.append(now)\n",
    "        return    \n",
    "    \n",
    "    if what == 1:\n",
    "        if cal[0] == 0:\n",
    "            return\n",
    "        new_cal = cal[:]\n",
    "        new_cal[0] -= 1\n",
    "        now += number[i]\n",
    "        i += 1\n",
    "\n",
    "    if what == 2:\n",
    "        if cal[1] == 0:\n",
    "            return\n",
    "        new_cal = cal[:]\n",
    "        new_cal[1] -= 1\n",
    "        now -= number[i]\n",
    "        i += 1\n",
    "\n",
    "        \n",
    "    if what == 3:\n",
    "        if cal[2] == 0:\n",
    "            return\n",
    "        new_cal = cal[:]\n",
    "        new_cal[2] -= 1\n",
    "        now = now * number[i]\n",
    "        i += 1\n",
    "  \n",
    "        \n",
    "    if what == 4:\n",
    "        if cal[3] == 0:\n",
    "            return\n",
    "        new_cal = cal[:]\n",
    "        new_cal[3] -= 1\n",
    "        now = int(now / number[i]) \n",
    "        i += 1\n",
    "  \n",
    "        \n",
    "\n",
    "\n",
    "        \n",
    "    do(i,number,new_cal,now,1)\n",
    "    do(i,number,new_cal,now,2)\n",
    "    do(i,number,new_cal,now,3)\n",
    "    do(i,number,new_cal,now,4)\n",
    "    \n",
    "n = int(input())\n",
    "input_list = list(map(int,input().split()))\n",
    "cal_list = list(map(int,input().split()))\n",
    "\n",
    "number_list = input_list[1:]\n",
    "start_index = input_list[0]\n",
    "\n",
    "do(0,number_list,cal_list,start_index,1)\n",
    "do(0,number_list,cal_list,start_index,2)\n",
    "do(0,number_list,cal_list,start_index,3)\n",
    "do(0,number_list,cal_list,start_index,4)\n",
    "\n",
    "print(max(answer_list))\n",
    "print(min(answer_list))\n",
    "\n",
    "    \n",
    "    "
   ]
  },
  {
   "cell_type": "code",
   "execution_count": 160,
   "metadata": {},
   "outputs": [
    {
     "data": {
      "text/plain": [
       "-2"
      ]
     },
     "execution_count": 160,
     "metadata": {},
     "output_type": "execute_result"
    }
   ],
   "source": [
    "-3 // 2"
   ]
  },
  {
   "cell_type": "code",
   "execution_count": 162,
   "metadata": {},
   "outputs": [
    {
     "data": {
      "text/plain": [
       "1.5"
      ]
     },
     "execution_count": 162,
     "metadata": {},
     "output_type": "execute_result"
    }
   ],
   "source": [
    "3 / 2"
   ]
  },
  {
   "cell_type": "code",
   "execution_count": 163,
   "metadata": {},
   "outputs": [
    {
     "data": {
      "text/plain": [
       "-1"
      ]
     },
     "execution_count": 163,
     "metadata": {},
     "output_type": "execute_result"
    }
   ],
   "source": [
    "-2 // 3"
   ]
  },
  {
   "cell_type": "code",
   "execution_count": 164,
   "metadata": {},
   "outputs": [
    {
     "data": {
      "text/plain": [
       "0"
      ]
     },
     "execution_count": 164,
     "metadata": {},
     "output_type": "execute_result"
    }
   ],
   "source": [
    "2 // 3"
   ]
  },
  {
   "cell_type": "code",
   "execution_count": 165,
   "metadata": {},
   "outputs": [
    {
     "data": {
      "text/plain": [
       "-1"
      ]
     },
     "execution_count": 165,
     "metadata": {},
     "output_type": "execute_result"
    }
   ],
   "source": [
    "int(-3/2)"
   ]
  },
  {
   "cell_type": "code",
   "execution_count": null,
   "metadata": {},
   "outputs": [],
   "source": []
  }
 ],
 "metadata": {
  "kernelspec": {
   "display_name": "Python 3",
   "language": "python",
   "name": "python3"
  },
  "language_info": {
   "codemirror_mode": {
    "name": "ipython",
    "version": 3
   },
   "file_extension": ".py",
   "mimetype": "text/x-python",
   "name": "python",
   "nbconvert_exporter": "python",
   "pygments_lexer": "ipython3",
   "version": "3.7.4"
  }
 },
 "nbformat": 4,
 "nbformat_minor": 2
}
