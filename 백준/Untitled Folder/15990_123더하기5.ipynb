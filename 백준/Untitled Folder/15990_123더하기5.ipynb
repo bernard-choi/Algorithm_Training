{
 "cells": [
  {
   "cell_type": "code",
   "execution_count": 24,
   "metadata": {},
   "outputs": [
    {
     "name": "stdout",
     "output_type": "stream",
     "text": [
      "2\n",
      "1\n",
      "1\n",
      "2\n",
      "1\n"
     ]
    }
   ],
   "source": [
    "max_value = 100001\n",
    "mod = 1000000009\n",
    "    \n",
    "matrix = {}\n",
    "\n",
    "matrix[(1,1)] = 1\n",
    "matrix[(1,2)] = 0\n",
    "matrix[(1,3)] = 0\n",
    "matrix[(2,1)] = 0\n",
    "matrix[(2,2)] = 1\n",
    "matrix[(2,3)] = 0\n",
    "matrix[(3,1)] = 1\n",
    "matrix[(3,2)] = 1\n",
    "matrix[(3,3)] = 1\n",
    "matrix[(4,1)] = 2\n",
    "matrix[(4,2)] = 0\n",
    "matrix[(4,3)] = 1\n",
    "\n",
    "for i in range(5,max_value):\n",
    "    matrix[i,1] = (matrix[i-1,2] + matrix[i-1,3])%mod\n",
    "    matrix[i,2] = (matrix[i-2,1] + matrix[i-2,3])%mod\n",
    "    matrix[i,3] = (matrix[i-3,1] + matrix[i-3,2])%mod\n",
    "\n",
    "\n",
    "\n",
    "n = int(input())\n",
    "\n",
    "for _ in range(n):\n",
    "    \n",
    "    answer = 0\n",
    "    N = int(input())\n",
    "    for i in range(3):\n",
    "        answer += matrix[(N,i+1)]\n",
    "    \n",
    "    print(answer%mod)\n",
    "    \n",
    "\n",
    "\n",
    "    \n",
    "    "
   ]
  },
  {
   "cell_type": "markdown",
   "metadata": {},
   "source": [
    "### matrix"
   ]
  },
  {
   "cell_type": "code",
   "execution_count": 8,
   "metadata": {},
   "outputs": [
    {
     "data": {
      "text/plain": [
       "{(2, 1): 0,\n",
       " (2, 2): 1,\n",
       " (2, 3): 0,\n",
       " (3, 1): 1,\n",
       " (3, 2): 1,\n",
       " (3, 3): 1,\n",
       " (4, 1): 2,\n",
       " (4, 2): 0,\n",
       " (4, 3): 1}"
      ]
     },
     "execution_count": 8,
     "metadata": {},
     "output_type": "execute_result"
    }
   ],
   "source": [
    "matrix"
   ]
  },
  {
   "cell_type": "code",
   "execution_count": 12,
   "metadata": {},
   "outputs": [],
   "source": [
    "if (7,1) in matrix:\n",
    "    print('yunsik')"
   ]
  },
  {
   "cell_type": "markdown",
   "metadata": {},
   "source": [
    "# answer = 0\n",
    "for i in range(3):\n",
    "    answer += matrix[(N,i+1)]"
   ]
  },
  {
   "cell_type": "code",
   "execution_count": null,
   "metadata": {},
   "outputs": [],
   "source": []
  }
 ],
 "metadata": {
  "kernelspec": {
   "display_name": "Python 3",
   "language": "python",
   "name": "python3"
  },
  "language_info": {
   "codemirror_mode": {
    "name": "ipython",
    "version": 3
   },
   "file_extension": ".py",
   "mimetype": "text/x-python",
   "name": "python",
   "nbconvert_exporter": "python",
   "pygments_lexer": "ipython3",
   "version": "3.7.4"
  }
 },
 "nbformat": 4,
 "nbformat_minor": 2
}
