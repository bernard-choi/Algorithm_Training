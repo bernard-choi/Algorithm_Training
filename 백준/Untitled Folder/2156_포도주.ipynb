{
 "cells": [
  {
   "cell_type": "code",
   "execution_count": 8,
   "metadata": {},
   "outputs": [
    {
     "name": "stdout",
     "output_type": "stream",
     "text": [
      "1\n",
      "1\n",
      "1\n"
     ]
    }
   ],
   "source": [
    "n = int(input())\n",
    "\n",
    "input_list = []\n",
    "\n",
    "    \n",
    "for i in range(n):\n",
    "    input_list.append(int(input()))\n",
    "    \n",
    "if n==1:\n",
    "    print(input_list[-1])\n",
    "    \n",
    "else:\n",
    "    \n",
    "    d_list = []\n",
    "    d_list.append(0)\n",
    "    d_list.append(input_list[0])\n",
    "    d_list.append(input_list[0]+input_list[1])\n",
    "\n",
    "    for i in range(3,len(input_list)+1):\n",
    "        d_list.append(max(d_list[i-3]+input_list[i-2] + input_list[i-1],d_list[i-2] + input_list[i-1],d_list[i-1]))\n",
    "\n",
    "    print(max(d_list))    "
   ]
  },
  {
   "cell_type": "code",
   "execution_count": 12,
   "metadata": {},
   "outputs": [
    {
     "name": "stdout",
     "output_type": "stream",
     "text": [
      "3\n",
      "4\n",
      "5\n",
      "6\n"
     ]
    }
   ],
   "source": [
    "for i in range(3,len(input_list)+1):\n",
    "    print(i)\n",
    "    d_list.append(max(d_list[i-3]+input_list[i-2] + input_list[i-1],d_list[i-2] + input_list[i-1],d_list[i-1]))"
   ]
  },
  {
   "cell_type": "code",
   "execution_count": 14,
   "metadata": {},
   "outputs": [
    {
     "name": "stdout",
     "output_type": "stream",
     "text": [
      "33\n"
     ]
    }
   ],
   "source": [
    "print(max(d_list))"
   ]
  },
  {
   "cell_type": "code",
   "execution_count": null,
   "metadata": {},
   "outputs": [],
   "source": []
  }
 ],
 "metadata": {
  "kernelspec": {
   "display_name": "Python 3",
   "language": "python",
   "name": "python3"
  },
  "language_info": {
   "codemirror_mode": {
    "name": "ipython",
    "version": 3
   },
   "file_extension": ".py",
   "mimetype": "text/x-python",
   "name": "python",
   "nbconvert_exporter": "python",
   "pygments_lexer": "ipython3",
   "version": "3.7.4"
  }
 },
 "nbformat": 4,
 "nbformat_minor": 2
}
