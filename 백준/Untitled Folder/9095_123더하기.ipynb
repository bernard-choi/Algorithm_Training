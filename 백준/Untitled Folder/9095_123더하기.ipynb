{
 "cells": [
  {
   "cell_type": "code",
   "execution_count": 17,
   "metadata": {},
   "outputs": [
    {
     "name": "stdout",
     "output_type": "stream",
     "text": [
      "3\n",
      "4\n",
      "7\n",
      "10\n",
      "7\n",
      "44\n",
      "274\n"
     ]
    }
   ],
   "source": [
    "answer_list = [0,1,2,4] + [0] * 10\n",
    "l = int(input())\n",
    "\n",
    "temp_list = []\n",
    "for i in range(l):\n",
    "    temp_list.append(int(input()))\n",
    "    \n",
    "for i in range(l):\n",
    "    n = temp_list[i]\n",
    "\n",
    "    if n==1:\n",
    "        print(1)\n",
    "    elif n==2:\n",
    "        print(2)\n",
    "    elif n==3:\n",
    "        print(4)\n",
    "    else:\n",
    "        for i in range(4,n+1):\n",
    "            answer_list[i] = answer_list[i-1]+answer_list[i-2]+answer_list[i-3]\n",
    "\n",
    "        print(answer_list[n])"
   ]
  },
  {
   "cell_type": "code",
   "execution_count": null,
   "metadata": {},
   "outputs": [],
   "source": []
  }
 ],
 "metadata": {
  "kernelspec": {
   "display_name": "Python 3",
   "language": "python",
   "name": "python3"
  },
  "language_info": {
   "codemirror_mode": {
    "name": "ipython",
    "version": 3
   },
   "file_extension": ".py",
   "mimetype": "text/x-python",
   "name": "python",
   "nbconvert_exporter": "python",
   "pygments_lexer": "ipython3",
   "version": "3.7.4"
  }
 },
 "nbformat": 4,
 "nbformat_minor": 2
}
