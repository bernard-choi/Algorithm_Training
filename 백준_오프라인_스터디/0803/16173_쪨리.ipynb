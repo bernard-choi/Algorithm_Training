{
 "cells": [
  {
   "cell_type": "code",
   "execution_count": 53,
   "metadata": {},
   "outputs": [
    {
     "name": "stdout",
     "output_type": "stream",
     "text": [
      "3\n",
      "1 1 10\n",
      "1 5 1\n",
      "2 2 -1\n",
      "1 0\n",
      "0 1\n",
      "2 0\n",
      "1 1\n",
      "0 2\n",
      "2 2\n",
      "HaruHaru\n"
     ]
    }
   ],
   "source": [
    "n = int(input())\n",
    "\n",
    "matrix = []\n",
    "visited = []\n",
    "\n",
    "for i in range(n):\n",
    "    matrix.append(list(map(int,input().split())))\n",
    "    \n",
    "def dfs(count,x,y):\n",
    "    for i in range(2):\n",
    "        if (0 <= x+dx[i]*count < n):\n",
    "            if (0 <= y+dy[i]*count < n):\n",
    "                if [x+dx[i]*count,y+dy[i]*count] not in visited:\n",
    "                    queue.append([x+dx[i]*count,y+dy[i]*count])\n",
    "                    visited.append([x+dx[i]*count,y+dy[i]*count])\n",
    "\n",
    "\n",
    "                \n",
    "dx = [1,0]\n",
    "dy = [0,1]\n",
    "\n",
    "queue = []\n",
    "visited = []\n",
    "\n",
    "queue.append([0,0])\n",
    "visited.append([0,0])\n",
    "\n",
    "\n",
    "answer = False\n",
    "\n",
    "while queue:\n",
    "    point = queue.pop(0)\n",
    "    if matrix[point[0]][point[1]] == -1:\n",
    "        answer = True\n",
    "        break\n",
    "    \n",
    "    dfs(matrix[point[0]][point[1]],point[0],point[1])\n",
    "\n",
    "              \n",
    "if answer == True:\n",
    "    print('HaruHaru')\n",
    "              \n",
    "else:\n",
    "    print('Hing')\n",
    "    \n",
    "\n",
    "    \n",
    "\n",
    "\n",
    "        \n",
    "\n",
    "            "
   ]
  },
  {
   "cell_type": "code",
   "execution_count": null,
   "metadata": {},
   "outputs": [],
   "source": []
  }
 ],
 "metadata": {
  "kernelspec": {
   "display_name": "Python 3",
   "language": "python",
   "name": "python3"
  },
  "language_info": {
   "codemirror_mode": {
    "name": "ipython",
    "version": 3
   },
   "file_extension": ".py",
   "mimetype": "text/x-python",
   "name": "python",
   "nbconvert_exporter": "python",
   "pygments_lexer": "ipython3",
   "version": "3.7.4"
  }
 },
 "nbformat": 4,
 "nbformat_minor": 2
}
