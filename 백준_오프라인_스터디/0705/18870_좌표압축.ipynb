{
 "cells": [
  {
   "cell_type": "code",
   "execution_count": 22,
   "metadata": {},
   "outputs": [
    {
     "name": "stdout",
     "output_type": "stream",
     "text": [
      "6\n",
      "1000 999 1000 999 1000 999\n"
     ]
    }
   ],
   "source": [
    "n = int(input())\n",
    "input_list = list(map(int,input().split()))\n",
    "input_dict = {}\n",
    "for p in enumerate(sorted(list(dict.fromkeys(input_list)))):\n",
    "    input_dict[p[1]] = p[0]\n",
    "    \n",
    "for i in range(len(input_list)):\n",
    "    print(input_dict[input_list[i]],end=' ')"
   ]
  }
 ],
 "metadata": {
  "kernelspec": {
   "display_name": "Python 3",
   "language": "python",
   "name": "python3"
  },
  "language_info": {
   "codemirror_mode": {
    "name": "ipython",
    "version": 3
   },
   "file_extension": ".py",
   "mimetype": "text/x-python",
   "name": "python",
   "nbconvert_exporter": "python",
   "pygments_lexer": "ipython3",
   "version": "3.7.6"
  }
 },
 "nbformat": 4,
 "nbformat_minor": 2
}
