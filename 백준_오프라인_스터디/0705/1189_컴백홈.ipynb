{
 "cells": [
  {
   "cell_type": "code",
   "execution_count": 73,
   "metadata": {},
   "outputs": [
    {
     "name": "stdout",
     "output_type": "stream",
     "text": [
      "3 4 6\n",
      "....\n",
      ".T..\n",
      "....\n",
      "4\n"
     ]
    }
   ],
   "source": [
    "a,b,c = list(map(int,input().split()))\n",
    "\n",
    "matrix=[]\n",
    "for i in range(a):\n",
    "    matrix.append(list(input()))\n",
    "\n",
    "dx = [0,0,-1,1]\n",
    "dy = [1,-1,0,0]\n",
    "\n",
    "answer = 0\n",
    "\n",
    "def do(x,y,visited,n):\n",
    "    global answer\n",
    "    \n",
    "    if (x < 0) or (x >= a):\n",
    "        return\n",
    "    \n",
    "    if (y < 0) or (y >= b):\n",
    "        return\n",
    "    \n",
    "    if (x,y) in visited:\n",
    "        return\n",
    "    \n",
    "    if matrix[x][y] != '.':\n",
    "        return\n",
    "    \n",
    "    if n == 1:\n",
    "        if (x,y) == (0,b-1):\n",
    "            answer += 1\n",
    "            \n",
    "            \n",
    "            \n",
    "    do(x+dx[0],y+dy[0],visited + [(x,y)], n-1)\n",
    "    do(x+dx[1],y+dy[1],visited + [(x,y)], n-1)\n",
    "    do(x+dx[2],y+dy[2],visited + [(x,y)], n-1)\n",
    "    do(x+dx[3],y+dy[3],visited + [(x,y)], n-1)\n",
    "    \n",
    "    \n",
    "    \n",
    "start_point = [a-1,0]\n",
    "    \n",
    "visited = []\n",
    "do(start_point[0],start_point[1],visited,c)\n",
    "    \n",
    "print(answer)   "
   ]
  }
 ],
 "metadata": {
  "kernelspec": {
   "display_name": "Python 3",
   "language": "python",
   "name": "python3"
  },
  "language_info": {
   "codemirror_mode": {
    "name": "ipython",
    "version": 3
   },
   "file_extension": ".py",
   "mimetype": "text/x-python",
   "name": "python",
   "nbconvert_exporter": "python",
   "pygments_lexer": "ipython3",
   "version": "3.7.6"
  }
 },
 "nbformat": 4,
 "nbformat_minor": 2
}
