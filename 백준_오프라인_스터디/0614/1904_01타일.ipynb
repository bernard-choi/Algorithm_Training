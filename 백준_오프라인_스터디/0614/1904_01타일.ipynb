{
 "cells": [
  {
   "cell_type": "code",
   "execution_count": 14,
   "metadata": {},
   "outputs": [
    {
     "name": "stdout",
     "output_type": "stream",
     "text": [
      "2\n",
      "2\n"
     ]
    }
   ],
   "source": [
    "n = int(input())\n",
    "\n",
    "matrix = {}\n",
    "matrix[(1,0)] = 0\n",
    "matrix[(1,1)] = 1\n",
    "matrix[(2,0)] = 1\n",
    "matrix[(2,1)] = 1\n",
    "\n",
    "if n==1:\n",
    "    print(1)\n",
    "elif n==2:\n",
    "    print(2)\n",
    "else:   \n",
    "\n",
    "    for i in range(3,n+1):\n",
    "        matrix[(i,1)] = (matrix[(i-1,0)] + matrix[(i-1,1)]) % 15746\n",
    "        matrix[(i,0)] = (matrix[(i-2,0)] + matrix[(i-2,1)]) % 15746\n",
    "        \n",
    "    print((matrix[(n,0)] + matrix[(n,1)]) % 15746)"
   ]
  }
 ],
 "metadata": {
  "kernelspec": {
   "display_name": "Python 3",
   "language": "python",
   "name": "python3"
  },
  "language_info": {
   "codemirror_mode": {
    "name": "ipython",
    "version": 3
   },
   "file_extension": ".py",
   "mimetype": "text/x-python",
   "name": "python",
   "nbconvert_exporter": "python",
   "pygments_lexer": "ipython3",
   "version": "3.7.4"
  }
 },
 "nbformat": 4,
 "nbformat_minor": 2
}
