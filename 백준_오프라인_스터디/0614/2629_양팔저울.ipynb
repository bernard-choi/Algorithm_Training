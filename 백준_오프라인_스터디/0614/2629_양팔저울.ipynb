{
 "cells": [
  {
   "cell_type": "code",
   "execution_count": 45,
   "metadata": {},
   "outputs": [
    {
     "name": "stdout",
     "output_type": "stream",
     "text": [
      "2\n",
      "1 4\n",
      "2\n",
      "3 2\n",
      "Y N "
     ]
    }
   ],
   "source": [
    "n = int(input())\n",
    "choo = list(map(int,input().split()))\n",
    "test_n = int(input())\n",
    "test_choo = list(map(int,input().split()))\n",
    "\n",
    "def do(possible,left,right,no,index,n):\n",
    "## possible: 가능한 값\n",
    "## index: 몇번째 추까지 진행\n",
    "## n : 전체 추 개수\n",
    "    \n",
    "    diff = abs(right - left)\n",
    "    if diff not in possible:\n",
    "        possible.append(diff)\n",
    "        \n",
    "        \n",
    "\n",
    "    if index == n:\n",
    "        return\n",
    "    \n",
    "    if (answer[index][diff] == 0): ## memoization\n",
    "        do(possible,left + choo[index],right,no,index+1,n) ## 왼쪽에 추 추가\n",
    "        do(possible,left,right + choo[index],no,index+1,n) ## 오른쪽에 추 추가\n",
    "        do(possible,left,right,no+choo[index],index+1,n)\n",
    "        answer[index][diff] = 1\n",
    "\n",
    "possible = []\n",
    "answer = [[0]*15001 for x in range(len(choo))]\n",
    "do(possible,0,0,0,0,len(choo))\n",
    "\n",
    "answer_list = []\n",
    "for i in range(len(test_choo)):\n",
    "    if test_choo[i] in possible:\n",
    "        answer_list.append('Y')\n",
    "    else:\n",
    "        answer_list.append('N')\n",
    "        \n",
    "for i in range(len(answer_list)):\n",
    "    print(answer_list[i],end=' ')"
   ]
  }
 ],
 "metadata": {
  "kernelspec": {
   "display_name": "Python 3",
   "language": "python",
   "name": "python3"
  },
  "language_info": {
   "codemirror_mode": {
    "name": "ipython",
    "version": 3
   },
   "file_extension": ".py",
   "mimetype": "text/x-python",
   "name": "python",
   "nbconvert_exporter": "python",
   "pygments_lexer": "ipython3",
   "version": "3.7.6"
  }
 },
 "nbformat": 4,
 "nbformat_minor": 2
}
