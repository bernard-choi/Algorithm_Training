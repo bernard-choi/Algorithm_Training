{
 "cells": [
  {
   "cell_type": "code",
   "execution_count": 169,
   "metadata": {},
   "outputs": [
    {
     "name": "stdout",
     "output_type": "stream",
     "text": [
      "5\n",
      "30 20 10 4 100 9 8 7 4 10 29\n",
      "7\n"
     ]
    }
   ],
   "source": [
    "n = int(input())\n",
    "input_list = list(map(int,input().split()))\n",
    "\n",
    "d = [0] * (len(input_list)+1)\n",
    "\n",
    "for i in range(len(input_list)-1,-1,-1):\n",
    "\n",
    "    max_value = 0\n",
    "    index = len(input_list)\n",
    "\n",
    "\n",
    "    for j in range(i+1,len(input_list)):\n",
    "\n",
    "        if input_list[j] < input_list[i]:\n",
    "            if d[j] > max_value:\n",
    "                max_value = d[j]\n",
    "                index = j\n",
    "\n",
    "\n",
    "\n",
    "    d[i] = d[index] + 1\n",
    "\n",
    "\n",
    "print(max(d))"
   ]
  }
 ],
 "metadata": {
  "kernelspec": {
   "display_name": "Python 3",
   "language": "python",
   "name": "python3"
  },
  "language_info": {
   "codemirror_mode": {
    "name": "ipython",
    "version": 3
   },
   "file_extension": ".py",
   "mimetype": "text/x-python",
   "name": "python",
   "nbconvert_exporter": "python",
   "pygments_lexer": "ipython3",
   "version": "3.7.4"
  }
 },
 "nbformat": 4,
 "nbformat_minor": 2
}
