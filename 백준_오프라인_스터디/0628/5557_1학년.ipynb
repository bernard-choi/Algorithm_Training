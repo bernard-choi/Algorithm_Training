{
 "cells": [
  {
   "cell_type": "code",
   "execution_count": 397,
   "metadata": {},
   "outputs": [
    {
     "name": "stdout",
     "output_type": "stream",
     "text": [
      "11\n",
      "8 3 2 4 8 7 2 0 8 8\n",
      "['+', '+', '+', '-', '-', '-', '+', '+', '-']\n",
      "['+', '+', '+', '-', '-', '-', '-', '+', '-']\n",
      "['-', '+', '-', '+', '+', '-', '+', '-', '-']\n",
      "['-', '+', '-', '+', '+', '-', '-', '-', '-']\n",
      "4\n"
     ]
    }
   ],
   "source": [
    "n = int(input())\n",
    "input_list = list(map(int,input().split()))\n",
    "\n",
    "memo = []\n",
    "path = []\n",
    "\n",
    "answer = 0\n"
   ]
  },
  {
   "cell_type": "code",
   "execution_count": 461,
   "metadata": {},
   "outputs": [],
   "source": [
    "input_list = [8,3,2,4,8,7,2,4,0,8,8]"
   ]
  },
  {
   "cell_type": "code",
   "execution_count": 462,
   "metadata": {},
   "outputs": [],
   "source": [
    "memo = {}"
   ]
  },
  {
   "cell_type": "code",
   "execution_count": 463,
   "metadata": {},
   "outputs": [],
   "source": [
    "present_path = []"
   ]
  },
  {
   "cell_type": "code",
   "execution_count": 464,
   "metadata": {},
   "outputs": [
    {
     "name": "stdout",
     "output_type": "stream",
     "text": [
      "['+', '+', '+', '-', '-', '+', '-', '+', '+', '-']\n",
      "[11, 13, 17, 9, 2, 4, 0, 0, 8, 0]\n",
      "['+', '+', '+', '-', '-', '+', '-', '-', '+', '-']\n",
      "[11, 13, 17, 9, 2, 4, 0, 0, 8, 0]\n",
      "6 0\n",
      "3 9\n",
      "8 8\n",
      "8 8\n",
      "7 0\n",
      "['-', '+', '+', '-', '+', '+', '+', '+', '-', '-']\n",
      "[5, 7, 11, 3, 10, 12, 16, 16, 8, 0]\n",
      "['-', '+', '+', '-', '+', '+', '+', '-', '-', '-']\n",
      "[5, 7, 11, 3, 10, 12, 16, 16, 8, 0]\n",
      "8 8\n",
      "8 8\n",
      "3 3\n",
      "12\n"
     ]
    }
   ],
   "source": [
    "answer = 0\n",
    "def do(input_list,n,present,path,present_path):\n",
    "    \n",
    "    global answer\n",
    "    \n",
    "    if (n,present) in memo:\n",
    "        answer +=1\n",
    "        print(n,present)\n",
    "        return\n",
    "    \n",
    "    else:\n",
    "        if n == len(input_list)-1:\n",
    "            if present == 0:\n",
    "                answer += 1\n",
    "                for i in range(len(present_path)):\n",
    "                    memo[(i,present_path[i])] = 1\n",
    "\n",
    "                print(path)\n",
    "                print(present_path)\n",
    "\n",
    "            return\n",
    "\n",
    "        if (present < 0) or (present > 20):\n",
    "            return\n",
    "\n",
    "        n += 1\n",
    "\n",
    "        present1  = present + input_list[n]\n",
    "        do(input_list,n,present1,path + ['+'], present_path + [present1])\n",
    "\n",
    "\n",
    "        present2 = present - input_list[n]\n",
    "        do(input_list,n,present2,path + ['-'], present_path + [present2])\n",
    "\n",
    "do(input_list,0,input_list[0],path,present_path)\n",
    "\n",
    "print(answer)"
   ]
  },
  {
   "cell_type": "code",
   "execution_count": 465,
   "metadata": {},
   "outputs": [
    {
     "data": {
      "text/plain": [
       "{(0, 11): 1,\n",
       " (1, 13): 1,\n",
       " (2, 17): 1,\n",
       " (3, 9): 1,\n",
       " (4, 2): 1,\n",
       " (5, 4): 1,\n",
       " (6, 0): 1,\n",
       " (7, 0): 1,\n",
       " (8, 8): 1,\n",
       " (9, 0): 1,\n",
       " (0, 5): 1,\n",
       " (1, 7): 1,\n",
       " (2, 11): 1,\n",
       " (3, 3): 1,\n",
       " (4, 10): 1,\n",
       " (5, 12): 1,\n",
       " (6, 16): 1,\n",
       " (7, 16): 1}"
      ]
     },
     "execution_count": 465,
     "metadata": {},
     "output_type": "execute_result"
    }
   ],
   "source": [
    "memo = "
   ]
  },
  {
   "cell_type": "code",
   "execution_count": 427,
   "metadata": {},
   "outputs": [
    {
     "ename": "AttributeError",
     "evalue": "'tuple' object has no attribute 'values'",
     "output_type": "error",
     "traceback": [
      "\u001b[0;31m---------------------------------------------------------------------------\u001b[0m",
      "\u001b[0;31mAttributeError\u001b[0m                            Traceback (most recent call last)",
      "\u001b[0;32m<ipython-input-427-22b398ae2efa>\u001b[0m in \u001b[0;36m<module>\u001b[0;34m\u001b[0m\n\u001b[0;32m----> 1\u001b[0;31m \u001b[0;36m8\u001b[0m \u001b[0;32min\u001b[0m \u001b[0mmemo\u001b[0m\u001b[0;34m[\u001b[0m\u001b[0;36m0\u001b[0m\u001b[0;34m]\u001b[0m\u001b[0;34m.\u001b[0m\u001b[0mvalues\u001b[0m\u001b[0;34m(\u001b[0m\u001b[0;34m)\u001b[0m\u001b[0;34m\u001b[0m\u001b[0;34m\u001b[0m\u001b[0m\n\u001b[0m",
      "\u001b[0;31mAttributeError\u001b[0m: 'tuple' object has no attribute 'values'"
     ]
    }
   ],
   "source": [
    "8 in memo[0].values()"
   ]
  },
  {
   "cell_type": "code",
   "execution_count": null,
   "metadata": {},
   "outputs": [],
   "source": [
    "memo[(i,)]"
   ]
  },
  {
   "cell_type": "code",
   "execution_count": 466,
   "metadata": {},
   "outputs": [],
   "source": [
    "yunsik = {}"
   ]
  },
  {
   "cell_type": "code",
   "execution_count": null,
   "metadata": {},
   "outputs": [],
   "source": [
    "yunsik[(0,input_list[0])] = 1\n",
    "for i in range(len(input_list)):\n",
    "    for j in range(20):\n",
    "        yunsik[(i,j)] = yunsik[(i,j-input_list[i])] + yunsik[(i,j+input_list[i])\n",
    "                                                            ]\n",
    "    "
   ]
  }
 ],
 "metadata": {
  "kernelspec": {
   "display_name": "Python 3",
   "language": "python",
   "name": "python3"
  },
  "language_info": {
   "codemirror_mode": {
    "name": "ipython",
    "version": 3
   },
   "file_extension": ".py",
   "mimetype": "text/x-python",
   "name": "python",
   "nbconvert_exporter": "python",
   "pygments_lexer": "ipython3",
   "version": "3.7.4"
  }
 },
 "nbformat": 4,
 "nbformat_minor": 2
}
