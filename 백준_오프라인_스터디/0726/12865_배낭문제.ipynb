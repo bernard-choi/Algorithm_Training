{
 "cells": [
  {
   "cell_type": "code",
   "execution_count": 2,
   "metadata": {},
   "outputs": [
    {
     "name": "stdout",
     "output_type": "stream",
     "text": [
      "4 7\n",
      "6 13\n",
      "4 8\n",
      "3 6\n",
      "5 12\n"
     ]
    }
   ],
   "source": [
    "a, b = map(int,input().split())\n",
    "matrix = []\n",
    "for i in range(a):\n",
    "    matrix.append(list(map(int,input().split())))\n",
    "    \n",
    "d = [[0]*(b+1) for _ in range(a+1)]\n",
    "\n",
    "for i in range(1,a+1):\n",
    "    for j in range(1,b+1):\n",
    "        if matrix[i-1][0] <= j:\n",
    "            d[i][j] = max(d[i-1][j], matrix[i-1][1]+ d[i-1][j-matrix[i-1][0]])\n",
    "        else:\n",
    "            d[i][j] = d[i-1][j]\n",
    "            \n",
    "print(d[-1][-1])"
   ]
  },
  {
   "cell_type": "code",
   "execution_count": 27,
   "metadata": {},
   "outputs": [
    {
     "name": "stdout",
     "output_type": "stream",
     "text": [
      "14\n"
     ]
    }
   ],
   "source": [
    "print(d[-1][-1])"
   ]
  }
 ],
 "metadata": {
  "kernelspec": {
   "display_name": "Python 3",
   "language": "python",
   "name": "python3"
  },
  "language_info": {
   "codemirror_mode": {
    "name": "ipython",
    "version": 3
   },
   "file_extension": ".py",
   "mimetype": "text/x-python",
   "name": "python",
   "nbconvert_exporter": "python",
   "pygments_lexer": "ipython3",
   "version": "3.7.4"
  }
 },
 "nbformat": 4,
 "nbformat_minor": 2
}
