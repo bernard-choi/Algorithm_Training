{
 "cells": [
  {
   "cell_type": "code",
   "execution_count": 231,
   "metadata": {},
   "outputs": [],
   "source": [
    "def solution(s):   ## aabbaccc\n",
    "    answer = []\n",
    "    \n",
    "    if len(s) == 1:\n",
    "        return 1\n",
    "        \n",
    "    \n",
    "\n",
    "    \n",
    "    for i in range(1,len(s)//2+1):\n",
    "\n",
    "        stack = []\n",
    "        how_many = 1\n",
    "        new_s = ''\n",
    "\n",
    "        for j in range(len(s)//i+1):\n",
    "            stack.append(s[i*j:i*(j+1)])\n",
    "\n",
    "              \n",
    "            if len(stack) >= 2:\n",
    "\n",
    "                if (stack[-1] != stack[-2]):\n",
    "\n",
    "                    if how_many >= 2:\n",
    "\n",
    "                        new_s += str(how_many)\n",
    "                        new_s += ''.join(stack[len(stack)-2:len(stack)-1])\n",
    "                        stack = stack[len(stack)-1:] ## 마지막 값만 남기고 제거\n",
    "                        how_many = 1\n",
    "\n",
    "                    else:\n",
    "\n",
    "                        new_s += ''.join(stack[len(stack)-2:len(stack)-1])\n",
    "                        stack = stack[len(stack)-1:]\n",
    "                        how_many = 1\n",
    "\n",
    "\n",
    "\n",
    "                else:\n",
    "                    how_many += 1\n",
    "\n",
    "        if stack:\n",
    "            if how_many >= 2:\n",
    "                new_s += str(how_many)\n",
    "                new_s += ''.join(stack[len(stack)-1])\n",
    "            else:\n",
    "                \n",
    "                new_s += ''.join(stack[len(stack)-1])\n",
    "                                    \n",
    "                    \n",
    "            \n",
    "\n",
    "               \n",
    "        answer += [new_s]\n",
    "        new_answer = [len(x) for x in answer]\n",
    "        \n",
    "        \n",
    "    return min(new_answer)\n"
   ]
  },
  {
   "cell_type": "code",
   "execution_count": 232,
   "metadata": {},
   "outputs": [
    {
     "data": {
      "text/plain": [
       "1"
      ]
     },
     "execution_count": 232,
     "metadata": {},
     "output_type": "execute_result"
    }
   ],
   "source": [
    "solution('a')"
   ]
  },
  {
   "cell_type": "code",
   "execution_count": 36,
   "metadata": {},
   "outputs": [],
   "source": [
    "s1 = \"aabbaccc\"\n",
    "s2 = \"ababcdcdababcdcd\"\n",
    "s3 = \"abcabcdede\"\n",
    "s4 = \"abcabcabcabcdededededede\"\n",
    "s5 = \"xababcdcdababcdcd\""
   ]
  },
  {
   "cell_type": "code",
   "execution_count": null,
   "metadata": {},
   "outputs": [],
   "source": [
    "111111111"
   ]
  },
  {
   "cell_type": "code",
   "execution_count": 32,
   "metadata": {},
   "outputs": [],
   "source": [
    "s = ['1','2','3','4']"
   ]
  },
  {
   "cell_type": "code",
   "execution_count": 34,
   "metadata": {},
   "outputs": [
    {
     "data": {
      "text/plain": [
       "'1234'"
      ]
     },
     "execution_count": 34,
     "metadata": {},
     "output_type": "execute_result"
    }
   ],
   "source": [
    "''.join(s)"
   ]
  },
  {
   "cell_type": "code",
   "execution_count": 13,
   "metadata": {},
   "outputs": [
    {
     "data": {
      "text/plain": [
       "[1, 2, 3, 4]"
      ]
     },
     "execution_count": 13,
     "metadata": {},
     "output_type": "execute_result"
    }
   ],
   "source": [
    "s"
   ]
  },
  {
   "cell_type": "code",
   "execution_count": 23,
   "metadata": {},
   "outputs": [
    {
     "data": {
      "text/plain": [
       "'aaaa'"
      ]
     },
     "execution_count": 23,
     "metadata": {},
     "output_type": "execute_result"
    }
   ],
   "source": [
    "'aa'*2"
   ]
  },
  {
   "cell_type": "code",
   "execution_count": 55,
   "metadata": {},
   "outputs": [
    {
     "data": {
      "text/plain": [
       "['4']"
      ]
     },
     "execution_count": 55,
     "metadata": {},
     "output_type": "execute_result"
    }
   ],
   "source": [
    "s[len(s)-1:]"
   ]
  },
  {
   "cell_type": "code",
   "execution_count": 144,
   "metadata": {},
   "outputs": [],
   "source": [
    "aa = ['ac', 'cc']"
   ]
  },
  {
   "cell_type": "code",
   "execution_count": 147,
   "metadata": {},
   "outputs": [
    {
     "data": {
      "text/plain": [
       "['cc']"
      ]
     },
     "execution_count": 147,
     "metadata": {},
     "output_type": "execute_result"
    }
   ],
   "source": [
    "aa[len(aa)-1:]"
   ]
  },
  {
   "cell_type": "code",
   "execution_count": 156,
   "metadata": {},
   "outputs": [],
   "source": [
    "aa = '999'"
   ]
  },
  {
   "cell_type": "code",
   "execution_count": 157,
   "metadata": {},
   "outputs": [
    {
     "data": {
      "text/plain": [
       "'99'"
      ]
     },
     "execution_count": 157,
     "metadata": {},
     "output_type": "execute_result"
    }
   ],
   "source": [
    "aa[:-1]"
   ]
  },
  {
   "cell_type": "code",
   "execution_count": null,
   "metadata": {},
   "outputs": [],
   "source": []
  }
 ],
 "metadata": {
  "kernelspec": {
   "display_name": "Python 3",
   "language": "python",
   "name": "python3"
  },
  "language_info": {
   "codemirror_mode": {
    "name": "ipython",
    "version": 3
   },
   "file_extension": ".py",
   "mimetype": "text/x-python",
   "name": "python",
   "nbconvert_exporter": "python",
   "pygments_lexer": "ipython3",
   "version": "3.7.4"
  }
 },
 "nbformat": 4,
 "nbformat_minor": 2
}
