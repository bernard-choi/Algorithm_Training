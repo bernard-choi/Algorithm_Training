{
 "cells": [
  {
   "cell_type": "code",
   "execution_count": 93,
   "metadata": {},
   "outputs": [
    {
     "name": "stdout",
     "output_type": "stream",
     "text": [
      "3\n",
      "2\n",
      "2\n",
      "2\n",
      "3\n"
     ]
    }
   ],
   "source": [
    "import sys\n",
    "read = lambda : sys.stdin.readline().strip()\n",
    "\n",
    "## int(input()) 으로 풀면 시간초과뜸\n",
    "## (value, count)로 스택 만들어서 풀어야됨. \n",
    "\n",
    "n = int(read())\n",
    "answer = 0\n",
    "stack = []\n",
    "\n",
    "for i in range(n):\n",
    "    x = int(read())\n",
    "    \n",
    "            \n",
    "    while stack and stack[-1][0] < x:\n",
    "        \n",
    "        ## 끝 값보다 더 큰수가 들어왔을때 그 큰수보다 작은 애들을 차례대로 빼준다.\n",
    "        ## answer 에 빠지는 애들만큼 더해줌\n",
    "       \n",
    "        \n",
    "        answer += stack.pop()[1]\n",
    "            \n",
    "    if stack and stack[-1][0] == x:\n",
    "        \n",
    "        ## 같은 경우에는 cnt만큼 answer에 더해주고\n",
    "        ## cnt + 1로 대체해준다\n",
    "        ## 이때 스택이 남아있으면 answer += 1\n",
    "        \n",
    "        cnt = stack.pop()[1]\n",
    "        answer += cnt\n",
    "        \n",
    "        if len(stack) !=0:\n",
    "            answer += 1\n",
    "            \n",
    "        stack.append((x,cnt+1))\n",
    "    \n",
    "    else:\n",
    "        if len(stack) != 0:\n",
    "            answer += 1\n",
    "        stack.append((x,1))\n",
    "        \n",
    "## (1) 처음들어오는 수(stack이 비었을때) (2) 더 작은 수가 나왔을때  (x,1) 추가\n",
    "            \n",
    "print(answer)\n",
    "\n",
    "        "
   ]
  }
 ],
 "metadata": {
  "kernelspec": {
   "display_name": "Python 3",
   "language": "python",
   "name": "python3"
  },
  "language_info": {
   "codemirror_mode": {
    "name": "ipython",
    "version": 3
   },
   "file_extension": ".py",
   "mimetype": "text/x-python",
   "name": "python",
   "nbconvert_exporter": "python",
   "pygments_lexer": "ipython3",
   "version": "3.7.4"
  }
 },
 "nbformat": 4,
 "nbformat_minor": 2
}
