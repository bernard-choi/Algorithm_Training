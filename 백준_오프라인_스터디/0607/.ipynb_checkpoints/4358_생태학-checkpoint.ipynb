{
 "cells": [
  {
   "cell_type": "code",
   "execution_count": 11,
   "metadata": {},
   "outputs": [
    {
     "name": "stdout",
     "output_type": "stream",
     "text": [
      "Red Alder Ash Aspen Basswood\n"
     ]
    }
   ],
   "source": [
    "import sys\n",
    "\n",
    "sajun = {}\n",
    "\n",
    "data = sys.stdin.read()\n",
    "tree = data.split('\\n')\n",
    "T_all = 0\n",
    "for t in tree:\n",
    "    if t != '':\n",
    "        T_all +=1\n",
    "        sajun[t] = sajun.get(t,0) + 1\n",
    "    \n",
    "\n",
    "\n",
    "\n",
    "sajun = sorted(sajun.items())\n",
    "\n",
    "for t,v in sajun:\n",
    "    print(\"%s %.4f\"%(t,v/T_all*100))\n",
    "\n",
    "\n",
    "\n",
    "\n"
   ]
  }
 ],
 "metadata": {
  "kernelspec": {
   "display_name": "Python 3",
   "language": "python",
   "name": "python3"
  },
  "language_info": {
   "codemirror_mode": {
    "name": "ipython",
    "version": 3
   },
   "file_extension": ".py",
   "mimetype": "text/x-python",
   "name": "python",
   "nbconvert_exporter": "python",
   "pygments_lexer": "ipython3",
   "version": "3.7.6"
  }
 },
 "nbformat": 4,
 "nbformat_minor": 2
}
