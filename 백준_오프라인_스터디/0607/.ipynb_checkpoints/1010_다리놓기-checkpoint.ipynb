{
 "cells": [
  {
   "cell_type": "code",
   "execution_count": 45,
   "metadata": {},
   "outputs": [
    {
     "name": "stdout",
     "output_type": "stream",
     "text": [
      "3\n",
      "2 2\n",
      "1\n",
      "1 5\n",
      "5\n",
      "13 29\n",
      "67863915\n"
     ]
    }
   ],
   "source": [
    "def solution(a,b):\n",
    "    init = 1\n",
    "    for i in range(a):\n",
    "        init *= (b-i)\n",
    "\n",
    "    init2 = 1\n",
    "    for j in range(a):\n",
    "        init2 *= (j+1)\n",
    "        \n",
    "    return int(init/init2)\n",
    "\n",
    "n = int(input())\n",
    "for i in range(n):\n",
    "    a,b = map(int,input().split())\n",
    "    print(solution(a,b))"
   ]
  }
 ],
 "metadata": {
  "kernelspec": {
   "display_name": "Python 3",
   "language": "python",
   "name": "python3"
  },
  "language_info": {
   "codemirror_mode": {
    "name": "ipython",
    "version": 3
   },
   "file_extension": ".py",
   "mimetype": "text/x-python",
   "name": "python",
   "nbconvert_exporter": "python",
   "pygments_lexer": "ipython3",
   "version": "3.7.6"
  }
 },
 "nbformat": 4,
 "nbformat_minor": 2
}
