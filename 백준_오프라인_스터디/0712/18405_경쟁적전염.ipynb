{
 "cells": [
  {
   "cell_type": "code",
   "execution_count": 64,
   "metadata": {
    "scrolled": true
   },
   "outputs": [
    {
     "name": "stdout",
     "output_type": "stream",
     "text": [
      "4 4\n",
      "1 0 0 0\n",
      "0 0 0 2\n",
      "0 0 3 0\n",
      "0 0 0 0\n",
      "3 1 1\n",
      "[[1, 1, 0, 0], [0, 0, 0, 2], [0, 0, 3, 0], [0, 0, 0, 0]]\n",
      "[[1, 1, 0, 0], [1, 0, 0, 2], [0, 0, 3, 0], [0, 0, 0, 0]]\n",
      "[[1, 1, 0, 0], [1, 0, 2, 2], [0, 0, 3, 0], [0, 0, 0, 0]]\n",
      "[[1, 1, 0, 0], [1, 0, 2, 2], [0, 0, 3, 2], [0, 0, 0, 0]]\n",
      "[[1, 1, 0, 2], [1, 0, 2, 2], [0, 0, 3, 2], [0, 0, 0, 0]]\n",
      "[[1, 1, 0, 2], [1, 0, 2, 2], [0, 3, 3, 2], [0, 0, 0, 0]]\n",
      "[[1, 1, 0, 2], [1, 0, 2, 2], [0, 3, 3, 2], [0, 0, 3, 0]]\n",
      "[[1, 1, 1, 2], [1, 0, 2, 2], [0, 3, 3, 2], [0, 0, 3, 0]]\n",
      "[[1, 1, 1, 2], [1, 1, 2, 2], [0, 3, 3, 2], [0, 0, 3, 0]]\n",
      "[[1, 1, 1, 2], [1, 1, 2, 2], [1, 3, 3, 2], [0, 0, 3, 0]]\n",
      "[[1, 1, 1, 2], [1, 1, 2, 2], [1, 3, 3, 2], [0, 0, 3, 2]]\n",
      "[[1, 1, 1, 2], [1, 1, 2, 2], [1, 3, 3, 2], [0, 3, 3, 2]]\n",
      "[[1, 1, 1, 2], [1, 1, 2, 2], [1, 3, 3, 2], [1, 3, 3, 2]]\n",
      "1\n"
     ]
    }
   ],
   "source": [
    "## 시간초과\n",
    "\n",
    "N,K = map(int,input().split())\n",
    "matrix = []\n",
    "for i in range(N):\n",
    "    matrix.append(list(map(int,input().split())))\n",
    "    \n",
    "S,a,b = map(int,input().split())\n",
    "\n",
    "def bfs(matrix,S,a,b):\n",
    "    \n",
    "    dx = [0,0,1,-1]\n",
    "    dy = [1,-1,0,0]\n",
    "    \n",
    "    queue_matrix = [[]*S for _ in range(S+1)]\n",
    "    \n",
    "    answer = 0\n",
    "    visited = []\n",
    "    start_point = []\n",
    "    \n",
    "    \n",
    "    for i in range(N):\n",
    "        for j in range(N):\n",
    "            if matrix[i][j] != 0:\n",
    "                start_point.append([i,j,matrix[i][j]])\n",
    "                visited.append([i,j])\n",
    "\n",
    "    start_point_sorted = sorted(start_point,key = (lambda x: x[2]))\n",
    "\n",
    "    for i in range(len(start_point)):\n",
    "        queue_matrix[0].append(start_point_sorted[i])\n",
    "\n",
    "    for i in range(S):\n",
    "        if len(visited) == N*N:\n",
    "            break\n",
    "        while queue_matrix[i]:\n",
    "            point = queue_matrix[i].pop(0)\n",
    "            for j in range(4):\n",
    "                nx,ny = point[0] + dx[j], point[1] + dy[j]\n",
    "                if (0 <= nx < N) and (0 <= ny < N) and (matrix[nx][ny] == 0):\n",
    "                    if ([nx,ny] not in visited):\n",
    "                        queue_matrix[i+1].append([nx,ny,point[2]])\n",
    "                        visited.append([nx,ny])\n",
    "                        matrix[nx][ny] = point[2]\n",
    "                        print(matrix)\n",
    "\n",
    "    return matrix[a-1][b-1]\n",
    "    \n",
    "print(bfs(matrix,S,a,b))"
   ]
  }
 ],
 "metadata": {
  "kernelspec": {
   "display_name": "Python 3",
   "language": "python",
   "name": "python3"
  },
  "language_info": {
   "codemirror_mode": {
    "name": "ipython",
    "version": 3
   },
   "file_extension": ".py",
   "mimetype": "text/x-python",
   "name": "python",
   "nbconvert_exporter": "python",
   "pygments_lexer": "ipython3",
   "version": "3.7.6"
  }
 },
 "nbformat": 4,
 "nbformat_minor": 2
}
