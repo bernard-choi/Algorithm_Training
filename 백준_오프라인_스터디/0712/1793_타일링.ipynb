{
 "cells": [
  {
   "cell_type": "code",
   "execution_count": 28,
   "metadata": {},
   "outputs": [],
   "source": [
    "from sys import stdin\n",
    "\n",
    "d = [0] * 253\n",
    "\n",
    "d[0] = 1 ## 아무것도 안넣는것도 하나의 방법\n",
    "d[1] = 1\n",
    "d[2] = 3\n",
    "\n",
    "for i in range(3,252):\n",
    "    d[i] = d[i-2]*2 + d[i-1]\n",
    "    \n",
    "for n in map(int,stdin.read().split()):\n",
    "    print(d[n])"
   ]
  }
 ],
 "metadata": {
  "kernelspec": {
   "display_name": "Python 3",
   "language": "python",
   "name": "python3"
  },
  "language_info": {
   "codemirror_mode": {
    "name": "ipython",
    "version": 3
   },
   "file_extension": ".py",
   "mimetype": "text/x-python",
   "name": "python",
   "nbconvert_exporter": "python",
   "pygments_lexer": "ipython3",
   "version": "3.7.4"
  }
 },
 "nbformat": 4,
 "nbformat_minor": 2
}
