{
 "cells": [
  {
   "cell_type": "code",
   "execution_count": 109,
   "metadata": {},
   "outputs": [
    {
     "name": "stdout",
     "output_type": "stream",
     "text": [
      "4\n",
      "3 3\n",
      "Dehet YeonJwaJe ^~^\n",
      "None\n"
     ]
    }
   ],
   "source": [
    "n = int(input())\n",
    "a,k = map(int,input().split())\n",
    "\n",
    "def move(n,a,k): ## n: 휘수의 위치, k: 차례\n",
    "    \n",
    "    array_list = [x for x in range(1,2*n+1)]\n",
    "    \n",
    "    arm = [x for x in range(1,len(array_list))] + [x for x in range(len(array_list),1,-1)]\n",
    "\n",
    "    start_index = 0\n",
    "    \n",
    "    for i in range(k-1):\n",
    "        index = i % len(arm)\n",
    "        arm_index = arm[index]\n",
    "        start_index += arm_index ## 마지막이 차례가 중요\n",
    "        \n",
    "    start_index = start_index % len(array_list) ## 마지막 start_index\n",
    "    last_index = (k-1) % len(arm)\n",
    "    arm_last_index = arm[last_index]\n",
    "\n",
    "      \n",
    "    my_list = []\n",
    "    \n",
    "    for i in range(arm_last_index):\n",
    "        new_index = (start_index + i) % len(array_list)\n",
    "        my_list.append(array_list[new_index])\n",
    "        \n",
    "\n",
    "    if ((2*a-1) in my_list) or ((2*a) in my_list): ## 휘수가 손을 든 경우\n",
    "        new = [x for x in my_list if x not in [2*a-1,2*a]] ## 휘수 외에 다른 사람이 손들었는지 체크\n",
    "        if len(new) > 0:\n",
    "            print('Dehet YeonJwaJe ^~^')\n",
    "            \n",
    "        else: \n",
    "            print('Hing...NoJam')\n",
    "            \n",
    "    else: ## 아예 휘수가 손을 안들었을 경우\n",
    "        print('Hing...NoJam')\n",
    "    \n",
    "        \n",
    "        \n",
    "print(move(n,a,k))   "
   ]
  }
 ],
 "metadata": {
  "kernelspec": {
   "display_name": "Python 3",
   "language": "python",
   "name": "python3"
  },
  "language_info": {
   "codemirror_mode": {
    "name": "ipython",
    "version": 3
   },
   "file_extension": ".py",
   "mimetype": "text/x-python",
   "name": "python",
   "nbconvert_exporter": "python",
   "pygments_lexer": "ipython3",
   "version": "3.7.6"
  }
 },
 "nbformat": 4,
 "nbformat_minor": 2
}
