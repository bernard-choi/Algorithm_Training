{
 "cells": [
  {
   "cell_type": "code",
   "execution_count": 231,
   "metadata": {},
   "outputs": [
    {
     "name": "stdout",
     "output_type": "stream",
     "text": [
      "7 3\n",
      "2 0 0 0 1 1 0\n",
      "0 0 1 0 1 2 0\n",
      "0 1 1 0 1 0 0\n",
      "0 1 0 0 0 0 0\n",
      "0 0 0 2 0 1 1\n",
      "0 1 0 0 0 0 0\n",
      "2 1 0 0 0 0 2\n",
      "4\n"
     ]
    }
   ],
   "source": [
    "from itertools import combinations\n",
    "from copy import deepcopy\n",
    "import sys\n",
    "from collections import deque\n",
    "\n",
    "a,b = map(int,input().split())\n",
    "\n",
    "matrix = []\n",
    "for i in range(a):\n",
    "    matrix.append(list(map(int,sys.stdin.readline().split())))\n",
    "   \n",
    "\n",
    "start_point = []\n",
    "\n",
    "for i in range(a):\n",
    "    for j in range(a):\n",
    "        if matrix[i][j] == 2:\n",
    "            start_point.append([i,j,0])\n",
    "\n",
    "def checks(maps):\n",
    "    for x in range(a):\n",
    "        for y in range(a):\n",
    "            if maps[x][y] == 0:\n",
    "                return -1\n",
    "            \n",
    "    return 0\n",
    "\n",
    "\n",
    "            \n",
    "start_point_list = list(combinations(start_point,b))       \n",
    "\n",
    "dx = [0,0,1,-1]\n",
    "dy = [1,-1,0,0]\n",
    "\n",
    "\n",
    "m = sys.maxsize\n",
    "\n",
    "for i in range(len(start_point_list)):\n",
    "    stop = False\n",
    "    ## 확산속도를 넘어가면 더이상 계산하지 않고 끝냄\n",
    "\n",
    "\n",
    "    maps = deepcopy(matrix)\n",
    "    visited = [[0 for _ in range(len(maps))] for _ in range(len(maps))]\n",
    "    queue = deque()\n",
    "\n",
    "\n",
    "    for k in range(b):\n",
    "        queue.append(start_point_list[i][k])\n",
    "\n",
    "    last_change = 0\n",
    "    \n",
    "    while queue:\n",
    "        point = queue.popleft()\n",
    "        if stop == True: \n",
    "            break\n",
    "        \n",
    "        for l in range(4):\n",
    "            nx = point[0] + dx[l]\n",
    "            ny = point[1] + dy[l]\n",
    "            cnt = point[2]\n",
    "\n",
    "            \n",
    "            \n",
    "            if (0 <= nx < a) & (0 <= ny < a):\n",
    "                    if visited[nx][ny] == 0:\n",
    "                        if maps[nx][ny] != 1:\n",
    "                            if maps[nx][ny] != 2:\n",
    "                                maps[nx][ny] = 2\n",
    "                                last_change = cnt + 1\n",
    "                                if last_change > m:\n",
    "                                    stop = True\n",
    "                                visited[nx][ny] = 1\n",
    "                                queue.append([nx,ny,last_change])\n",
    "                                \n",
    "\n",
    "    if stop == True:\n",
    "        continue\n",
    "        \n",
    "    val = checks(maps)\n",
    "    \n",
    "    if val != -1:\n",
    "        if m > last_change:\n",
    "            m = last_change\n",
    "\n",
    "            \n",
    "            \n",
    "        \n",
    "if m == sys.maxsize:\n",
    "    print(-1)\n",
    "    \n",
    "else:\n",
    "    print(m)\n",
    "        \n",
    "\n",
    "        \n",
    "    \n",
    "        \n",
    "        \n"
   ]
  },
  {
   "cell_type": "markdown",
   "metadata": {},
   "source": [
    "### start_point"
   ]
  },
  {
   "cell_type": "code",
   "execution_count": 180,
   "metadata": {},
   "outputs": [],
   "source": [
    "aaa = [[0, 0], [1, 5], [4, 3]]"
   ]
  },
  {
   "cell_type": "code",
   "execution_count": 183,
   "metadata": {},
   "outputs": [],
   "source": [
    "for i in range(3):\n",
    "    aaa[i] += [0]"
   ]
  },
  {
   "cell_type": "code",
   "execution_count": 184,
   "metadata": {},
   "outputs": [
    {
     "data": {
      "text/plain": [
       "[[0, 0, 0], [1, 5, 0], [4, 3, 0]]"
      ]
     },
     "execution_count": 184,
     "metadata": {},
     "output_type": "execute_result"
    }
   ],
   "source": [
    "aaa"
   ]
  },
  {
   "cell_type": "code",
   "execution_count": 191,
   "metadata": {},
   "outputs": [
    {
     "data": {
      "text/plain": [
       "[([0, 0], [1, 5], [4, 3]),\n",
       " ([0, 0], [1, 5], [6, 0]),\n",
       " ([0, 0], [1, 5], [6, 6]),\n",
       " ([0, 0], [4, 3], [6, 0]),\n",
       " ([0, 0], [4, 3], [6, 6]),\n",
       " ([0, 0], [6, 0], [6, 6]),\n",
       " ([1, 5], [4, 3], [6, 0]),\n",
       " ([1, 5], [4, 3], [6, 6]),\n",
       " ([1, 5], [6, 0], [6, 6]),\n",
       " ([4, 3], [6, 0], [6, 6])]"
      ]
     },
     "execution_count": 191,
     "metadata": {},
     "output_type": "execute_result"
    }
   ],
   "source": [
    "start_point_list"
   ]
  },
  {
   "cell_type": "code",
   "execution_count": 188,
   "metadata": {},
   "outputs": [
    {
     "data": {
      "text/plain": [
       "[[0, 0, 0, 0, 0, 0, 0, 0],\n",
       " [1, 5, 0, 0, 0, 0, 0, 0],\n",
       " [4, 3, 0, 0, 0, 0, 0, 0],\n",
       " [6, 0, 0, 0, 0, 0, 0, 0],\n",
       " [6, 6, 0, 0, 0, 0, 0, 0]]"
      ]
     },
     "execution_count": 188,
     "metadata": {},
     "output_type": "execute_result"
    }
   ],
   "source": [
    "start_point"
   ]
  },
  {
   "cell_type": "code",
   "execution_count": 216,
   "metadata": {},
   "outputs": [
    {
     "data": {
      "text/plain": [
       "8"
      ]
     },
     "execution_count": 216,
     "metadata": {},
     "output_type": "execute_result"
    }
   ],
   "source": [
    "last_change"
   ]
  },
  {
   "cell_type": "code",
   "execution_count": null,
   "metadata": {},
   "outputs": [],
   "source": []
  }
 ],
 "metadata": {
  "kernelspec": {
   "display_name": "Python 3",
   "language": "python",
   "name": "python3"
  },
  "language_info": {
   "codemirror_mode": {
    "name": "ipython",
    "version": 3
   },
   "file_extension": ".py",
   "mimetype": "text/x-python",
   "name": "python",
   "nbconvert_exporter": "python",
   "pygments_lexer": "ipython3",
   "version": "3.7.4"
  }
 },
 "nbformat": 4,
 "nbformat_minor": 2
}
