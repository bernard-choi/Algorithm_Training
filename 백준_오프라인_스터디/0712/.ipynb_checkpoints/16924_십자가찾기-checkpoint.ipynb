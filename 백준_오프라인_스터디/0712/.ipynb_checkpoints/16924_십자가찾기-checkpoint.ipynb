{
 "cells": [
  {
   "cell_type": "code",
   "execution_count": 104,
   "metadata": {},
   "outputs": [
    {
     "name": "stdout",
     "output_type": "stream",
     "text": [
      "1 1 1\n",
      "1\n"
     ]
    }
   ],
   "source": [
    "a,b,c = list(map(int,input().split()))\n",
    "matrix = [[0 for _ in range(b)] for _ in range(a)]\n",
    "\n",
    "def short_way(a,b):\n",
    "    matrix = [[0 for _ in range(b)] for _ in range(a)]\n",
    "    matrix[0]  = [1]* b\n",
    "    \n",
    "    for i in range(a):\n",
    "        matrix[i][0] = 1\n",
    "        \n",
    "    for i in range(1,a):\n",
    "        for j in  range(1,b):\n",
    "            matrix[i][j] = matrix[i-1][j] + matrix[i][j-1]\n",
    "            \n",
    "    return matrix[a-1][b-1]\n",
    "\n",
    "if c == 0:\n",
    "    answer = short_way(a,b)\n",
    "    print(answer)\n",
    "    \n",
    "else:\n",
    "    index = [(c-1)//b,(c-1)%b]\n",
    "    a1 = index[0]+1\n",
    "    b1 = index[1]+1\n",
    "    a2 = a - index[0]\n",
    "    b2 = b - index[1]\n",
    "    answer1 = short_way(a1,b1) \n",
    "    answer2 = short_way(a2,b2)\n",
    "    print(answer1 * answer2)"
   ]
  }
 ],
 "metadata": {
  "kernelspec": {
   "display_name": "Python 3",
   "language": "python",
   "name": "python3"
  },
  "language_info": {
   "codemirror_mode": {
    "name": "ipython",
    "version": 3
   },
   "file_extension": ".py",
   "mimetype": "text/x-python",
   "name": "python",
   "nbconvert_exporter": "python",
   "pygments_lexer": "ipython3",
   "version": "3.7.6"
  }
 },
 "nbformat": 4,
 "nbformat_minor": 2
}
