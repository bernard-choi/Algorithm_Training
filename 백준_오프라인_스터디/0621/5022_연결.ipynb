{
 "cells": [
  {
   "cell_type": "code",
   "execution_count": 10,
   "metadata": {},
   "outputs": [
    {
     "name": "stdout",
     "output_type": "stream",
     "text": [
      "6 6\n",
      "2 1\n",
      "5 4\n",
      "4 0\n",
      "4 5\n"
     ]
    }
   ],
   "source": [
    "a,b = map(int,input().split())\n",
    "A1 = list(map(int,input().split()))\n",
    "A2 = list(map(int,input().split()))\n",
    "B1 = list(map(int,input().split()))\n",
    "B2 = list(map(int,input().split()))"
   ]
  },
  {
   "cell_type": "code",
   "execution_count": 11,
   "metadata": {},
   "outputs": [
    {
     "data": {
      "text/plain": [
       "[4, 0]"
      ]
     },
     "execution_count": 11,
     "metadata": {},
     "output_type": "execute_result"
    }
   ],
   "source": [
    "B1"
   ]
  },
  {
   "cell_type": "code",
   "execution_count": 55,
   "metadata": {},
   "outputs": [],
   "source": [
    "## bfs총 2번 진행\n",
    "## A -> B\n",
    "\n",
    "dx = [0,0,1,-1]\n",
    "dy = [1,-1,0,0]\n",
    "\n",
    "matrix = [[0]*(a+1) for _ in range(b+1)]\n",
    "matrix[B1[1]][B1[0]] = 1\n",
    "matrix[B1[1]][B1[0]] = 1\n",
    "\n",
    "dist = [[0]*(a+1) for _ in range(b+1)]\n",
    "\n",
    "\n",
    "def bfs(A1):\n",
    "    queue = []\n",
    "    visited = []\n",
    "    queue.append([A1[1],A1[0]]) ## 시작점\n",
    "    visited.append([A1[1],A1[0]])\n",
    "    dist[A1[1]][A1[0]] = 0\n",
    "\n",
    "    while queue:\n",
    "        n = queue.pop(0)\n",
    "        ## 1,2\n",
    "        for i in range(4):\n",
    "            nx = n[0] + dx[i]\n",
    "            ny = n[1] + dy[i]\n",
    "            if (0<= nx <= a) & (0<= ny <=b):\n",
    "                if [nx,ny] not in visited:\n",
    "                    visited.append([nx,ny])\n",
    "                    queue.append([nx,ny])\n",
    "                    dist[nx][ny] = dist[n[0]][n[1]] + 1\n",
    "\n",
    "                    \n",
    "        \n",
    "bfs(A1)        \n",
    "        "
   ]
  },
  {
   "cell_type": "code",
   "execution_count": 56,
   "metadata": {},
   "outputs": [
    {
     "data": {
      "text/plain": [
       "6"
      ]
     },
     "execution_count": 56,
     "metadata": {},
     "output_type": "execute_result"
    }
   ],
   "source": [
    "dist[A2[1]][A2[0]]"
   ]
  },
  {
   "cell_type": "code",
   "execution_count": 57,
   "metadata": {},
   "outputs": [
    {
     "data": {
      "text/plain": [
       "[[3, 2, 1, 2, 3, 4, 5],\n",
       " [2, 1, 0, 1, 2, 3, 4],\n",
       " [3, 2, 1, 2, 3, 4, 5],\n",
       " [4, 3, 2, 3, 4, 5, 6],\n",
       " [5, 4, 3, 4, 5, 6, 7],\n",
       " [6, 5, 4, 5, 6, 7, 8],\n",
       " [7, 6, 5, 6, 7, 8, 9]]"
      ]
     },
     "execution_count": 57,
     "metadata": {},
     "output_type": "execute_result"
    }
   ],
   "source": [
    "dist"
   ]
  },
  {
   "cell_type": "code",
   "execution_count": 97,
   "metadata": {},
   "outputs": [],
   "source": [
    "paths = []\n",
    "def find_short(start,i,route):\n",
    "    if i == 0:\n",
    "        paths.append(route)\n",
    "    for j in range(4):\n",
    "        nx = start[0] + dx[j]\n",
    "        ny = start[1] + dy[j]\n",
    "        if (0<= nx <= a) & (0<= ny <= b):\n",
    "            if dist[nx][ny] == i-1:\n",
    "                route = route + [[nx,ny]]\n",
    "                find_short([nx,ny],i-1,route)"
   ]
  },
  {
   "cell_type": "code",
   "execution_count": 98,
   "metadata": {},
   "outputs": [],
   "source": [
    "find_short([4,5],6,[])"
   ]
  },
  {
   "cell_type": "code",
   "execution_count": 99,
   "metadata": {},
   "outputs": [
    {
     "data": {
      "text/plain": [
       "[[[4, 4], [4, 3], [4, 2], [3, 2], [2, 2], [1, 2]],\n",
       " [[4, 4], [4, 3], [4, 2], [3, 3], [3, 2], [2, 2], [1, 2]],\n",
       " [[4, 4], [4, 3], [4, 2], [3, 3], [3, 2], [2, 3], [2, 2], [1, 2]],\n",
       " [[4, 4], [4, 3], [4, 2], [3, 3], [3, 2], [2, 3], [2, 2], [1, 3], [1, 2]],\n",
       " [[4, 4], [4, 3], [3, 4], [3, 3], [3, 2], [2, 2], [1, 2]],\n",
       " [[4, 4], [4, 3], [3, 4], [3, 3], [3, 2], [2, 3], [2, 2], [1, 2]],\n",
       " [[4, 4], [4, 3], [3, 4], [3, 3], [3, 2], [2, 3], [2, 2], [1, 3], [1, 2]],\n",
       " [[4, 4], [4, 3], [3, 4], [3, 3], [2, 4], [2, 3], [2, 2], [1, 2]],\n",
       " [[4, 4], [4, 3], [3, 4], [3, 3], [2, 4], [2, 3], [2, 2], [1, 3], [1, 2]],\n",
       " [[4, 4], [4, 3], [3, 4], [3, 3], [2, 4], [2, 3], [1, 4], [1, 3], [1, 2]],\n",
       " [[4, 4], [3, 5], [3, 4], [3, 3], [3, 2], [2, 2], [1, 2]],\n",
       " [[4, 4], [3, 5], [3, 4], [3, 3], [3, 2], [2, 3], [2, 2], [1, 2]],\n",
       " [[4, 4], [3, 5], [3, 4], [3, 3], [3, 2], [2, 3], [2, 2], [1, 3], [1, 2]],\n",
       " [[4, 4], [3, 5], [3, 4], [3, 3], [2, 4], [2, 3], [2, 2], [1, 2]],\n",
       " [[4, 4], [3, 5], [3, 4], [3, 3], [2, 4], [2, 3], [2, 2], [1, 3], [1, 2]],\n",
       " [[4, 4], [3, 5], [3, 4], [3, 3], [2, 4], [2, 3], [1, 4], [1, 3], [1, 2]],\n",
       " [[4, 4], [3, 5], [3, 4], [2, 5], [2, 4], [2, 3], [2, 2], [1, 2]],\n",
       " [[4, 4], [3, 5], [3, 4], [2, 5], [2, 4], [2, 3], [2, 2], [1, 3], [1, 2]],\n",
       " [[4, 4], [3, 5], [3, 4], [2, 5], [2, 4], [2, 3], [1, 4], [1, 3], [1, 2]],\n",
       " [[4, 4], [3, 5], [3, 4], [2, 5], [2, 4], [1, 5], [1, 4], [1, 3], [1, 2]]]"
      ]
     },
     "execution_count": 99,
     "metadata": {},
     "output_type": "execute_result"
    }
   ],
   "source": [
    "paths"
   ]
  },
  {
   "cell_type": "code",
   "execution_count": null,
   "metadata": {},
   "outputs": [],
   "source": []
  }
 ],
 "metadata": {
  "kernelspec": {
   "display_name": "Python 3",
   "language": "python",
   "name": "python3"
  },
  "language_info": {
   "codemirror_mode": {
    "name": "ipython",
    "version": 3
   },
   "file_extension": ".py",
   "mimetype": "text/x-python",
   "name": "python",
   "nbconvert_exporter": "python",
   "pygments_lexer": "ipython3",
   "version": "3.7.4"
  }
 },
 "nbformat": 4,
 "nbformat_minor": 2
}
