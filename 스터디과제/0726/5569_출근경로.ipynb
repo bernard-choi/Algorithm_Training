{
 "cells": [
  {
   "cell_type": "code",
   "execution_count": null,
   "metadata": {},
   "outputs": [],
   "source": [
    "## 동쪽, 북쪽\n",
    "## 교차로를 돈 차량은 그 다음 교차로에서 다시 방향을 바꿀 수 없다. 즉, 교차로에서 방향을 바꾼 후, 1 블록만 이동한 후 다시 방향을 바꿀 수 없다."
   ]
  },
  {
   "cell_type": "code",
   "execution_count": 36,
   "metadata": {},
   "outputs": [
    {
     "name": "stdout",
     "output_type": "stream",
     "text": [
      "3 4\n",
      "5\n"
     ]
    }
   ],
   "source": [
    "## dfs는 시간초과됨\n",
    "# x,y = map(int,input().split())\n",
    "\n",
    "# answer = 0\n",
    "# def do(a,b,x,y,direction,check):\n",
    "#     global answer\n",
    "    \n",
    "#     if check[-1] -= check[-2]:\n",
    "#         check.pop(0)\n",
    "        \n",
    "        \n",
    "            \n",
    "            \n",
    "    \n",
    "#     if (a > x) or (b > y):\n",
    "#         return\n",
    "    \n",
    "#     if (a == x) & (b == y):\n",
    "#         answer += 1\n",
    "#         return\n",
    "\n",
    "    \n",
    "#     do(a+1,b,x,y,'right',check+['right'])\n",
    "#     do(a,b+1,x,y,'up',check+['up'])\n",
    "\n",
    "# do(1,1,x,y,'start',check = [])\n",
    "# print(answer)"
   ]
  },
  {
   "cell_type": "code",
   "execution_count": null,
   "metadata": {},
   "outputs": [],
   "source": [
    "## dp[i][j][0][0] = (dp[i-1][j][0][0] + dp[i-1][j][1][0]) ## right 방향전환 가능\n",
    "## dp[i][j][0][1] = (dp[i][j-1][0][1] + dp[i][j-1][1][1]) ## up  방향전환 가능\n",
    "## dp[i][j][1][0] = dp[i-1][j][0][1] ## up을 해서 [i-1][j] 위치. right\n",
    "## dp[i][j][1][1] = dp[i][j-1][0][0]\n",
    "\n",
    "## i,j는 좌표\n",
    "## 3번째는 방향전환 여부 1: 방향전환함(방향전환불가능) 0: 방향전환안함(방향전환가능)\n",
    "## 4번째는 방향 0: right 1: up"
   ]
  }
 ],
 "metadata": {
  "kernelspec": {
   "display_name": "Python 3",
   "language": "python",
   "name": "python3"
  },
  "language_info": {
   "codemirror_mode": {
    "name": "ipython",
    "version": 3
   },
   "file_extension": ".py",
   "mimetype": "text/x-python",
   "name": "python",
   "nbconvert_exporter": "python",
   "pygments_lexer": "ipython3",
   "version": "3.7.4"
  }
 },
 "nbformat": 4,
 "nbformat_minor": 2
}
