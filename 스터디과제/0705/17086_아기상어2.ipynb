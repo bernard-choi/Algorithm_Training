{
 "cells": [
  {
   "cell_type": "code",
   "execution_count": 20,
   "metadata": {},
   "outputs": [
    {
     "name": "stdout",
     "output_type": "stream",
     "text": [
      "5 4\n",
      "0 0 1 0\n",
      "0 0 0 0\n",
      "1 0 0 0\n",
      "0 0 0 0\n",
      "0 0 0 1\n"
     ]
    }
   ],
   "source": [
    "a,b = map(int,input().split())\n",
    "matrix = []\n",
    "for i in range(a):\n",
    "    matrix.append(list(map(int,input().split())))\n",
    "    \n",
    "point = []\n",
    "for i in range(a):\n",
    "    for j in range(b):\n",
    "        if matrix[i][j]==1:\n",
    "            point.append((i,j))\n",
    "            matrix[i][j] = 0\n",
    "\n",
    "dx = [1,1,1,0,0,-1,-1,-1]\n",
    "dy = [-1,0,1,1,-1,-1,0,1]\n",
    "\n",
    "answer = 0\n",
    "visited = []\n",
    "queue = []\n",
    "for i in range(len(point)):\n",
    "    queue.append(point[i])\n",
    "    visited.append(point[i])\n",
    "\n",
    "while queue:\n",
    "    where = queue.pop(0)\n",
    "    for i in range(8):\n",
    "        nx,ny = where[0] + dx[i], where[1] + dy[i]\n",
    "        \n",
    "        if (0<=nx<a) and (0<=ny<b):\n",
    "            if (nx,ny) not in visited:\n",
    "                queue.append((nx,ny))\n",
    "                visited.append((nx,ny))\n",
    "                matrix[nx][ny] = matrix[where[0]][where[1]] + 1\n",
    "                \n",
    "print(max([y for x in matrix for y in x]))"
   ]
  }
 ],
 "metadata": {
  "kernelspec": {
   "display_name": "Python 3",
   "language": "python",
   "name": "python3"
  },
  "language_info": {
   "codemirror_mode": {
    "name": "ipython",
    "version": 3
   },
   "file_extension": ".py",
   "mimetype": "text/x-python",
   "name": "python",
   "nbconvert_exporter": "python",
   "pygments_lexer": "ipython3",
   "version": "3.7.4"
  }
 },
 "nbformat": 4,
 "nbformat_minor": 2
}
