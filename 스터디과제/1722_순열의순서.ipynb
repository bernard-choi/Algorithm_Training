{
 "cells": [
  {
   "cell_type": "code",
   "execution_count": 4,
   "metadata": {},
   "outputs": [
    {
     "name": "stdout",
     "output_type": "stream",
     "text": [
      "2 1 3 2 4\n"
     ]
    },
    {
     "ename": "ValueError",
     "evalue": "invalid literal for int() with base 10: '2 1 3 2 4'",
     "output_type": "error",
     "traceback": [
      "\u001b[0;31m---------------------------------------------------------------------------\u001b[0m",
      "\u001b[0;31mValueError\u001b[0m                                Traceback (most recent call last)",
      "\u001b[0;32m<ipython-input-4-eee5e196ecf0>\u001b[0m in \u001b[0;36m<module>\u001b[0;34m\u001b[0m\n\u001b[0;32m----> 1\u001b[0;31m \u001b[0mn\u001b[0m \u001b[0;34m=\u001b[0m \u001b[0mint\u001b[0m\u001b[0;34m(\u001b[0m\u001b[0minput\u001b[0m\u001b[0;34m(\u001b[0m\u001b[0;34m)\u001b[0m\u001b[0;34m)\u001b[0m\u001b[0;34m\u001b[0m\u001b[0;34m\u001b[0m\u001b[0m\n\u001b[0m\u001b[1;32m      2\u001b[0m \u001b[0mstart_list\u001b[0m \u001b[0;34m=\u001b[0m \u001b[0;34m[\u001b[0m\u001b[0;34m]\u001b[0m\u001b[0;34m\u001b[0m\u001b[0;34m\u001b[0m\u001b[0m\n\u001b[1;32m      3\u001b[0m \u001b[0;32mfor\u001b[0m \u001b[0mi\u001b[0m \u001b[0;32min\u001b[0m \u001b[0mrange\u001b[0m\u001b[0;34m(\u001b[0m\u001b[0mn\u001b[0m\u001b[0;34m)\u001b[0m\u001b[0;34m:\u001b[0m\u001b[0;34m\u001b[0m\u001b[0;34m\u001b[0m\u001b[0m\n\u001b[1;32m      4\u001b[0m     \u001b[0mstart_list\u001b[0m\u001b[0;34m.\u001b[0m\u001b[0mappend\u001b[0m\u001b[0;34m(\u001b[0m\u001b[0mi\u001b[0m\u001b[0;34m+\u001b[0m\u001b[0;36m1\u001b[0m\u001b[0;34m)\u001b[0m\u001b[0;34m\u001b[0m\u001b[0;34m\u001b[0m\u001b[0m\n\u001b[1;32m      5\u001b[0m \u001b[0;34m\u001b[0m\u001b[0m\n",
      "\u001b[0;31mValueError\u001b[0m: invalid literal for int() with base 10: '2 1 3 2 4'"
     ]
    }
   ],
   "source": [
    "n = int(input())\n",
    "start_list = []\n",
    "for i in range(n):\n",
    "    start_list.append(i+1)\n",
    "    \n",
    "input_list = list(map(int,input().split()))\n",
    "\n",
    "def factorial(n):\n",
    "    init = 1\n",
    "    for i in range(n):\n",
    "        init *= (n-i)\n",
    "        \n",
    "    return init\n",
    "\n",
    "def rank(input_list, x):\n",
    "    return sorted(input_list).index(x) \n",
    "    \n",
    "def list_pop(input_list,x):\n",
    "    k = input_list.index(x)\n",
    "    input_list.pop(k)\n",
    "    return input_list\n",
    "\n",
    "def solution2(start_list):\n",
    "    check_list = start_list.copy()\n",
    "    answer = 0\n",
    "    for i in range(0,len(start_list)-1):\n",
    "        answer += factorial(len(check_list)-1) * rank(check_list,start_list[i])\n",
    "        list_pop(check_list,start_list[i])\n",
    "    \n",
    "    return answer + 1\n",
    "    \n",
    "def solution1(start_list,n):\n",
    "    answer_list = []\n",
    "\n",
    "    for i in range(0,len(start_list)):\n",
    "        k = n-1\n",
    "        a = k // factorial(len(start_list)-1)\n",
    "\n",
    "        answer_list.append(start_list[a])\n",
    "        start_list.pop(a)\n",
    "\n",
    "        n = n - (a*factorial(len(start_list)))\n",
    "        \n",
    "    return answer_list\n",
    "\n",
    "    \n",
    "\n",
    "\n",
    "if input_list[0] == 1:\n",
    "    a = solution1(start_list,input_list[1])\n",
    "    for i in range(len(a)):\n",
    "        print(a[i],end = \" \")\n",
    "    \n",
    "else:\n",
    "    input_list2 = input_list[1:] \n",
    "    print(solution2(input_list2))"
   ]
  },
  {
   "cell_type": "code",
   "execution_count": 5,
   "metadata": {},
   "outputs": [
    {
     "ename": "NameError",
     "evalue": "name 'solution1' is not defined",
     "output_type": "error",
     "traceback": [
      "\u001b[0;31m---------------------------------------------------------------------------\u001b[0m",
      "\u001b[0;31mNameError\u001b[0m                                 Traceback (most recent call last)",
      "\u001b[0;32m<ipython-input-5-307a7565200c>\u001b[0m in \u001b[0;36m<module>\u001b[0;34m\u001b[0m\n\u001b[0;32m----> 1\u001b[0;31m \u001b[0msolution1\u001b[0m\u001b[0;34m(\u001b[0m\u001b[0;34m[\u001b[0m\u001b[0;36m6\u001b[0m\u001b[0;34m,\u001b[0m\u001b[0;36m5\u001b[0m\u001b[0;34m,\u001b[0m\u001b[0;36m4\u001b[0m\u001b[0;34m,\u001b[0m\u001b[0;36m3\u001b[0m\u001b[0;34m,\u001b[0m\u001b[0;36m2\u001b[0m\u001b[0;34m,\u001b[0m\u001b[0;36m1\u001b[0m\u001b[0;34m]\u001b[0m\u001b[0;34m)\u001b[0m\u001b[0;34m\u001b[0m\u001b[0;34m\u001b[0m\u001b[0m\n\u001b[0m",
      "\u001b[0;31mNameError\u001b[0m: name 'solution1' is not defined"
     ]
    }
   ],
   "source": [
    "solution1([6,5,4,3,2,1])"
   ]
  },
  {
   "cell_type": "code",
   "execution_count": null,
   "metadata": {},
   "outputs": [],
   "source": [
    "def solution2(start_list,n):\n",
    "    answer_list = []\n",
    "\n",
    "    for i in range(0,len(start_list)):\n",
    "        k = n-1\n",
    "        a = k // factorial(len(start_list)-1)\n",
    "\n",
    "        answer_list.append(start_list[a])\n",
    "        start_list.pop(a)\n",
    "\n",
    "        n = n - (a*factorial(len(start_list)))\n",
    "        \n",
    "    return answer_list\n"
   ]
  },
  {
   "cell_type": "code",
   "execution_count": 559,
   "metadata": {},
   "outputs": [
    {
     "data": {
      "text/plain": [
       "[4, 3, 5, 2, 1]"
      ]
     },
     "execution_count": 559,
     "metadata": {},
     "output_type": "execute_result"
    }
   ],
   "source": [
    "solution2([1,2,3,4,5],90)"
   ]
  },
  {
   "cell_type": "code",
   "execution_count": 6,
   "metadata": {},
   "outputs": [],
   "source": [
    "def factorial(n):\n",
    "    init = 1\n",
    "    for i in range(n):\n",
    "        init *= (n-i)\n",
    "        \n",
    "    return init\n",
    "\n",
    "def rank(input_list, x):\n",
    "    return sorted(input_list).index(x) \n",
    "    \n",
    "def list_pop(input_list,x):\n",
    "    k = input_list.index(x)\n",
    "    input_list.pop(k)\n",
    "    return input_list\n"
   ]
  },
  {
   "cell_type": "code",
   "execution_count": 20,
   "metadata": {},
   "outputs": [],
   "source": [
    "def solution2(start_list):\n",
    "    check_list = start_list.copy()\n",
    "    answer = 0\n",
    "    for i in range(0,len(start_list)-1):\n",
    "        print(factorial(len(check_list)-1))\n",
    "        print(rank(check_list,start_list[i]))\n",
    "        answer += factorial(len(check_list)-1) * rank(check_list,start_list[i])\n",
    "        list_pop(check_list,start_list[i])\n",
    "    \n",
    "    return answer + 1"
   ]
  },
  {
   "cell_type": "code",
   "execution_count": 23,
   "metadata": {},
   "outputs": [
    {
     "name": "stdout",
     "output_type": "stream",
     "text": [
      "6\n",
      "3\n",
      "2\n",
      "0\n",
      "1\n",
      "0\n"
     ]
    },
    {
     "data": {
      "text/plain": [
       "19"
      ]
     },
     "execution_count": 23,
     "metadata": {},
     "output_type": "execute_result"
    }
   ],
   "source": [
    "solution2([4,1,2,3])"
   ]
  },
  {
   "cell_type": "code",
   "execution_count": 11,
   "metadata": {},
   "outputs": [],
   "source": [
    "def solution2(start_list,n):\n",
    "    answer_list = []\n",
    "\n",
    "    for i in range(0,len(start_list)):\n",
    "        k = n-1\n",
    "        a = k // factorial(len(start_list)-1) ## 몫\n",
    "\n",
    "        answer_list.append(start_list[a])\n",
    "        start_list.pop(a)\n",
    "\n",
    "        n = n - (a*factorial(len(start_list)))\n",
    "        \n",
    "    return answer_list"
   ]
  },
  {
   "cell_type": "code",
   "execution_count": 16,
   "metadata": {},
   "outputs": [
    {
     "data": {
      "text/plain": [
       "[2, 3, 4, 1]"
      ]
     },
     "execution_count": 16,
     "metadata": {},
     "output_type": "execute_result"
    }
   ],
   "source": [
    "solution2([1,2,3,4],10)"
   ]
  },
  {
   "cell_type": "code",
   "execution_count": null,
   "metadata": {},
   "outputs": [],
   "source": []
  },
  {
   "cell_type": "code",
   "execution_count": null,
   "metadata": {},
   "outputs": [],
   "source": []
  },
  {
   "cell_type": "code",
   "execution_count": null,
   "metadata": {},
   "outputs": [],
   "source": []
  },
  {
   "cell_type": "code",
   "execution_count": null,
   "metadata": {},
   "outputs": [],
   "source": []
  },
  {
   "cell_type": "code",
   "execution_count": null,
   "metadata": {},
   "outputs": [],
   "source": []
  }
 ],
 "metadata": {
  "kernelspec": {
   "display_name": "Python 3",
   "language": "python",
   "name": "python3"
  },
  "language_info": {
   "codemirror_mode": {
    "name": "ipython",
    "version": 3
   },
   "file_extension": ".py",
   "mimetype": "text/x-python",
   "name": "python",
   "nbconvert_exporter": "python",
   "pygments_lexer": "ipython3",
   "version": "3.7.4"
  }
 },
 "nbformat": 4,
 "nbformat_minor": 2
}
