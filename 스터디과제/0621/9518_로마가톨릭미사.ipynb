{
 "cells": [
  {
   "cell_type": "code",
   "execution_count": 9,
   "metadata": {},
   "outputs": [
    {
     "name": "stdout",
     "output_type": "stream",
     "text": [
      "2 3\n",
      "..o\n",
      "o..\n",
      "2\n"
     ]
    }
   ],
   "source": [
    "a,b = map(int,input().split())\n",
    "\n",
    "matrix = []\n",
    "for i in range(a):\n",
    "    matrix.append(list(input()))\n",
    "    \n",
    "map_dict = {}\n",
    "def do(x,y):\n",
    "    global map_dict\n",
    "    answer = 0\n",
    "    if (x-1 >= 0):\n",
    "        if matrix[x-1][y] == 'o':\n",
    "            if (x,y,x-1,y) not in map_dict:\n",
    "                if (x-1,y,x,y) not in map_dict:\n",
    "                    map_dict[(x,y,x-1,y)] = 1\n",
    "                    \n",
    "            answer +=1\n",
    "\n",
    "            \n",
    "    if (x-1 >= 0)&(y+1 < b):\n",
    "        if matrix[x-1][y+1] == 'o':\n",
    "            if (x,y,x-1,y+1) not in map_dict:\n",
    "                if (x-1,y+1,x,y) not in map_dict:\n",
    "                    map_dict[(x,y,x-1,y+1)] = 1\n",
    "                    \n",
    "            answer +=1\n",
    "\n",
    "            \n",
    "    if (y+1 < b):\n",
    "        if matrix[x][y+1] == 'o':\n",
    "            if (x,y,x,y+1) not in map_dict:\n",
    "                if (x,y+1,x,y) not in map_dict:\n",
    "                    map_dict[(x,y,x,y+1)] = 1\n",
    "            answer +=1\n",
    "\n",
    "            \n",
    "    if (x+1 < a)&(y+1 < b)  :\n",
    "        if matrix[x+1][y+1] == 'o':\n",
    "            if (x,y,x+1,y+1) not in map_dict:\n",
    "                if (x+1,y+1,x,y) not in map_dict:\n",
    "                    map_dict[(x,y,x+1,y+1)] = 1\n",
    "            answer += 1\n",
    "\n",
    "    \n",
    "    if (x+1 < a):\n",
    "        if matrix[x+1][y] == 'o':\n",
    "            if (x,y,x+1,y) not in map_dict:\n",
    "                if (x+1,y,x,y) not in map_dict:\n",
    "                    map_dict[(x,y,x+1,y)] = 1\n",
    "            answer +=1\n",
    "\n",
    "            \n",
    "    if (x+1 < a) & (y-1 >= 0) :\n",
    "        if matrix[x+1][y-1] == 'o':\n",
    "            if (x,y,x+1,y-1) not in map_dict:\n",
    "                if (x+1,y-1,x,y) not in map_dict:\n",
    "                    map_dict[(x,y,x+1,y-1)] = 1\n",
    "            answer += 1\n",
    "\n",
    "            \n",
    "    if (y-1 >= 0): \n",
    "        if matrix[x][y-1] == 'o':\n",
    "            if (x,y,x,y-1) not in map_dict:\n",
    "                if (x,y-1,x,y) not in map_dict:\n",
    "                    map_dict[(x,y,x,y-1)] = 1\n",
    "            answer += 1\n",
    "\n",
    "    if (x-1 >= 0) & (y-1 >=0 ):\n",
    "        if matrix[x-1][y-1]== 'o':\n",
    "            if (x,y,x-1,y-1) not in map_dict:\n",
    "                if (x-1,y-1,x,y) not in map_dict:\n",
    "                    map_dict[(x,y,x-1,y-1)] = 1\n",
    "            answer += 1\n",
    "\n",
    "            \n",
    "    return answer\n",
    "\n",
    "max_value = 0\n",
    "max_index = (0,0)\n",
    "\n",
    "for i in range(a):\n",
    "    for j in range(b):\n",
    "        if matrix[i][j] == '.':\n",
    "            if do(i,j) > max_value:\n",
    "                max_value = do(i,j)\n",
    "\n",
    "                max_index = (i,j)\n",
    "            \n",
    "matrix[max_index[0]][max_index[1]] = 'o' \n",
    "\n",
    "map_dict = {}\n",
    "for i in range(a):\n",
    "    for j in range(b):\n",
    "        if matrix[i][j]=='o':\n",
    "            do(i,j)\n",
    "            \n",
    "print(len(map_dict))"
   ]
  },
  {
   "cell_type": "code",
   "execution_count": 3,
   "metadata": {},
   "outputs": [
    {
     "data": {
      "text/plain": [
       "(0, 1)"
      ]
     },
     "execution_count": 3,
     "metadata": {},
     "output_type": "execute_result"
    }
   ],
   "source": [
    "max_index"
   ]
  },
  {
   "cell_type": "markdown",
   "metadata": {},
   "source": [
    "## map_dict"
   ]
  },
  {
   "cell_type": "code",
   "execution_count": 74,
   "metadata": {},
   "outputs": [
    {
     "data": {
      "text/plain": [
       "True"
      ]
     },
     "execution_count": 74,
     "metadata": {},
     "output_type": "execute_result"
    }
   ],
   "source": [
    "'o'  =='o'"
   ]
  },
  {
   "cell_type": "code",
   "execution_count": 99,
   "metadata": {},
   "outputs": [
    {
     "data": {
      "text/plain": [
       "{(1, 1, 2, 2): 1,\n",
       " (1, 1, 2, 1): 1,\n",
       " (1, 1, 2, 0): 1,\n",
       " (2, 0, 2, 1): 1,\n",
       " (2, 1, 2, 2): 1}"
      ]
     },
     "execution_count": 99,
     "metadata": {},
     "output_type": "execute_result"
    }
   ],
   "source": [
    "map_dict"
   ]
  },
  {
   "cell_type": "code",
   "execution_count": null,
   "metadata": {},
   "outputs": [],
   "source": []
  }
 ],
 "metadata": {
  "kernelspec": {
   "display_name": "Python 3",
   "language": "python",
   "name": "python3"
  },
  "language_info": {
   "codemirror_mode": {
    "name": "ipython",
    "version": 3
   },
   "file_extension": ".py",
   "mimetype": "text/x-python",
   "name": "python",
   "nbconvert_exporter": "python",
   "pygments_lexer": "ipython3",
   "version": "3.7.4"
  }
 },
 "nbformat": 4,
 "nbformat_minor": 2
}
