{
 "cells": [
  {
   "cell_type": "code",
   "execution_count": 464,
   "metadata": {},
   "outputs": [
    {
     "name": "stdout",
     "output_type": "stream",
     "text": [
      "7\n",
      "3 5 0 6 4 5 5\n",
      "1 6 3 3 0 2 2\n",
      "6 2 1 3 1 5 1\n",
      "9 2 2 3 4 2 3\n",
      "2 1 6 2 0 0 4\n",
      "4 5 0 6 1 1 0\n",
      "5 4 3 2 1 4 0\n"
     ]
    },
    {
     "data": {
      "text/plain": [
       "48"
      ]
     },
     "execution_count": 464,
     "metadata": {},
     "output_type": "execute_result"
    }
   ],
   "source": [
    "n = int(input())\n",
    "\n",
    "matrix = []\n",
    "for i in range(n):\n",
    "    matrix.append(list(map(int,input().split())))\n",
    "    \n",
    "dx = [0,0,1,-1]\n",
    "dy = [1,-1,0,0]\n",
    "\n",
    "yunsik = []\n",
    "for aa in range(n):\n",
    "    for bb in range(n):\n",
    "        if matrix[aa][bb] == 9:\n",
    "            yunsik.append([aa,bb])\n",
    "\n",
    "def distance(x,y,list_index,size): ## bfs로 구현\n",
    "\n",
    "\n",
    "    for k in range(len(list_index)):\n",
    "\n",
    "\n",
    "\n",
    "\n",
    "        \n",
    "        start_x = list_index[k][0]\n",
    "        start_y = list_index[k][1]\n",
    "        \n",
    "    \n",
    "        dx = [0,0,1,-1]\n",
    "        dy = [1,-1,0,0]\n",
    "\n",
    "        new_matrix = [[0]*n for _ in range(n)]\n",
    "\n",
    "        for i in range(n):\n",
    "            for j in range(n):\n",
    "                if (i == x) & (j== y):\n",
    "                    continue\n",
    "                if matrix[i][j] > size:\n",
    "                    new_matrix[i][j] = 1\n",
    "                    \n",
    "\n",
    "        dist = [[0]*n for _ in range(n)]\n",
    "\n",
    "\n",
    "        queue = []\n",
    "        visited = []\n",
    "\n",
    "        queue.append([start_x,start_y])\n",
    "        visited.append([start_x,start_y])\n",
    "        \n",
    "        while queue:\n",
    "            point = queue.pop(0)\n",
    "            for j in range(4):\n",
    "                nx = point[0] + dx[j]\n",
    "                ny = point[1] + dy[j]\n",
    "\n",
    "                if (0<= nx <n) & (0<= ny <n):\n",
    "                    \n",
    "                    if [nx,ny] not in visited:\n",
    "                        if new_matrix[nx][ny] != 1:\n",
    "                            queue.append([nx,ny])\n",
    "                            visited.append([nx,ny])\n",
    "\n",
    "                            dist[nx][ny] = dist[point[0]][point[1]] + 1\n",
    "\n",
    "\n",
    "        list_index[k].append(dist[x][y])\n",
    "        \n",
    "    return list_index\n",
    "\n",
    "\n",
    "    \n",
    "\n",
    "answer = 0\n",
    "def find(size,x,y,eat): ## 작아야됨.\n",
    "\n",
    "    global answer\n",
    "    \n",
    "    \n",
    "    \n",
    "    list_index = []\n",
    "\n",
    "    for i in range(n):\n",
    "        for j in range(n):\n",
    "            if (i==x) and (j==y):\n",
    "                continue\n",
    "            if matrix[i][j] < size:\n",
    "                if matrix[i][j] != 0:\n",
    "                    list_index.append([i,j])\n",
    "                \n",
    "\n",
    "                \n",
    "                \n",
    "    if len(list_index) == 0:\n",
    "        return answer\n",
    "    \n",
    "\n",
    "                \n",
    "    a = distance(x,y,list_index,size)\n",
    "\n",
    "\n",
    "\n",
    "    \n",
    "    if len([x[2] for x in a if x[2] == min([x[2] for x in a])]) ==1:\n",
    "        final_index = [x for x in a if x[2] == min([x[2] for x in a])]\n",
    "    else:\n",
    "        a = [x for x in a if x[2] == min([x[2] for x in a])]\n",
    "        if len([x[0] for x in a if x[0] == min([x[0] for x in a])]) == 1:\n",
    "            final_index = [x for x in a if x[2] == min([x[2] for x in a])]\n",
    "        else:\n",
    "            a = [x for x in a if min([x[0]== min([x[0] for x in a])])]\n",
    "            final_index = [x for x in a if x[1] == min([x[1] for x in a])]\n",
    "    \n",
    "    new_x = final_index[0][0]\n",
    "    new_y = final_index[0][1]\n",
    "    eat += 1\n",
    "    answer += final_index[0][2]\n",
    "    if size == eat:\n",
    "        size += 1\n",
    "        eat = 0\n",
    "        \n",
    "    matrix[x][y] = 0\n",
    "    \n",
    "    find(size,new_x,new_y,eat)\n",
    "    \n",
    "    \n",
    "\n",
    "find(2,yunsik[0][0],yunsik[0][1],0)\n",
    "\n",
    "answer"
   ]
  },
  {
   "cell_type": "markdown",
   "metadata": {},
   "source": [
    "###### find(2,yunsik[0],yunsik[1],0)"
   ]
  },
  {
   "cell_type": "code",
   "execution_count": 445,
   "metadata": {},
   "outputs": [
    {
     "data": {
      "text/plain": [
       "39"
      ]
     },
     "execution_count": 445,
     "metadata": {},
     "output_type": "execute_result"
    }
   ],
   "source": [
    "answer"
   ]
  },
  {
   "cell_type": "code",
   "execution_count": null,
   "metadata": {},
   "outputs": [],
   "source": []
  }
 ],
 "metadata": {
  "kernelspec": {
   "display_name": "Python 3",
   "language": "python",
   "name": "python3"
  },
  "language_info": {
   "codemirror_mode": {
    "name": "ipython",
    "version": 3
   },
   "file_extension": ".py",
   "mimetype": "text/x-python",
   "name": "python",
   "nbconvert_exporter": "python",
   "pygments_lexer": "ipython3",
   "version": "3.7.4"
  }
 },
 "nbformat": 4,
 "nbformat_minor": 2
}
