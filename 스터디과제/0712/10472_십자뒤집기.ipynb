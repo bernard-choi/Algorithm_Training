{
 "cells": [
  {
   "cell_type": "code",
   "execution_count": 62,
   "metadata": {},
   "outputs": [
    {
     "name": "stdout",
     "output_type": "stream",
     "text": [
      "50000 1\n",
      "49999\n"
     ]
    }
   ],
   "source": [
    "a,b = map(int,input().split())\n",
    "\n",
    "queue = []\n",
    "visited = [0] * 1000010\n",
    "queue.append((a,0))\n",
    "yunsik = True\n",
    "\n",
    "if a == b:\n",
    "    print(0)\n",
    "else:\n",
    "    while yunsik:\n",
    "        point,time = queue.pop(0)\n",
    "        for i in [point-1, point+1, point*2]:\n",
    "            if 0 <= i <= 1000000:\n",
    "                if visited[i] == 0:\n",
    "                    visited[i] = 1\n",
    "                    queue.append((i,time+1))\n",
    "                    if i == b:\n",
    "                        yunsik=False\n",
    "                        break\n",
    "\n",
    "    print(queue[-1][1])"
   ]
  }
 ],
 "metadata": {
  "kernelspec": {
   "display_name": "Python 3",
   "language": "python",
   "name": "python3"
  },
  "language_info": {
   "codemirror_mode": {
    "name": "ipython",
    "version": 3
   },
   "file_extension": ".py",
   "mimetype": "text/x-python",
   "name": "python",
   "nbconvert_exporter": "python",
   "pygments_lexer": "ipython3",
   "version": "3.7.4"
  }
 },
 "nbformat": 4,
 "nbformat_minor": 2
}
