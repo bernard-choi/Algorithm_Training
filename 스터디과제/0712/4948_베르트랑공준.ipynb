{
 "cells": [
  {
   "cell_type": "code",
   "execution_count": 142,
   "metadata": {
    "scrolled": true
   },
   "outputs": [
    {
     "name": "stdout",
     "output_type": "stream",
     "text": [
      "100000\n",
      "8392\n",
      "0\n"
     ]
    }
   ],
   "source": [
    "## 에라토스테네스의 체\n",
    "\n",
    "def def_prime(x):\n",
    "    answer = [True]*x*2\n",
    "    \n",
    "    answer[0] = False\n",
    "\n",
    "    for i in range(2,int((2*x) ** 0.5)+1):\n",
    "\n",
    "        answer[i-1::i] = [False] * ((2*x)//i)\n",
    "            \n",
    "    return sum(answer[x:])\n",
    "\n",
    "while True:\n",
    "    n = int(input())\n",
    "    if n == 0:\n",
    "        break\n",
    "    print(def_prime(n))"
   ]
  }
 ],
 "metadata": {
  "kernelspec": {
   "display_name": "Python 3",
   "language": "python",
   "name": "python3"
  },
  "language_info": {
   "codemirror_mode": {
    "name": "ipython",
    "version": 3
   },
   "file_extension": ".py",
   "mimetype": "text/x-python",
   "name": "python",
   "nbconvert_exporter": "python",
   "pygments_lexer": "ipython3",
   "version": "3.7.4"
  }
 },
 "nbformat": 4,
 "nbformat_minor": 2
}
