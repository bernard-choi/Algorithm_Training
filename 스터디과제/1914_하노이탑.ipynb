{
 "cells": [
  {
   "cell_type": "code",
   "execution_count": 76,
   "metadata": {},
   "outputs": [
    {
     "name": "stdout",
     "output_type": "stream",
     "text": [
      "3\n",
      "7\n",
      "1 3\n",
      "1 2\n",
      "3 2\n",
      "1 3\n",
      "2 1\n",
      "2 3\n",
      "1 3\n"
     ]
    }
   ],
   "source": [
    "i = int(input())\n",
    "\n",
    "def hanoi(n,fr,to,via): ## 재귀를 이용\n",
    "    if n == 1:\n",
    "        print(fr, to)\n",
    "    \n",
    "    else:\n",
    "        hanoi(n-1,fr,via,to)\n",
    "        hanoi(1,fr,to,via)\n",
    "        hanoi(n-1,via,to,fr)\n",
    "\n",
    "\n",
    "\n",
    "def hanoi_count(n): ## 1씩 증가시키면 연산시간 초과. 점화식 이용\n",
    "    print((2**n)-1)\n",
    "\n",
    "    \n",
    "hanoi_count(i)\n",
    "if i <= 20:\n",
    "    hanoi(i,1,3,2)\n",
    "\n"
   ]
  }
 ],
 "metadata": {
  "kernelspec": {
   "display_name": "Python 3",
   "language": "python",
   "name": "python3"
  },
  "language_info": {
   "codemirror_mode": {
    "name": "ipython",
    "version": 3
   },
   "file_extension": ".py",
   "mimetype": "text/x-python",
   "name": "python",
   "nbconvert_exporter": "python",
   "pygments_lexer": "ipython3",
   "version": "3.7.4"
  }
 },
 "nbformat": 4,
 "nbformat_minor": 2
}
