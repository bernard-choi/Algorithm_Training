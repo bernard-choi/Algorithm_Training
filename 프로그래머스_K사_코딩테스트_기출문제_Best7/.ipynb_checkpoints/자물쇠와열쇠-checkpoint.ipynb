{
 "cells": [
  {
   "cell_type": "code",
   "execution_count": 1,
   "metadata": {},
   "outputs": [],
   "source": [
    "def rotate_a_matrix_by_90_degree(a):\n",
    "  n = len(a) # 행 길이 계산\n",
    "  m = len(a[0]) # 열 길이 계산\n",
    "\n",
    "  result = [[0] * n for _ in range(m)] ## 결과 리스트\n",
    "  for i in range(n):\n",
    "    for j in range(m):\n",
    "      result[j][n-i-1] = a[i][j]\n",
    "\n",
    "  return result"
   ]
  },
  {
   "cell_type": "code",
   "execution_count": 2,
   "metadata": {},
   "outputs": [],
   "source": [
    "def check(new_lock):\n",
    "    lock_length = len(new_lock)//3\n",
    "    \n",
    "    for i in range(lock_length,locj_length*2):\n",
    "        for j in range(lock_length,lock_length*2):\n",
    "            if new_lock[i][j] != 1:\n",
    "                return False\n",
    "    return True"
   ]
  },
  {
   "cell_type": "code",
   "execution_count": 3,
   "metadata": {},
   "outputs": [],
   "source": [
    "def solution(key,lock):\n",
    "    n = len(lock)\n",
    "    m = len(key)\n",
    "    \n",
    "    new_lock = [[0] * (n*3) for _ in range(n*3)]\n",
    "    \n",
    "    for i in range(n):\n",
    "        for j in range(n):\n",
    "            new_lock[i+n][j+n] = lock[i][j]\n",
    "            \n",
    "    for rotation in range(4):\n",
    "        kry = rotate_a_matrix_by_90_degree(key)\n",
    "        for x in range(n*2):\n",
    "            for y in range(n*2):\n",
    "                for i in range(m):\n",
    "                    for j in range(m):\n",
    "                        new_lock[x+i][y+j] += key[i][j]\n",
    "                if check(new_lock)== True:\n",
    "                    return True\n",
    "                for i in range(m):\n",
    "                    for j in range(m):\n",
    "                        new_lock[x+i][y+j] -= key[i][j]\n",
    "                        \n",
    "    return False"
   ]
  }
 ],
 "metadata": {
  "kernelspec": {
   "display_name": "Python 3",
   "language": "python",
   "name": "python3"
  },
  "language_info": {
   "codemirror_mode": {
    "name": "ipython",
    "version": 3
   },
   "file_extension": ".py",
   "mimetype": "text/x-python",
   "name": "python",
   "nbconvert_exporter": "python",
   "pygments_lexer": "ipython3",
   "version": "3.7.4"
  }
 },
 "nbformat": 4,
 "nbformat_minor": 2
}
