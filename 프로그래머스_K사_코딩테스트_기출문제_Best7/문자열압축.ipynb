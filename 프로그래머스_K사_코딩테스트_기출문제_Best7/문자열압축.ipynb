{
 "cells": [
  {
   "cell_type": "code",
   "execution_count": 63,
   "metadata": {},
   "outputs": [],
   "source": [
    "def solutions(s):\n",
    "    answer = len(s)\n",
    "    for i in range(1,(len(s)//2)+1): ## 몇개씩 끊을거냐\n",
    "        new_s = ''\n",
    "        count = 1 \n",
    "        prev = s[:i] \n",
    "        for j in range(1,len(s)//i+1): \n",
    "            if prev == s[i*j:i*j+i]: ## 이전 문자열과 같으면 count 1증가\n",
    "                count += 1\n",
    "            else: ## 이전 문자열과 다르면 \n",
    "                new_s += str(count) + prev if count >= 2 else prev ## count가 2이상인 경우만 new_s에 추가\n",
    "                count = 1   \n",
    "                prev = s[i*j:i*j+i]\n",
    "\n",
    "        new_s += str(count) + prev if count >= 2 else prev\n",
    "        answer = min(answer,len(new_s))\n",
    "        \n",
    "    return answer\n",
    "\n",
    "    "
   ]
  }
 ],
 "metadata": {
  "kernelspec": {
   "display_name": "Python 3",
   "language": "python",
   "name": "python3"
  },
  "language_info": {
   "codemirror_mode": {
    "name": "ipython",
    "version": 3
   },
   "file_extension": ".py",
   "mimetype": "text/x-python",
   "name": "python",
   "nbconvert_exporter": "python",
   "pygments_lexer": "ipython3",
   "version": "3.7.4"
  }
 },
 "nbformat": 4,
 "nbformat_minor": 2
}
