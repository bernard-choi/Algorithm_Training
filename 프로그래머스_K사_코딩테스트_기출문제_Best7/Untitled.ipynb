{
 "cells": [
  {
   "cell_type": "code",
   "execution_count": 81,
   "metadata": {},
   "outputs": [],
   "source": [
    "from copy import deepcopy\n",
    "\n",
    "words = [\"frodo\", \"front\", \"frost\", \"frozen\", \"frame\", \"kakao\"]\n",
    "queries = [\"fro??\", \"????o\", \"fr???\", \"fro???\", \"pro?\"]\n",
    "\n",
    "words_cp1 = deepcopy(words)\n",
    "words_cp2 = [x[::-1] for x in words]\n",
    "words_cp1.sort()\n",
    "words_cp2.sort()\n",
    "\n",
    "answer = []\n",
    "for i in range(len(queries)):\n",
    "    if queries[i][0] != '?':\n",
    "        string = [x for x in queries[i] if x != '?']\n",
    "        b = [x for x in words_cp1 if x[:len(string)]== ''.join(string) and len(x) == len(queries[i])]\n",
    "        answer.append(len(b))\n",
    "    else:\n",
    "        string = [x for x in queries[i][::-1] if x != '?']\n",
    "        b = [x for x in words_cp2 if x[:len(string)]== ''.join(string) and len(x) == len(queries[i])]\n",
    "        answer.append(len(b))\n",
    "        \n",
    "return answer"
   ]
  },
  {
   "cell_type": "code",
   "execution_count": 94,
   "metadata": {},
   "outputs": [
    {
     "name": "stdout",
     "output_type": "stream",
     "text": [
      "탐색 성공: 인덱스  3\n"
     ]
    }
   ],
   "source": [
    "## 이진탐색 소스코드\n",
    "def binary_search(data,start,end,target):\n",
    "    while start <= end: ## start랑 end가 같아지면\n",
    "        mid = (start+end)//2\n",
    "        \n",
    "        if data[mid] == target:\n",
    "            return mid\n",
    "        elif data[mid] < target:\n",
    "            start = mid + 1\n",
    "        \n",
    "        else:\n",
    "            end = mid - 1\n",
    "    return None\n",
    "\n",
    "data = [1,3,5,7,9]\n",
    "result = binary_search(data,0,len(data)-1,7)\n",
    "\n",
    "if result == None:\n",
    "    print('탐색실패')\n",
    "else:\n",
    "    print('탐색 성공: 인덱스 ', result)\n",
    "    "
   ]
  },
  {
   "cell_type": "code",
   "execution_count": 2,
   "metadata": {},
   "outputs": [
    {
     "name": "stdout",
     "output_type": "stream",
     "text": [
      "2\n",
      "4\n"
     ]
    }
   ],
   "source": [
    "## bisect\n",
    "## bisect_left(a,x): 정렬된 순서를 유지하면서 배열 a에 x를 삽입할 가장 왼쪽 위치를 반환\n",
    "## bisect_right(a,x): 정렬된 순서를 유지하면서 배열 a에 x를 삽일할 가장 오른쪽 위치를 반환\n",
    "\n",
    "from bisect import bisect_left, bisect_right\n",
    "a = [1,2,4,4,8]\n",
    "x = 4\n",
    "print(bisect_left(a,x))\n",
    "print(bisect_right(a,x))"
   ]
  },
  {
   "cell_type": "code",
   "execution_count": 3,
   "metadata": {},
   "outputs": [
    {
     "name": "stdout",
     "output_type": "stream",
     "text": [
      "2\n",
      "6\n"
     ]
    }
   ],
   "source": [
    "## 특정 범위의 데이터 개수 구하기\n",
    "def count_by_range(a,left_value,right_value):\n",
    "    right_index = bisect_right(a,right_value)\n",
    "    left_index = bisect_left(a,left_value)\n",
    "    return right_index - left_index\n",
    "\n",
    "a = [1,2,3,3,3,3,4,4,8,9]\n",
    "print(count_by_range(a,4,4)) ## 4가 몇개 있는지\n",
    "print(count_by_range(a,-1,3)) ## -1과 3 사이의 숫자가 몇개 있는지"
   ]
  },
  {
   "cell_type": "code",
   "execution_count": 16,
   "metadata": {},
   "outputs": [
    {
     "name": "stdout",
     "output_type": "stream",
     "text": [
      "2\n",
      "6\n"
     ]
    }
   ],
   "source": [
    "# 파이썬 이진 탐색 라이브러리 기타 사용예시\n",
    "a = [1,2,3,3,3,3,4,4,8,9]\n",
    "print(count_by_range(a,4,4)) ## 4가 몇개 있는지\n",
    "print(count_by_range(a,-1,3)) ## -1과 3 사이의 숫자가 몇개 있는지"
   ]
  },
  {
   "cell_type": "code",
   "execution_count": 17,
   "metadata": {},
   "outputs": [
    {
     "name": "stdout",
     "output_type": "stream",
     "text": [
      "1\n"
     ]
    }
   ],
   "source": [
    "# x보자 작은 데이터 중에서 가장 큰 값의 인덱스를 반환\n",
    "def index_of_less_than_x(a,x):\n",
    "    i = bisect_left(a,x)\n",
    "    if i:\n",
    "        return i-1\n",
    "    return None\n",
    "\n",
    "answer = index_of_less_than_x(a,3)\n",
    "print(answer)"
   ]
  },
  {
   "cell_type": "code",
   "execution_count": 20,
   "metadata": {},
   "outputs": [
    {
     "name": "stdout",
     "output_type": "stream",
     "text": [
      "6\n"
     ]
    }
   ],
   "source": [
    "# x보다 큰 데이터 중에서, 가장 작은 값의 인덱스를 반환\n",
    "def index_of_greater_than_x(a,x):\n",
    "    i = bisect_right(a,x)\n",
    "    if i:\n",
    "        return i\n",
    "    return None\n",
    "\n",
    "answer = index_of_greater_than_x(a,3)\n",
    "print(answer)"
   ]
  },
  {
   "cell_type": "code",
   "execution_count": 21,
   "metadata": {},
   "outputs": [
    {
     "name": "stdout",
     "output_type": "stream",
     "text": [
      "6\n"
     ]
    }
   ],
   "source": [
    "# x보다 크거나 같은 데이터 중에서, 가장 작은 값의 인덱스를 반환\n",
    "def index_of_greater_equal_than_x(a,x):\n",
    "    i = bisect_left(a,x)\n",
    "    if i!= len(a):\n",
    "        return i\n",
    "    \n",
    "    return None\n",
    "\n",
    "answer = index_of_greater_than_x(a,3)\n",
    "print(answer)"
   ]
  },
  {
   "cell_type": "code",
   "execution_count": null,
   "metadata": {},
   "outputs": [],
   "source": []
  },
  {
   "cell_type": "code",
   "execution_count": null,
   "metadata": {},
   "outputs": [],
   "source": []
  },
  {
   "cell_type": "code",
   "execution_count": null,
   "metadata": {},
   "outputs": [],
   "source": []
  },
  {
   "cell_type": "code",
   "execution_count": null,
   "metadata": {},
   "outputs": [],
   "source": []
  }
 ],
 "metadata": {
  "kernelspec": {
   "display_name": "Python 3",
   "language": "python",
   "name": "python3"
  },
  "language_info": {
   "codemirror_mode": {
    "name": "ipython",
    "version": 3
   },
   "file_extension": ".py",
   "mimetype": "text/x-python",
   "name": "python",
   "nbconvert_exporter": "python",
   "pygments_lexer": "ipython3",
   "version": "3.7.6"
  }
 },
 "nbformat": 4,
 "nbformat_minor": 2
}
