{
 "cells": [
  {
   "cell_type": "code",
   "execution_count": null,
   "metadata": {},
   "outputs": [],
   "source": [
    "## https://programmers.co.kr/learn/courses/10336/lessons/66362\n",
    "\n",
    "def solution(answers):\n",
    "    one = [1,2,3,4,5] * (len(answers)//5 + 1)\n",
    "    two = [2,1,2,3,2,4,2,5] * (len(answers)//8 + 1)\n",
    "    three = [3,3,1,1,2,2,4,4,5,5] * (len(answers)//10 + 1)\n",
    "    \n",
    "    a,b,c = 0,0,0\n",
    "    for i in range(len(answers)):\n",
    "        if one[i] == answers[i]:\n",
    "            a+=1\n",
    "        if two[i] == answers[i]:\n",
    "            b+=1\n",
    "        if three[i] == answers[i]:\n",
    "            c+=1\n",
    "        \n",
    "    answer = [(1,a),(2,b),(3,c)]\n",
    "    answer.sort(key = lambda x: x[1],reverse=True)\n",
    "    answer = [x[0] for x in answer if x[1] == answer[0][1]]\n",
    "    \n",
    "    return answer"
   ]
  }
 ],
 "metadata": {
  "kernelspec": {
   "display_name": "Python 3",
   "language": "python",
   "name": "python3"
  },
  "language_info": {
   "codemirror_mode": {
    "name": "ipython",
    "version": 3
   },
   "file_extension": ".py",
   "mimetype": "text/x-python",
   "name": "python",
   "nbconvert_exporter": "python",
   "pygments_lexer": "ipython3",
   "version": "3.7.4"
  }
 },
 "nbformat": 4,
 "nbformat_minor": 2
}
