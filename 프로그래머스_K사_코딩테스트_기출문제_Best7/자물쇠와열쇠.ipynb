{
 "cells": [
  {
   "cell_type": "code",
   "execution_count": 1,
   "metadata": {},
   "outputs": [],
   "source": [
    "def rotate_a_matrix_by_90_degree(a):\n",
    "  n = len(a) # 행 길이 계산\n",
    "  m = len(a[0]) # 열 길이 계산\n",
    "\n",
    "  result = [[0] * n for _ in range(m)] ## 결과 리스트\n",
    "  for i in range(n):\n",
    "    for j in range(m):\n",
    "      result[j][n-i-1] = a[i][j]\n",
    "\n",
    "  return result"
   ]
  },
  {
   "cell_type": "code",
   "execution_count": 2,
   "metadata": {},
   "outputs": [],
   "source": [
    "def check(new_lock):\n",
    "    lock_length = len(new_lock)//3\n",
    "    \n",
    "    for i in range(lock_length,locj_length*2):\n",
    "        for j in range(lock_length,lock_length*2):\n",
    "            if new_lock[i][j] != 1:\n",
    "                return False\n",
    "    return True"
   ]
  },
  {
   "cell_type": "code",
   "execution_count": 50,
   "metadata": {},
   "outputs": [],
   "source": [
    "def solution(key,lock):\n",
    "    n = len(lock)\n",
    "    m = len(key)\n",
    "    \n",
    "    new_lock = [[0] * (n*3) for _ in range(n*3)]\n",
    "    \n",
    "    for i in range(n):\n",
    "        for j in range(n):\n",
    "            new_lock[i+n][j+n] = lock[i][j]\n",
    "            \n",
    "    for rotation in range(4):\n",
    "        kry = rotate_a_matrix_by_90_degree(key)\n",
    "        for x in range(n*2):\n",
    "            for y in range(n*2):\n",
    "                for i in range(m):\n",
    "                    for j in range(m):\n",
    "                        new_lock[x+i][y+j] += key[i][j]\n",
    "                if check(new_lock)== True:\n",
    "                    return True\n",
    "                for i in range(m):\n",
    "                    for j in range(m):\n",
    "                        new_lock[x+i][y+j] -= key[i][j]\n",
    "                        \n",
    "    return False"
   ]
  },
  {
   "cell_type": "code",
   "execution_count": 204,
   "metadata": {},
   "outputs": [],
   "source": [
    "def rotate_a_matrix_by_90_degree(a):\n",
    "  n = len(a) # 행 길이 계산\n",
    "  m = len(a[0]) # 열 길이 계산\n",
    "\n",
    "  result = [[0] * n for _ in range(m)] ## 결과 리스트\n",
    "  for i in range(n):\n",
    "    for j in range(m):\n",
    "      result[j][n-i-1] = a[i][j]\n",
    "\n",
    "  return result\n",
    "\n",
    "def check(matrix,N):\n",
    "    for i in range(N,2*N):\n",
    "        for j in range(N,2*N):\n",
    "            if matrix[i][j] != 1:\n",
    "                return False\n",
    "    return True\n",
    "\n",
    "def matrix_sum(i,j,matrix,key,N):\n",
    "    for k in range(i,i+N):\n",
    "        for l in range(j,j+N):\n",
    "            matrix[k][l] += key[k-i][l-j]\n",
    "\n",
    "def matrix_minus(i,j,matrix,key,N):\n",
    "    for k in range(i,i+N):\n",
    "        for l in range(j,j+N):\n",
    "            matrix[k][l] -= key[k-i][l-j]\n",
    "            \n",
    "\n",
    "\n",
    "def solution(key,lock):\n",
    "    \n",
    "    N = len(lock)\n",
    "    M = len(key)\n",
    "    \n",
    "    matrix = [[0]*N*3 for  _ in range(N*3)]\n",
    "    \n",
    "    for i in range(N,2*N):\n",
    "        for j in range(N,2*N):\n",
    "            matrix[i][j] = lock[i-N][j-N]    \n",
    "    \n",
    "    for r in range(4):\n",
    "        key = rotate_a_matrix_by_90_degree(key)\n",
    "\n",
    "        for i in range(2*N):\n",
    "            for j in range(2*N):\n",
    "                \n",
    "                matrix_sum(i,j,matrix,key,M)\n",
    "                \n",
    "                if check(matrix,N):\n",
    "                    return True\n",
    "                \n",
    "                matrix_minus(i,j,matrix,key,M)\n",
    "\n",
    "    return False"
   ]
  },
  {
   "cell_type": "code",
   "execution_count": 205,
   "metadata": {},
   "outputs": [],
   "source": [
    "key = [[0,0,0],[1,0,0],[0,1,1]]\n",
    "lock = [[1,1,1],[1,1,0],[1,0,1]]"
   ]
  },
  {
   "cell_type": "code",
   "execution_count": 206,
   "metadata": {},
   "outputs": [
    {
     "data": {
      "text/plain": [
       "True"
      ]
     },
     "execution_count": 206,
     "metadata": {},
     "output_type": "execute_result"
    }
   ],
   "source": [
    "solution(key,lock)"
   ]
  }
 ],
 "metadata": {
  "kernelspec": {
   "display_name": "Python 3",
   "language": "python",
   "name": "python3"
  },
  "language_info": {
   "codemirror_mode": {
    "name": "ipython",
    "version": 3
   },
   "file_extension": ".py",
   "mimetype": "text/x-python",
   "name": "python",
   "nbconvert_exporter": "python",
   "pygments_lexer": "ipython3",
   "version": "3.7.4"
  }
 },
 "nbformat": 4,
 "nbformat_minor": 2
}
