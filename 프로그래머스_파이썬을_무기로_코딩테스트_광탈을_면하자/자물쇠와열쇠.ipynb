{
 "cells": [
  {
   "cell_type": "code",
   "execution_count": 198,
   "metadata": {},
   "outputs": [],
   "source": [
    "from copy import deepcopy"
   ]
  },
  {
   "cell_type": "code",
   "execution_count": 204,
   "metadata": {},
   "outputs": [
    {
     "data": {
      "text/plain": [
       "True"
      ]
     },
     "execution_count": 204,
     "metadata": {},
     "output_type": "execute_result"
    }
   ],
   "source": [
    "from copy import deepcopy\n",
    "\n",
    "def rotate_a_matrix_by_90_degree(a):\n",
    "  n = len(a) # 행 길이 계산\n",
    "  m = len(a[0]) # 열 길이 계산\n",
    "\n",
    "    result = [[0] * n for _ in range(m)] ## 결과 리스\n",
    "    for i in range(n):\n",
    "        for j in range(m):\n",
    "            result[j][n-i-1] = a[i][j]\n",
    "\n",
    "    return result\n",
    "\n",
    "def check_sum(b):\n",
    "    for i in range(len(b)//3):\n",
    "        for j in range(len(b)//3):\n",
    "            if b[len(b)//3 + i][len(b)//3 + j] != 1:\n",
    "                return False\n",
    "    \n",
    "    return True\n",
    "\n",
    "def matrix_sum(a,b,l,k): ## b의 (i,j)부터 a를 대입\n",
    "    bb = deepcopy(b)\n",
    "    for i in range(len(a)):\n",
    "        for j in range(len(a)):\n",
    "            bb[l+i][k+j] += a[i][j]\n",
    "\n",
    "    return check_sum(bb)\n",
    "\n",
    "\n",
    "        \n",
    "def solution(key,lock):\n",
    "    d = [[0]*len(lock)*3 for _ in range(len(lock)*3)] \n",
    "    for i in range(len(lock)):\n",
    "        for j in range(len(lock)):\n",
    "            d[len(lock)+i][len(lock)+j] = lock[i][j]\n",
    "        \n",
    "    for r in range(4):\n",
    "        key = rotate_a_matrix_by_90_degree(key)\n",
    "        for i in range(len(d) - len(key)+1):\n",
    "            for j  in range(len(d) - len(key)+1):\n",
    "                if matrix_sum(key,d,i,j):\n",
    "                    return True\n",
    "\n",
    "    return False\n",
    "\n",
    "\n",
    "    "
   ]
  },
  {
   "cell_type": "code",
   "execution_count": 190,
   "metadata": {},
   "outputs": [
    {
     "data": {
      "text/plain": [
       "[[0, 0, 0], [1, 0, 0], [0, 1, 1]]"
      ]
     },
     "execution_count": 190,
     "metadata": {},
     "output_type": "execute_result"
    }
   ],
   "source": [
    "matrix"
   ]
  },
  {
   "cell_type": "code",
   "execution_count": null,
   "metadata": {},
   "outputs": [],
   "source": []
  }
 ],
 "metadata": {
  "kernelspec": {
   "display_name": "Python 3",
   "language": "python",
   "name": "python3"
  },
  "language_info": {
   "codemirror_mode": {
    "name": "ipython",
    "version": 3
   },
   "file_extension": ".py",
   "mimetype": "text/x-python",
   "name": "python",
   "nbconvert_exporter": "python",
   "pygments_lexer": "ipython3",
   "version": "3.7.4"
  }
 },
 "nbformat": 4,
 "nbformat_minor": 2
}
